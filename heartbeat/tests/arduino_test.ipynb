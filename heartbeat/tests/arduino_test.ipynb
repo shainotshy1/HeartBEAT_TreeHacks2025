{
 "cells": [
  {
   "cell_type": "code",
   "execution_count": 40,
   "metadata": {},
   "outputs": [
    {
     "name": "stdout",
     "output_type": "stream",
     "text": [
      "The autoreload extension is already loaded. To reload it, use:\n",
      "  %reload_ext autoreload\n"
     ]
    }
   ],
   "source": [
    "%load_ext autoreload\n",
    "%autoreload 2"
   ]
  },
  {
   "cell_type": "code",
   "execution_count": 27,
   "metadata": {},
   "outputs": [],
   "source": [
    "import os\n",
    "from dotenv import load_dotenv\n",
    "\n",
    "load_dotenv()\n",
    "\n",
    "PORT = os.getenv(\"PORT\")\n",
    "BAUDRATE = os.getenv(\"BAUDRATE\")"
   ]
  },
  {
   "cell_type": "code",
   "execution_count": 28,
   "metadata": {},
   "outputs": [
    {
     "data": {
      "text/plain": [
       "'/dev/cu.usbmodem1201'"
      ]
     },
     "execution_count": 28,
     "metadata": {},
     "output_type": "execute_result"
    }
   ],
   "source": [
    "PORT"
   ]
  },
  {
   "cell_type": "code",
   "execution_count": 29,
   "metadata": {},
   "outputs": [],
   "source": [
    "from heartbeat.heartbeat_sensor.heartbeat_sensors import ArduinoHeartbeatSensor"
   ]
  },
  {
   "cell_type": "code",
   "execution_count": 30,
   "metadata": {},
   "outputs": [],
   "source": [
    "hs = ArduinoHeartbeatSensor(serial_port=PORT, baud_rate=BAUDRATE)"
   ]
  },
  {
   "cell_type": "code",
   "execution_count": 31,
   "metadata": {},
   "outputs": [
    {
     "name": "stderr",
     "output_type": "stream",
     "text": [
      "  0%|          | 0/1000 [00:00<?, ?it/s]"
     ]
    },
    {
     "data": {
      "image/png": "[encoded data removed]",
      "text/plain": [
       "<Figure size 640x480 with 1 Axes>"
      ]
     },
     "metadata": {},
     "output_type": "display_data"
    },
    {
     "data": {
      "text/plain": [
       "<Figure size 640x480 with 0 Axes>"
      ]
     },
     "metadata": {},
     "output_type": "display_data"
    },
    {
     "name": "stderr",
     "output_type": "stream",
     "text": [
      "  0%|          | 2/1000 [00:00<00:57, 17.34it/s]"
     ]
    },
    {
     "data": {
      "text/plain": [
       "<Figure size 640x480 with 0 Axes>"
      ]
     },
     "metadata": {},
     "output_type": "display_data"
    },
    {
     "data": {
      "text/plain": [
       "<Figure size 640x480 with 0 Axes>"
      ]
     },
     "metadata": {},
     "output_type": "display_data"
    },
    {
     "data": {
      "text/plain": [
       "<Figure size 640x480 with 0 Axes>"
      ]
     },
     "metadata": {},
     "output_type": "display_data"
    },
    {
     "data": {
      "text/plain": [
       "<Figure size 640x480 with 0 Axes>"
      ]
     },
     "metadata": {},
     "output_type": "display_data"
    },
    {
     "name": "stderr",
     "output_type": "stream",
     "text": [
      "  1%|          | 6/1000 [00:00<00:33, 29.50it/s]"
     ]
    },
    {
     "data": {
      "text/plain": [
       "<Figure size 640x480 with 0 Axes>"
      ]
     },
     "metadata": {},
     "output_type": "display_data"
    },
    {
     "data": {
      "text/plain": [
       "<Figure size 640x480 with 0 Axes>"
      ]
     },
     "metadata": {},
     "output_type": "display_data"
    },
    {
     "data": {
      "text/plain": [
       "<Figure size 640x480 with 0 Axes>"
      ]
     },
     "metadata": {},
     "output_type": "display_data"
    },
    {
     "data": {
      "text/plain": [
       "<Figure size 640x480 with 0 Axes>"
      ]
     },
     "metadata": {},
     "output_type": "display_data"
    },
    {
     "name": "stderr",
     "output_type": "stream",
     "text": [
      "  1%|          | 10/1000 [00:00<00:29, 33.62it/s]"
     ]
    },
    {
     "data": {
      "text/plain": [
       "<Figure size 640x480 with 0 Axes>"
      ]
     },
     "metadata": {},
     "output_type": "display_data"
    },
    {
     "data": {
      "text/plain": [
       "<Figure size 640x480 with 0 Axes>"
      ]
     },
     "metadata": {},
     "output_type": "display_data"
    },
    {
     "data": {
      "text/plain": [
       "<Figure size 640x480 with 0 Axes>"
      ]
     },
     "metadata": {},
     "output_type": "display_data"
    },
    {
     "data": {
      "text/plain": [
       "<Figure size 640x480 with 0 Axes>"
      ]
     },
     "metadata": {},
     "output_type": "display_data"
    },
    {
     "name": "stderr",
     "output_type": "stream",
     "text": [
      "  1%|▏         | 14/1000 [00:00<00:28, 35.04it/s]"
     ]
    },
    {
     "data": {
      "text/plain": [
       "<Figure size 640x480 with 0 Axes>"
      ]
     },
     "metadata": {},
     "output_type": "display_data"
    },
    {
     "data": {
      "text/plain": [
       "<Figure size 640x480 with 0 Axes>"
      ]
     },
     "metadata": {},
     "output_type": "display_data"
    },
    {
     "data": {
      "text/plain": [
       "<Figure size 640x480 with 0 Axes>"
      ]
     },
     "metadata": {},
     "output_type": "display_data"
    },
    {
     "data": {
      "text/plain": [
       "<Figure size 640x480 with 0 Axes>"
      ]
     },
     "metadata": {},
     "output_type": "display_data"
    },
    {
     "name": "stderr",
     "output_type": "stream",
     "text": [
      "  2%|▏         | 18/1000 [00:00<00:33, 29.67it/s]"
     ]
    },
    {
     "data": {
      "text/plain": [
       "<Figure size 640x480 with 0 Axes>"
      ]
     },
     "metadata": {},
     "output_type": "display_data"
    },
    {
     "data": {
      "text/plain": [
       "<Figure size 640x480 with 0 Axes>"
      ]
     },
     "metadata": {},
     "output_type": "display_data"
    },
    {
     "data": {
      "text/plain": [
       "<Figure size 640x480 with 0 Axes>"
      ]
     },
     "metadata": {},
     "output_type": "display_data"
    },
    {
     "data": {
      "text/plain": [
       "<Figure size 640x480 with 0 Axes>"
      ]
     },
     "metadata": {},
     "output_type": "display_data"
    },
    {
     "name": "stderr",
     "output_type": "stream",
     "text": [
      "  2%|▏         | 22/1000 [00:00<00:30, 32.31it/s]"
     ]
    },
    {
     "data": {
      "text/plain": [
       "<Figure size 640x480 with 0 Axes>"
      ]
     },
     "metadata": {},
     "output_type": "display_data"
    },
    {
     "data": {
      "text/plain": [
       "<Figure size 640x480 with 0 Axes>"
      ]
     },
     "metadata": {},
     "output_type": "display_data"
    },
    {
     "data": {
      "text/plain": [
       "<Figure size 640x480 with 0 Axes>"
      ]
     },
     "metadata": {},
     "output_type": "display_data"
    },
    {
     "data": {
      "text/plain": [
       "<Figure size 640x480 with 0 Axes>"
      ]
     },
     "metadata": {},
     "output_type": "display_data"
    },
    {
     "name": "stderr",
     "output_type": "stream",
     "text": [
      "  3%|▎         | 26/1000 [00:00<00:28, 34.03it/s]"
     ]
    },
    {
     "data": {
      "text/plain": [
       "<Figure size 640x480 with 0 Axes>"
      ]
     },
     "metadata": {},
     "output_type": "display_data"
    },
    {
     "data": {
      "text/plain": [
       "<Figure size 640x480 with 0 Axes>"
      ]
     },
     "metadata": {},
     "output_type": "display_data"
    },
    {
     "data": {
      "text/plain": [
       "<Figure size 640x480 with 0 Axes>"
      ]
     },
     "metadata": {},
     "output_type": "display_data"
    },
    {
     "data": {
      "text/plain": [
       "<Figure size 640x480 with 0 Axes>"
      ]
     },
     "metadata": {},
     "output_type": "display_data"
    },
    {
     "name": "stderr",
     "output_type": "stream",
     "text": [
      "  3%|▎         | 30/1000 [00:00<00:27, 35.21it/s]"
     ]
    },
    {
     "data": {
      "text/plain": [
       "<Figure size 640x480 with 0 Axes>"
      ]
     },
     "metadata": {},
     "output_type": "display_data"
    },
    {
     "data": {
      "text/plain": [
       "<Figure size 640x480 with 0 Axes>"
      ]
     },
     "metadata": {},
     "output_type": "display_data"
    },
    {
     "data": {
      "text/plain": [
       "<Figure size 640x480 with 0 Axes>"
      ]
     },
     "metadata": {},
     "output_type": "display_data"
    },
    {
     "data": {
      "text/plain": [
       "<Figure size 640x480 with 0 Axes>"
      ]
     },
     "metadata": {},
     "output_type": "display_data"
    },
    {
     "name": "stderr",
     "output_type": "stream",
     "text": [
      "  3%|▎         | 34/1000 [00:01<00:29, 33.13it/s]"
     ]
    },
    {
     "data": {
      "text/plain": [
       "<Figure size 640x480 with 0 Axes>"
      ]
     },
     "metadata": {},
     "output_type": "display_data"
    },
    {
     "data": {
      "text/plain": [
       "<Figure size 640x480 with 0 Axes>"
      ]
     },
     "metadata": {},
     "output_type": "display_data"
    },
    {
     "data": {
      "text/plain": [
       "<Figure size 640x480 with 0 Axes>"
      ]
     },
     "metadata": {},
     "output_type": "display_data"
    },
    {
     "data": {
      "text/plain": [
       "<Figure size 640x480 with 0 Axes>"
      ]
     },
     "metadata": {},
     "output_type": "display_data"
    },
    {
     "name": "stderr",
     "output_type": "stream",
     "text": [
      "  4%|▍         | 38/1000 [00:01<00:27, 34.64it/s]"
     ]
    },
    {
     "data": {
      "text/plain": [
       "<Figure size 640x480 with 0 Axes>"
      ]
     },
     "metadata": {},
     "output_type": "display_data"
    },
    {
     "data": {
      "text/plain": [
       "<Figure size 640x480 with 0 Axes>"
      ]
     },
     "metadata": {},
     "output_type": "display_data"
    },
    {
     "data": {
      "text/plain": [
       "<Figure size 640x480 with 0 Axes>"
      ]
     },
     "metadata": {},
     "output_type": "display_data"
    },
    {
     "data": {
      "text/plain": [
       "<Figure size 640x480 with 0 Axes>"
      ]
     },
     "metadata": {},
     "output_type": "display_data"
    },
    {
     "name": "stderr",
     "output_type": "stream",
     "text": [
      "  4%|▍         | 42/1000 [00:01<00:26, 35.79it/s]"
     ]
    },
    {
     "data": {
      "text/plain": [
       "<Figure size 640x480 with 0 Axes>"
      ]
     },
     "metadata": {},
     "output_type": "display_data"
    },
    {
     "data": {
      "text/plain": [
       "<Figure size 640x480 with 0 Axes>"
      ]
     },
     "metadata": {},
     "output_type": "display_data"
    },
    {
     "data": {
      "text/plain": [
       "<Figure size 640x480 with 0 Axes>"
      ]
     },
     "metadata": {},
     "output_type": "display_data"
    },
    {
     "data": {
      "text/plain": [
       "<Figure size 640x480 with 0 Axes>"
      ]
     },
     "metadata": {},
     "output_type": "display_data"
    },
    {
     "name": "stderr",
     "output_type": "stream",
     "text": [
      "  5%|▍         | 46/1000 [00:01<00:26, 36.34it/s]"
     ]
    },
    {
     "data": {
      "text/plain": [
       "<Figure size 640x480 with 0 Axes>"
      ]
     },
     "metadata": {},
     "output_type": "display_data"
    },
    {
     "data": {
      "text/plain": [
       "<Figure size 640x480 with 0 Axes>"
      ]
     },
     "metadata": {},
     "output_type": "display_data"
    },
    {
     "data": {
      "text/plain": [
       "<Figure size 640x480 with 0 Axes>"
      ]
     },
     "metadata": {},
     "output_type": "display_data"
    },
    {
     "data": {
      "text/plain": [
       "<Figure size 640x480 with 0 Axes>"
      ]
     },
     "metadata": {},
     "output_type": "display_data"
    },
    {
     "name": "stderr",
     "output_type": "stream",
     "text": [
      "  5%|▌         | 50/1000 [00:01<00:25, 37.18it/s]"
     ]
    },
    {
     "data": {
      "text/plain": [
       "<Figure size 640x480 with 0 Axes>"
      ]
     },
     "metadata": {},
     "output_type": "display_data"
    },
    {
     "data": {
      "text/plain": [
       "<Figure size 640x480 with 0 Axes>"
      ]
     },
     "metadata": {},
     "output_type": "display_data"
    },
    {
     "data": {
      "text/plain": [
       "<Figure size 640x480 with 0 Axes>"
      ]
     },
     "metadata": {},
     "output_type": "display_data"
    },
    {
     "data": {
      "text/plain": [
       "<Figure size 640x480 with 0 Axes>"
      ]
     },
     "metadata": {},
     "output_type": "display_data"
    },
    {
     "name": "stderr",
     "output_type": "stream",
     "text": [
      "  5%|▌         | 54/1000 [00:01<00:27, 34.24it/s]"
     ]
    },
    {
     "data": {
      "text/plain": [
       "<Figure size 640x480 with 0 Axes>"
      ]
     },
     "metadata": {},
     "output_type": "display_data"
    },
    {
     "data": {
      "text/plain": [
       "<Figure size 640x480 with 0 Axes>"
      ]
     },
     "metadata": {},
     "output_type": "display_data"
    },
    {
     "data": {
      "text/plain": [
       "<Figure size 640x480 with 0 Axes>"
      ]
     },
     "metadata": {},
     "output_type": "display_data"
    },
    {
     "data": {
      "text/plain": [
       "<Figure size 640x480 with 0 Axes>"
      ]
     },
     "metadata": {},
     "output_type": "display_data"
    },
    {
     "name": "stderr",
     "output_type": "stream",
     "text": [
      "  6%|▌         | 58/1000 [00:01<00:26, 35.56it/s]"
     ]
    },
    {
     "data": {
      "text/plain": [
       "<Figure size 640x480 with 0 Axes>"
      ]
     },
     "metadata": {},
     "output_type": "display_data"
    },
    {
     "data": {
      "text/plain": [
       "<Figure size 640x480 with 0 Axes>"
      ]
     },
     "metadata": {},
     "output_type": "display_data"
    },
    {
     "data": {
      "text/plain": [
       "<Figure size 640x480 with 0 Axes>"
      ]
     },
     "metadata": {},
     "output_type": "display_data"
    },
    {
     "data": {
      "text/plain": [
       "<Figure size 640x480 with 0 Axes>"
      ]
     },
     "metadata": {},
     "output_type": "display_data"
    },
    {
     "name": "stderr",
     "output_type": "stream",
     "text": [
      "  6%|▌         | 62/1000 [00:01<00:25, 36.74it/s]"
     ]
    },
    {
     "data": {
      "text/plain": [
       "<Figure size 640x480 with 0 Axes>"
      ]
     },
     "metadata": {},
     "output_type": "display_data"
    },
    {
     "data": {
      "text/plain": [
       "<Figure size 640x480 with 0 Axes>"
      ]
     },
     "metadata": {},
     "output_type": "display_data"
    },
    {
     "data": {
      "text/plain": [
       "<Figure size 640x480 with 0 Axes>"
      ]
     },
     "metadata": {},
     "output_type": "display_data"
    },
    {
     "data": {
      "text/plain": [
       "<Figure size 640x480 with 0 Axes>"
      ]
     },
     "metadata": {},
     "output_type": "display_data"
    },
    {
     "name": "stderr",
     "output_type": "stream",
     "text": [
      "  7%|▋         | 66/1000 [00:01<00:25, 36.86it/s]"
     ]
    },
    {
     "data": {
      "text/plain": [
       "<Figure size 640x480 with 0 Axes>"
      ]
     },
     "metadata": {},
     "output_type": "display_data"
    },
    {
     "data": {
      "text/plain": [
       "<Figure size 640x480 with 0 Axes>"
      ]
     },
     "metadata": {},
     "output_type": "display_data"
    },
    {
     "data": {
      "text/plain": [
       "<Figure size 640x480 with 0 Axes>"
      ]
     },
     "metadata": {},
     "output_type": "display_data"
    },
    {
     "data": {
      "text/plain": [
       "<Figure size 640x480 with 0 Axes>"
      ]
     },
     "metadata": {},
     "output_type": "display_data"
    },
    {
     "name": "stderr",
     "output_type": "stream",
     "text": [
      "  7%|▋         | 70/1000 [00:02<00:26, 35.23it/s]"
     ]
    },
    {
     "data": {
      "text/plain": [
       "<Figure size 640x480 with 0 Axes>"
      ]
     },
     "metadata": {},
     "output_type": "display_data"
    },
    {
     "data": {
      "text/plain": [
       "<Figure size 640x480 with 0 Axes>"
      ]
     },
     "metadata": {},
     "output_type": "display_data"
    },
    {
     "data": {
      "text/plain": [
       "<Figure size 640x480 with 0 Axes>"
      ]
     },
     "metadata": {},
     "output_type": "display_data"
    },
    {
     "data": {
      "text/plain": [
       "<Figure size 640x480 with 0 Axes>"
      ]
     },
     "metadata": {},
     "output_type": "display_data"
    },
    {
     "name": "stderr",
     "output_type": "stream",
     "text": [
      "  7%|▋         | 74/1000 [00:02<00:25, 36.19it/s]"
     ]
    },
    {
     "data": {
      "text/plain": [
       "<Figure size 640x480 with 0 Axes>"
      ]
     },
     "metadata": {},
     "output_type": "display_data"
    },
    {
     "data": {
      "text/plain": [
       "<Figure size 640x480 with 0 Axes>"
      ]
     },
     "metadata": {},
     "output_type": "display_data"
    },
    {
     "data": {
      "text/plain": [
       "<Figure size 640x480 with 0 Axes>"
      ]
     },
     "metadata": {},
     "output_type": "display_data"
    },
    {
     "data": {
      "text/plain": [
       "<Figure size 640x480 with 0 Axes>"
      ]
     },
     "metadata": {},
     "output_type": "display_data"
    },
    {
     "name": "stderr",
     "output_type": "stream",
     "text": [
      "  8%|▊         | 78/1000 [00:02<00:25, 36.61it/s]"
     ]
    },
    {
     "data": {
      "text/plain": [
       "<Figure size 640x480 with 0 Axes>"
      ]
     },
     "metadata": {},
     "output_type": "display_data"
    },
    {
     "data": {
      "text/plain": [
       "<Figure size 640x480 with 0 Axes>"
      ]
     },
     "metadata": {},
     "output_type": "display_data"
    },
    {
     "data": {
      "text/plain": [
       "<Figure size 640x480 with 0 Axes>"
      ]
     },
     "metadata": {},
     "output_type": "display_data"
    },
    {
     "data": {
      "text/plain": [
       "<Figure size 640x480 with 0 Axes>"
      ]
     },
     "metadata": {},
     "output_type": "display_data"
    },
    {
     "name": "stderr",
     "output_type": "stream",
     "text": [
      "  8%|▊         | 82/1000 [00:02<00:24, 37.01it/s]"
     ]
    },
    {
     "data": {
      "text/plain": [
       "<Figure size 640x480 with 0 Axes>"
      ]
     },
     "metadata": {},
     "output_type": "display_data"
    },
    {
     "data": {
      "text/plain": [
       "<Figure size 640x480 with 0 Axes>"
      ]
     },
     "metadata": {},
     "output_type": "display_data"
    },
    {
     "data": {
      "text/plain": [
       "<Figure size 640x480 with 0 Axes>"
      ]
     },
     "metadata": {},
     "output_type": "display_data"
    },
    {
     "data": {
      "text/plain": [
       "<Figure size 640x480 with 0 Axes>"
      ]
     },
     "metadata": {},
     "output_type": "display_data"
    },
    {
     "name": "stderr",
     "output_type": "stream",
     "text": [
      "  9%|▊         | 86/1000 [00:02<00:26, 34.41it/s]"
     ]
    },
    {
     "data": {
      "text/plain": [
       "<Figure size 640x480 with 0 Axes>"
      ]
     },
     "metadata": {},
     "output_type": "display_data"
    },
    {
     "data": {
      "text/plain": [
       "<Figure size 640x480 with 0 Axes>"
      ]
     },
     "metadata": {},
     "output_type": "display_data"
    },
    {
     "data": {
      "text/plain": [
       "<Figure size 640x480 with 0 Axes>"
      ]
     },
     "metadata": {},
     "output_type": "display_data"
    },
    {
     "data": {
      "text/plain": [
       "<Figure size 640x480 with 0 Axes>"
      ]
     },
     "metadata": {},
     "output_type": "display_data"
    },
    {
     "name": "stderr",
     "output_type": "stream",
     "text": [
      "  9%|▉         | 90/1000 [00:02<00:25, 35.47it/s]"
     ]
    },
    {
     "data": {
      "text/plain": [
       "<Figure size 640x480 with 0 Axes>"
      ]
     },
     "metadata": {},
     "output_type": "display_data"
    },
    {
     "data": {
      "text/plain": [
       "<Figure size 640x480 with 0 Axes>"
      ]
     },
     "metadata": {},
     "output_type": "display_data"
    },
    {
     "data": {
      "text/plain": [
       "<Figure size 640x480 with 0 Axes>"
      ]
     },
     "metadata": {},
     "output_type": "display_data"
    },
    {
     "data": {
      "text/plain": [
       "<Figure size 640x480 with 0 Axes>"
      ]
     },
     "metadata": {},
     "output_type": "display_data"
    },
    {
     "name": "stderr",
     "output_type": "stream",
     "text": [
      "  9%|▉         | 94/1000 [00:02<00:25, 36.14it/s]"
     ]
    },
    {
     "data": {
      "text/plain": [
       "<Figure size 640x480 with 0 Axes>"
      ]
     },
     "metadata": {},
     "output_type": "display_data"
    },
    {
     "data": {
      "text/plain": [
       "<Figure size 640x480 with 0 Axes>"
      ]
     },
     "metadata": {},
     "output_type": "display_data"
    },
    {
     "data": {
      "text/plain": [
       "<Figure size 640x480 with 0 Axes>"
      ]
     },
     "metadata": {},
     "output_type": "display_data"
    },
    {
     "data": {
      "text/plain": [
       "<Figure size 640x480 with 0 Axes>"
      ]
     },
     "metadata": {},
     "output_type": "display_data"
    },
    {
     "name": "stderr",
     "output_type": "stream",
     "text": [
      " 10%|▉         | 98/1000 [00:02<00:24, 36.53it/s]"
     ]
    },
    {
     "data": {
      "text/plain": [
       "<Figure size 640x480 with 0 Axes>"
      ]
     },
     "metadata": {},
     "output_type": "display_data"
    },
    {
     "data": {
      "text/plain": [
       "<Figure size 640x480 with 0 Axes>"
      ]
     },
     "metadata": {},
     "output_type": "display_data"
    },
    {
     "data": {
      "text/plain": [
       "<Figure size 640x480 with 0 Axes>"
      ]
     },
     "metadata": {},
     "output_type": "display_data"
    },
    {
     "data": {
      "text/plain": [
       "<Figure size 640x480 with 0 Axes>"
      ]
     },
     "metadata": {},
     "output_type": "display_data"
    },
    {
     "name": "stderr",
     "output_type": "stream",
     "text": [
      " 10%|█         | 102/1000 [00:02<00:25, 34.90it/s]"
     ]
    },
    {
     "data": {
      "text/plain": [
       "<Figure size 640x480 with 0 Axes>"
      ]
     },
     "metadata": {},
     "output_type": "display_data"
    },
    {
     "data": {
      "text/plain": [
       "<Figure size 640x480 with 0 Axes>"
      ]
     },
     "metadata": {},
     "output_type": "display_data"
    },
    {
     "data": {
      "text/plain": [
       "<Figure size 640x480 with 0 Axes>"
      ]
     },
     "metadata": {},
     "output_type": "display_data"
    },
    {
     "data": {
      "text/plain": [
       "<Figure size 640x480 with 0 Axes>"
      ]
     },
     "metadata": {},
     "output_type": "display_data"
    },
    {
     "name": "stderr",
     "output_type": "stream",
     "text": [
      " 11%|█         | 106/1000 [00:03<00:24, 35.94it/s]"
     ]
    },
    {
     "data": {
      "text/plain": [
       "<Figure size 640x480 with 0 Axes>"
      ]
     },
     "metadata": {},
     "output_type": "display_data"
    },
    {
     "data": {
      "text/plain": [
       "<Figure size 640x480 with 0 Axes>"
      ]
     },
     "metadata": {},
     "output_type": "display_data"
    },
    {
     "data": {
      "text/plain": [
       "<Figure size 640x480 with 0 Axes>"
      ]
     },
     "metadata": {},
     "output_type": "display_data"
    },
    {
     "data": {
      "text/plain": [
       "<Figure size 640x480 with 0 Axes>"
      ]
     },
     "metadata": {},
     "output_type": "display_data"
    },
    {
     "name": "stderr",
     "output_type": "stream",
     "text": [
      " 11%|█         | 110/1000 [00:03<00:24, 36.80it/s]"
     ]
    },
    {
     "data": {
      "text/plain": [
       "<Figure size 640x480 with 0 Axes>"
      ]
     },
     "metadata": {},
     "output_type": "display_data"
    },
    {
     "data": {
      "text/plain": [
       "<Figure size 640x480 with 0 Axes>"
      ]
     },
     "metadata": {},
     "output_type": "display_data"
    },
    {
     "data": {
      "text/plain": [
       "<Figure size 640x480 with 0 Axes>"
      ]
     },
     "metadata": {},
     "output_type": "display_data"
    },
    {
     "data": {
      "text/plain": [
       "<Figure size 640x480 with 0 Axes>"
      ]
     },
     "metadata": {},
     "output_type": "display_data"
    },
    {
     "name": "stderr",
     "output_type": "stream",
     "text": [
      " 11%|█▏        | 114/1000 [00:03<00:23, 37.44it/s]"
     ]
    },
    {
     "data": {
      "text/plain": [
       "<Figure size 640x480 with 0 Axes>"
      ]
     },
     "metadata": {},
     "output_type": "display_data"
    },
    {
     "data": {
      "text/plain": [
       "<Figure size 640x480 with 0 Axes>"
      ]
     },
     "metadata": {},
     "output_type": "display_data"
    },
    {
     "data": {
      "text/plain": [
       "<Figure size 640x480 with 0 Axes>"
      ]
     },
     "metadata": {},
     "output_type": "display_data"
    },
    {
     "data": {
      "text/plain": [
       "<Figure size 640x480 with 0 Axes>"
      ]
     },
     "metadata": {},
     "output_type": "display_data"
    },
    {
     "name": "stderr",
     "output_type": "stream",
     "text": [
      " 12%|█▏        | 118/1000 [00:03<00:25, 34.69it/s]"
     ]
    },
    {
     "data": {
      "text/plain": [
       "<Figure size 640x480 with 0 Axes>"
      ]
     },
     "metadata": {},
     "output_type": "display_data"
    },
    {
     "data": {
      "text/plain": [
       "<Figure size 640x480 with 0 Axes>"
      ]
     },
     "metadata": {},
     "output_type": "display_data"
    },
    {
     "data": {
      "text/plain": [
       "<Figure size 640x480 with 0 Axes>"
      ]
     },
     "metadata": {},
     "output_type": "display_data"
    },
    {
     "data": {
      "text/plain": [
       "<Figure size 640x480 with 0 Axes>"
      ]
     },
     "metadata": {},
     "output_type": "display_data"
    },
    {
     "name": "stderr",
     "output_type": "stream",
     "text": [
      " 12%|█▏        | 122/1000 [00:03<00:24, 35.39it/s]"
     ]
    },
    {
     "data": {
      "text/plain": [
       "<Figure size 640x480 with 0 Axes>"
      ]
     },
     "metadata": {},
     "output_type": "display_data"
    },
    {
     "data": {
      "text/plain": [
       "<Figure size 640x480 with 0 Axes>"
      ]
     },
     "metadata": {},
     "output_type": "display_data"
    },
    {
     "data": {
      "text/plain": [
       "<Figure size 640x480 with 0 Axes>"
      ]
     },
     "metadata": {},
     "output_type": "display_data"
    },
    {
     "data": {
      "text/plain": [
       "<Figure size 640x480 with 0 Axes>"
      ]
     },
     "metadata": {},
     "output_type": "display_data"
    },
    {
     "name": "stderr",
     "output_type": "stream",
     "text": [
      " 13%|█▎        | 126/1000 [00:03<00:24, 36.20it/s]"
     ]
    },
    {
     "data": {
      "text/plain": [
       "<Figure size 640x480 with 0 Axes>"
      ]
     },
     "metadata": {},
     "output_type": "display_data"
    },
    {
     "data": {
      "text/plain": [
       "<Figure size 640x480 with 0 Axes>"
      ]
     },
     "metadata": {},
     "output_type": "display_data"
    },
    {
     "data": {
      "text/plain": [
       "<Figure size 640x480 with 0 Axes>"
      ]
     },
     "metadata": {},
     "output_type": "display_data"
    },
    {
     "data": {
      "text/plain": [
       "<Figure size 640x480 with 0 Axes>"
      ]
     },
     "metadata": {},
     "output_type": "display_data"
    },
    {
     "data": {
      "text/plain": [
       "<Figure size 640x480 with 0 Axes>"
      ]
     },
     "metadata": {},
     "output_type": "display_data"
    },
    {
     "name": "stderr",
     "output_type": "stream",
     "text": [
      " 13%|█▎        | 131/1000 [00:03<00:22, 37.86it/s]"
     ]
    },
    {
     "data": {
      "text/plain": [
       "<Figure size 640x480 with 0 Axes>"
      ]
     },
     "metadata": {},
     "output_type": "display_data"
    },
    {
     "data": {
      "text/plain": [
       "<Figure size 640x480 with 0 Axes>"
      ]
     },
     "metadata": {},
     "output_type": "display_data"
    },
    {
     "data": {
      "text/plain": [
       "<Figure size 640x480 with 0 Axes>"
      ]
     },
     "metadata": {},
     "output_type": "display_data"
    },
    {
     "data": {
      "text/plain": [
       "<Figure size 640x480 with 0 Axes>"
      ]
     },
     "metadata": {},
     "output_type": "display_data"
    },
    {
     "name": "stderr",
     "output_type": "stream",
     "text": [
      " 14%|█▎        | 135/1000 [00:03<00:25, 33.70it/s]"
     ]
    },
    {
     "data": {
      "text/plain": [
       "<Figure size 640x480 with 0 Axes>"
      ]
     },
     "metadata": {},
     "output_type": "display_data"
    },
    {
     "data": {
      "text/plain": [
       "<Figure size 640x480 with 0 Axes>"
      ]
     },
     "metadata": {},
     "output_type": "display_data"
    },
    {
     "data": {
      "text/plain": [
       "<Figure size 640x480 with 0 Axes>"
      ]
     },
     "metadata": {},
     "output_type": "display_data"
    },
    {
     "data": {
      "text/plain": [
       "<Figure size 640x480 with 0 Axes>"
      ]
     },
     "metadata": {},
     "output_type": "display_data"
    },
    {
     "name": "stderr",
     "output_type": "stream",
     "text": [
      " 14%|█▍        | 139/1000 [00:03<00:24, 34.94it/s]"
     ]
    },
    {
     "data": {
      "text/plain": [
       "<Figure size 640x480 with 0 Axes>"
      ]
     },
     "metadata": {},
     "output_type": "display_data"
    },
    {
     "data": {
      "text/plain": [
       "<Figure size 640x480 with 0 Axes>"
      ]
     },
     "metadata": {},
     "output_type": "display_data"
    },
    {
     "data": {
      "text/plain": [
       "<Figure size 640x480 with 0 Axes>"
      ]
     },
     "metadata": {},
     "output_type": "display_data"
    },
    {
     "data": {
      "text/plain": [
       "<Figure size 640x480 with 0 Axes>"
      ]
     },
     "metadata": {},
     "output_type": "display_data"
    },
    {
     "name": "stderr",
     "output_type": "stream",
     "text": [
      " 14%|█▍        | 143/1000 [00:04<00:23, 36.26it/s]"
     ]
    },
    {
     "data": {
      "text/plain": [
       "<Figure size 640x480 with 0 Axes>"
      ]
     },
     "metadata": {},
     "output_type": "display_data"
    },
    {
     "data": {
      "text/plain": [
       "<Figure size 640x480 with 0 Axes>"
      ]
     },
     "metadata": {},
     "output_type": "display_data"
    },
    {
     "data": {
      "text/plain": [
       "<Figure size 640x480 with 0 Axes>"
      ]
     },
     "metadata": {},
     "output_type": "display_data"
    },
    {
     "data": {
      "text/plain": [
       "<Figure size 640x480 with 0 Axes>"
      ]
     },
     "metadata": {},
     "output_type": "display_data"
    },
    {
     "name": "stderr",
     "output_type": "stream",
     "text": [
      " 15%|█▍        | 147/1000 [00:04<00:23, 36.61it/s]"
     ]
    },
    {
     "data": {
      "text/plain": [
       "<Figure size 640x480 with 0 Axes>"
      ]
     },
     "metadata": {},
     "output_type": "display_data"
    },
    {
     "data": {
      "text/plain": [
       "<Figure size 640x480 with 0 Axes>"
      ]
     },
     "metadata": {},
     "output_type": "display_data"
    },
    {
     "data": {
      "text/plain": [
       "<Figure size 640x480 with 0 Axes>"
      ]
     },
     "metadata": {},
     "output_type": "display_data"
    },
    {
     "data": {
      "text/plain": [
       "<Figure size 640x480 with 0 Axes>"
      ]
     },
     "metadata": {},
     "output_type": "display_data"
    },
    {
     "name": "stderr",
     "output_type": "stream",
     "text": [
      " 15%|█▌        | 151/1000 [00:04<00:24, 34.22it/s]"
     ]
    },
    {
     "data": {
      "text/plain": [
       "<Figure size 640x480 with 0 Axes>"
      ]
     },
     "metadata": {},
     "output_type": "display_data"
    },
    {
     "data": {
      "text/plain": [
       "<Figure size 640x480 with 0 Axes>"
      ]
     },
     "metadata": {},
     "output_type": "display_data"
    },
    {
     "data": {
      "text/plain": [
       "<Figure size 640x480 with 0 Axes>"
      ]
     },
     "metadata": {},
     "output_type": "display_data"
    },
    {
     "data": {
      "text/plain": [
       "<Figure size 640x480 with 0 Axes>"
      ]
     },
     "metadata": {},
     "output_type": "display_data"
    },
    {
     "name": "stderr",
     "output_type": "stream",
     "text": [
      " 16%|█▌        | 155/1000 [00:04<00:23, 35.25it/s]"
     ]
    },
    {
     "data": {
      "text/plain": [
       "<Figure size 640x480 with 0 Axes>"
      ]
     },
     "metadata": {},
     "output_type": "display_data"
    },
    {
     "data": {
      "text/plain": [
       "<Figure size 640x480 with 0 Axes>"
      ]
     },
     "metadata": {},
     "output_type": "display_data"
    },
    {
     "data": {
      "text/plain": [
       "<Figure size 640x480 with 0 Axes>"
      ]
     },
     "metadata": {},
     "output_type": "display_data"
    },
    {
     "data": {
      "text/plain": [
       "<Figure size 640x480 with 0 Axes>"
      ]
     },
     "metadata": {},
     "output_type": "display_data"
    },
    {
     "name": "stderr",
     "output_type": "stream",
     "text": [
      " 16%|█▌        | 159/1000 [00:04<00:23, 36.24it/s]"
     ]
    },
    {
     "data": {
      "text/plain": [
       "<Figure size 640x480 with 0 Axes>"
      ]
     },
     "metadata": {},
     "output_type": "display_data"
    },
    {
     "data": {
      "text/plain": [
       "<Figure size 640x480 with 0 Axes>"
      ]
     },
     "metadata": {},
     "output_type": "display_data"
    },
    {
     "data": {
      "text/plain": [
       "<Figure size 640x480 with 0 Axes>"
      ]
     },
     "metadata": {},
     "output_type": "display_data"
    },
    {
     "data": {
      "text/plain": [
       "<Figure size 640x480 with 0 Axes>"
      ]
     },
     "metadata": {},
     "output_type": "display_data"
    },
    {
     "name": "stderr",
     "output_type": "stream",
     "text": [
      " 16%|█▋        | 163/1000 [00:04<00:22, 36.94it/s]"
     ]
    },
    {
     "data": {
      "text/plain": [
       "<Figure size 640x480 with 0 Axes>"
      ]
     },
     "metadata": {},
     "output_type": "display_data"
    },
    {
     "data": {
      "text/plain": [
       "<Figure size 640x480 with 0 Axes>"
      ]
     },
     "metadata": {},
     "output_type": "display_data"
    },
    {
     "data": {
      "text/plain": [
       "<Figure size 640x480 with 0 Axes>"
      ]
     },
     "metadata": {},
     "output_type": "display_data"
    },
    {
     "data": {
      "text/plain": [
       "<Figure size 640x480 with 0 Axes>"
      ]
     },
     "metadata": {},
     "output_type": "display_data"
    },
    {
     "name": "stderr",
     "output_type": "stream",
     "text": [
      " 17%|█▋        | 167/1000 [00:04<00:23, 35.20it/s]"
     ]
    },
    {
     "data": {
      "text/plain": [
       "<Figure size 640x480 with 0 Axes>"
      ]
     },
     "metadata": {},
     "output_type": "display_data"
    },
    {
     "data": {
      "text/plain": [
       "<Figure size 640x480 with 0 Axes>"
      ]
     },
     "metadata": {},
     "output_type": "display_data"
    },
    {
     "data": {
      "text/plain": [
       "<Figure size 640x480 with 0 Axes>"
      ]
     },
     "metadata": {},
     "output_type": "display_data"
    },
    {
     "data": {
      "text/plain": [
       "<Figure size 640x480 with 0 Axes>"
      ]
     },
     "metadata": {},
     "output_type": "display_data"
    },
    {
     "name": "stderr",
     "output_type": "stream",
     "text": [
      " 17%|█▋        | 171/1000 [00:04<00:23, 35.58it/s]"
     ]
    },
    {
     "data": {
      "text/plain": [
       "<Figure size 640x480 with 0 Axes>"
      ]
     },
     "metadata": {},
     "output_type": "display_data"
    },
    {
     "data": {
      "text/plain": [
       "<Figure size 640x480 with 0 Axes>"
      ]
     },
     "metadata": {},
     "output_type": "display_data"
    },
    {
     "data": {
      "text/plain": [
       "<Figure size 640x480 with 0 Axes>"
      ]
     },
     "metadata": {},
     "output_type": "display_data"
    },
    {
     "data": {
      "text/plain": [
       "<Figure size 640x480 with 0 Axes>"
      ]
     },
     "metadata": {},
     "output_type": "display_data"
    },
    {
     "name": "stderr",
     "output_type": "stream",
     "text": [
      " 18%|█▊        | 175/1000 [00:04<00:22, 36.47it/s]"
     ]
    },
    {
     "data": {
      "text/plain": [
       "<Figure size 640x480 with 0 Axes>"
      ]
     },
     "metadata": {},
     "output_type": "display_data"
    },
    {
     "data": {
      "text/plain": [
       "<Figure size 640x480 with 0 Axes>"
      ]
     },
     "metadata": {},
     "output_type": "display_data"
    },
    {
     "data": {
      "text/plain": [
       "<Figure size 640x480 with 0 Axes>"
      ]
     },
     "metadata": {},
     "output_type": "display_data"
    },
    {
     "data": {
      "text/plain": [
       "<Figure size 640x480 with 0 Axes>"
      ]
     },
     "metadata": {},
     "output_type": "display_data"
    },
    {
     "name": "stderr",
     "output_type": "stream",
     "text": [
      " 18%|█▊        | 179/1000 [00:05<00:22, 37.17it/s]"
     ]
    },
    {
     "data": {
      "text/plain": [
       "<Figure size 640x480 with 0 Axes>"
      ]
     },
     "metadata": {},
     "output_type": "display_data"
    },
    {
     "data": {
      "text/plain": [
       "<Figure size 640x480 with 0 Axes>"
      ]
     },
     "metadata": {},
     "output_type": "display_data"
    },
    {
     "data": {
      "text/plain": [
       "<Figure size 640x480 with 0 Axes>"
      ]
     },
     "metadata": {},
     "output_type": "display_data"
    },
    {
     "data": {
      "text/plain": [
       "<Figure size 640x480 with 0 Axes>"
      ]
     },
     "metadata": {},
     "output_type": "display_data"
    },
    {
     "name": "stderr",
     "output_type": "stream",
     "text": [
      " 18%|█▊        | 183/1000 [00:05<00:23, 34.46it/s]"
     ]
    },
    {
     "data": {
      "text/plain": [
       "<Figure size 640x480 with 0 Axes>"
      ]
     },
     "metadata": {},
     "output_type": "display_data"
    },
    {
     "data": {
      "text/plain": [
       "<Figure size 640x480 with 0 Axes>"
      ]
     },
     "metadata": {},
     "output_type": "display_data"
    },
    {
     "data": {
      "text/plain": [
       "<Figure size 640x480 with 0 Axes>"
      ]
     },
     "metadata": {},
     "output_type": "display_data"
    },
    {
     "data": {
      "text/plain": [
       "<Figure size 640x480 with 0 Axes>"
      ]
     },
     "metadata": {},
     "output_type": "display_data"
    },
    {
     "name": "stderr",
     "output_type": "stream",
     "text": [
      " 19%|█▊        | 187/1000 [00:05<00:23, 35.34it/s]"
     ]
    },
    {
     "data": {
      "text/plain": [
       "<Figure size 640x480 with 0 Axes>"
      ]
     },
     "metadata": {},
     "output_type": "display_data"
    },
    {
     "data": {
      "text/plain": [
       "<Figure size 640x480 with 0 Axes>"
      ]
     },
     "metadata": {},
     "output_type": "display_data"
    },
    {
     "data": {
      "text/plain": [
       "<Figure size 640x480 with 0 Axes>"
      ]
     },
     "metadata": {},
     "output_type": "display_data"
    },
    {
     "data": {
      "text/plain": [
       "<Figure size 640x480 with 0 Axes>"
      ]
     },
     "metadata": {},
     "output_type": "display_data"
    },
    {
     "name": "stderr",
     "output_type": "stream",
     "text": [
      " 19%|█▉        | 191/1000 [00:05<00:22, 36.51it/s]"
     ]
    },
    {
     "data": {
      "text/plain": [
       "<Figure size 640x480 with 0 Axes>"
      ]
     },
     "metadata": {},
     "output_type": "display_data"
    },
    {
     "data": {
      "text/plain": [
       "<Figure size 640x480 with 0 Axes>"
      ]
     },
     "metadata": {},
     "output_type": "display_data"
    },
    {
     "data": {
      "text/plain": [
       "<Figure size 640x480 with 0 Axes>"
      ]
     },
     "metadata": {},
     "output_type": "display_data"
    },
    {
     "data": {
      "text/plain": [
       "<Figure size 640x480 with 0 Axes>"
      ]
     },
     "metadata": {},
     "output_type": "display_data"
    },
    {
     "name": "stderr",
     "output_type": "stream",
     "text": [
      " 20%|█▉        | 195/1000 [00:05<00:21, 37.43it/s]"
     ]
    },
    {
     "data": {
      "text/plain": [
       "<Figure size 640x480 with 0 Axes>"
      ]
     },
     "metadata": {},
     "output_type": "display_data"
    },
    {
     "data": {
      "text/plain": [
       "<Figure size 640x480 with 0 Axes>"
      ]
     },
     "metadata": {},
     "output_type": "display_data"
    },
    {
     "data": {
      "text/plain": [
       "<Figure size 640x480 with 0 Axes>"
      ]
     },
     "metadata": {},
     "output_type": "display_data"
    },
    {
     "data": {
      "text/plain": [
       "<Figure size 640x480 with 0 Axes>"
      ]
     },
     "metadata": {},
     "output_type": "display_data"
    },
    {
     "name": "stderr",
     "output_type": "stream",
     "text": [
      " 20%|█▉        | 199/1000 [00:05<00:23, 33.95it/s]"
     ]
    },
    {
     "data": {
      "text/plain": [
       "<Figure size 640x480 with 0 Axes>"
      ]
     },
     "metadata": {},
     "output_type": "display_data"
    },
    {
     "data": {
      "text/plain": [
       "<Figure size 640x480 with 0 Axes>"
      ]
     },
     "metadata": {},
     "output_type": "display_data"
    },
    {
     "data": {
      "text/plain": [
       "<Figure size 640x480 with 0 Axes>"
      ]
     },
     "metadata": {},
     "output_type": "display_data"
    },
    {
     "data": {
      "text/plain": [
       "<Figure size 640x480 with 0 Axes>"
      ]
     },
     "metadata": {},
     "output_type": "display_data"
    },
    {
     "name": "stderr",
     "output_type": "stream",
     "text": [
      " 20%|██        | 203/1000 [00:05<00:22, 35.39it/s]"
     ]
    },
    {
     "data": {
      "text/plain": [
       "<Figure size 640x480 with 0 Axes>"
      ]
     },
     "metadata": {},
     "output_type": "display_data"
    },
    {
     "data": {
      "text/plain": [
       "<Figure size 640x480 with 0 Axes>"
      ]
     },
     "metadata": {},
     "output_type": "display_data"
    },
    {
     "data": {
      "text/plain": [
       "<Figure size 640x480 with 0 Axes>"
      ]
     },
     "metadata": {},
     "output_type": "display_data"
    },
    {
     "data": {
      "text/plain": [
       "<Figure size 640x480 with 0 Axes>"
      ]
     },
     "metadata": {},
     "output_type": "display_data"
    },
    {
     "name": "stderr",
     "output_type": "stream",
     "text": [
      " 21%|██        | 207/1000 [00:05<00:21, 36.24it/s]"
     ]
    },
    {
     "data": {
      "text/plain": [
       "<Figure size 640x480 with 0 Axes>"
      ]
     },
     "metadata": {},
     "output_type": "display_data"
    },
    {
     "data": {
      "text/plain": [
       "<Figure size 640x480 with 0 Axes>"
      ]
     },
     "metadata": {},
     "output_type": "display_data"
    },
    {
     "data": {
      "text/plain": [
       "<Figure size 640x480 with 0 Axes>"
      ]
     },
     "metadata": {},
     "output_type": "display_data"
    },
    {
     "data": {
      "text/plain": [
       "<Figure size 640x480 with 0 Axes>"
      ]
     },
     "metadata": {},
     "output_type": "display_data"
    },
    {
     "name": "stderr",
     "output_type": "stream",
     "text": [
      " 21%|██        | 211/1000 [00:05<00:21, 36.90it/s]"
     ]
    },
    {
     "data": {
      "text/plain": [
       "<Figure size 640x480 with 0 Axes>"
      ]
     },
     "metadata": {},
     "output_type": "display_data"
    },
    {
     "data": {
      "text/plain": [
       "<Figure size 640x480 with 0 Axes>"
      ]
     },
     "metadata": {},
     "output_type": "display_data"
    },
    {
     "data": {
      "text/plain": [
       "<Figure size 640x480 with 0 Axes>"
      ]
     },
     "metadata": {},
     "output_type": "display_data"
    },
    {
     "data": {
      "text/plain": [
       "<Figure size 640x480 with 0 Axes>"
      ]
     },
     "metadata": {},
     "output_type": "display_data"
    },
    {
     "name": "stderr",
     "output_type": "stream",
     "text": [
      " 22%|██▏       | 215/1000 [00:06<00:23, 34.07it/s]"
     ]
    },
    {
     "data": {
      "text/plain": [
       "<Figure size 640x480 with 0 Axes>"
      ]
     },
     "metadata": {},
     "output_type": "display_data"
    },
    {
     "data": {
      "text/plain": [
       "<Figure size 640x480 with 0 Axes>"
      ]
     },
     "metadata": {},
     "output_type": "display_data"
    },
    {
     "data": {
      "text/plain": [
       "<Figure size 640x480 with 0 Axes>"
      ]
     },
     "metadata": {},
     "output_type": "display_data"
    },
    {
     "data": {
      "text/plain": [
       "<Figure size 640x480 with 0 Axes>"
      ]
     },
     "metadata": {},
     "output_type": "display_data"
    },
    {
     "name": "stderr",
     "output_type": "stream",
     "text": [
      " 22%|██▏       | 219/1000 [00:06<00:22, 35.04it/s]"
     ]
    },
    {
     "data": {
      "text/plain": [
       "<Figure size 640x480 with 0 Axes>"
      ]
     },
     "metadata": {},
     "output_type": "display_data"
    },
    {
     "data": {
      "text/plain": [
       "<Figure size 640x480 with 0 Axes>"
      ]
     },
     "metadata": {},
     "output_type": "display_data"
    },
    {
     "data": {
      "text/plain": [
       "<Figure size 640x480 with 0 Axes>"
      ]
     },
     "metadata": {},
     "output_type": "display_data"
    },
    {
     "data": {
      "text/plain": [
       "<Figure size 640x480 with 0 Axes>"
      ]
     },
     "metadata": {},
     "output_type": "display_data"
    },
    {
     "name": "stderr",
     "output_type": "stream",
     "text": [
      " 22%|██▏       | 223/1000 [00:06<00:21, 35.84it/s]"
     ]
    },
    {
     "data": {
      "text/plain": [
       "<Figure size 640x480 with 0 Axes>"
      ]
     },
     "metadata": {},
     "output_type": "display_data"
    },
    {
     "data": {
      "text/plain": [
       "<Figure size 640x480 with 0 Axes>"
      ]
     },
     "metadata": {},
     "output_type": "display_data"
    },
    {
     "data": {
      "text/plain": [
       "<Figure size 640x480 with 0 Axes>"
      ]
     },
     "metadata": {},
     "output_type": "display_data"
    },
    {
     "data": {
      "text/plain": [
       "<Figure size 640x480 with 0 Axes>"
      ]
     },
     "metadata": {},
     "output_type": "display_data"
    },
    {
     "name": "stderr",
     "output_type": "stream",
     "text": [
      " 23%|██▎       | 227/1000 [00:06<00:21, 36.65it/s]"
     ]
    },
    {
     "data": {
      "text/plain": [
       "<Figure size 640x480 with 0 Axes>"
      ]
     },
     "metadata": {},
     "output_type": "display_data"
    },
    {
     "data": {
      "text/plain": [
       "<Figure size 640x480 with 0 Axes>"
      ]
     },
     "metadata": {},
     "output_type": "display_data"
    },
    {
     "data": {
      "text/plain": [
       "<Figure size 640x480 with 0 Axes>"
      ]
     },
     "metadata": {},
     "output_type": "display_data"
    },
    {
     "data": {
      "text/plain": [
       "<Figure size 640x480 with 0 Axes>"
      ]
     },
     "metadata": {},
     "output_type": "display_data"
    },
    {
     "name": "stderr",
     "output_type": "stream",
     "text": [
      " 23%|██▎       | 231/1000 [00:06<00:21, 36.27it/s]"
     ]
    },
    {
     "data": {
      "text/plain": [
       "<Figure size 640x480 with 0 Axes>"
      ]
     },
     "metadata": {},
     "output_type": "display_data"
    },
    {
     "data": {
      "text/plain": [
       "<Figure size 640x480 with 0 Axes>"
      ]
     },
     "metadata": {},
     "output_type": "display_data"
    },
    {
     "data": {
      "text/plain": [
       "<Figure size 640x480 with 0 Axes>"
      ]
     },
     "metadata": {},
     "output_type": "display_data"
    },
    {
     "data": {
      "text/plain": [
       "<Figure size 640x480 with 0 Axes>"
      ]
     },
     "metadata": {},
     "output_type": "display_data"
    },
    {
     "name": "stderr",
     "output_type": "stream",
     "text": [
      " 24%|██▎       | 235/1000 [00:06<00:22, 34.35it/s]"
     ]
    },
    {
     "data": {
      "text/plain": [
       "<Figure size 640x480 with 0 Axes>"
      ]
     },
     "metadata": {},
     "output_type": "display_data"
    },
    {
     "data": {
      "text/plain": [
       "<Figure size 640x480 with 0 Axes>"
      ]
     },
     "metadata": {},
     "output_type": "display_data"
    },
    {
     "data": {
      "text/plain": [
       "<Figure size 640x480 with 0 Axes>"
      ]
     },
     "metadata": {},
     "output_type": "display_data"
    },
    {
     "data": {
      "text/plain": [
       "<Figure size 640x480 with 0 Axes>"
      ]
     },
     "metadata": {},
     "output_type": "display_data"
    },
    {
     "name": "stderr",
     "output_type": "stream",
     "text": [
      " 24%|██▍       | 239/1000 [00:06<00:21, 35.66it/s]"
     ]
    },
    {
     "data": {
      "text/plain": [
       "<Figure size 640x480 with 0 Axes>"
      ]
     },
     "metadata": {},
     "output_type": "display_data"
    },
    {
     "data": {
      "text/plain": [
       "<Figure size 640x480 with 0 Axes>"
      ]
     },
     "metadata": {},
     "output_type": "display_data"
    },
    {
     "data": {
      "text/plain": [
       "<Figure size 640x480 with 0 Axes>"
      ]
     },
     "metadata": {},
     "output_type": "display_data"
    },
    {
     "data": {
      "text/plain": [
       "<Figure size 640x480 with 0 Axes>"
      ]
     },
     "metadata": {},
     "output_type": "display_data"
    },
    {
     "name": "stderr",
     "output_type": "stream",
     "text": [
      " 24%|██▍       | 243/1000 [00:06<00:20, 36.55it/s]"
     ]
    },
    {
     "data": {
      "text/plain": [
       "<Figure size 640x480 with 0 Axes>"
      ]
     },
     "metadata": {},
     "output_type": "display_data"
    },
    {
     "data": {
      "text/plain": [
       "<Figure size 640x480 with 0 Axes>"
      ]
     },
     "metadata": {},
     "output_type": "display_data"
    },
    {
     "data": {
      "text/plain": [
       "<Figure size 640x480 with 0 Axes>"
      ]
     },
     "metadata": {},
     "output_type": "display_data"
    },
    {
     "data": {
      "text/plain": [
       "<Figure size 640x480 with 0 Axes>"
      ]
     },
     "metadata": {},
     "output_type": "display_data"
    },
    {
     "name": "stderr",
     "output_type": "stream",
     "text": [
      " 25%|██▍       | 247/1000 [00:06<00:20, 37.07it/s]"
     ]
    },
    {
     "data": {
      "text/plain": [
       "<Figure size 640x480 with 0 Axes>"
      ]
     },
     "metadata": {},
     "output_type": "display_data"
    },
    {
     "data": {
      "text/plain": [
       "<Figure size 640x480 with 0 Axes>"
      ]
     },
     "metadata": {},
     "output_type": "display_data"
    },
    {
     "data": {
      "text/plain": [
       "<Figure size 640x480 with 0 Axes>"
      ]
     },
     "metadata": {},
     "output_type": "display_data"
    },
    {
     "data": {
      "text/plain": [
       "<Figure size 640x480 with 0 Axes>"
      ]
     },
     "metadata": {},
     "output_type": "display_data"
    },
    {
     "name": "stderr",
     "output_type": "stream",
     "text": [
      " 25%|██▌       | 251/1000 [00:07<00:21, 35.22it/s]"
     ]
    },
    {
     "data": {
      "text/plain": [
       "<Figure size 640x480 with 0 Axes>"
      ]
     },
     "metadata": {},
     "output_type": "display_data"
    },
    {
     "data": {
      "text/plain": [
       "<Figure size 640x480 with 0 Axes>"
      ]
     },
     "metadata": {},
     "output_type": "display_data"
    },
    {
     "data": {
      "text/plain": [
       "<Figure size 640x480 with 0 Axes>"
      ]
     },
     "metadata": {},
     "output_type": "display_data"
    },
    {
     "data": {
      "text/plain": [
       "<Figure size 640x480 with 0 Axes>"
      ]
     },
     "metadata": {},
     "output_type": "display_data"
    },
    {
     "name": "stderr",
     "output_type": "stream",
     "text": [
      " 26%|██▌       | 255/1000 [00:07<00:20, 36.19it/s]"
     ]
    },
    {
     "data": {
      "text/plain": [
       "<Figure size 640x480 with 0 Axes>"
      ]
     },
     "metadata": {},
     "output_type": "display_data"
    },
    {
     "data": {
      "text/plain": [
       "<Figure size 640x480 with 0 Axes>"
      ]
     },
     "metadata": {},
     "output_type": "display_data"
    },
    {
     "data": {
      "text/plain": [
       "<Figure size 640x480 with 0 Axes>"
      ]
     },
     "metadata": {},
     "output_type": "display_data"
    },
    {
     "data": {
      "text/plain": [
       "<Figure size 640x480 with 0 Axes>"
      ]
     },
     "metadata": {},
     "output_type": "display_data"
    },
    {
     "name": "stderr",
     "output_type": "stream",
     "text": [
      " 26%|██▌       | 259/1000 [00:07<00:20, 36.79it/s]"
     ]
    },
    {
     "data": {
      "text/plain": [
       "<Figure size 640x480 with 0 Axes>"
      ]
     },
     "metadata": {},
     "output_type": "display_data"
    },
    {
     "data": {
      "text/plain": [
       "<Figure size 640x480 with 0 Axes>"
      ]
     },
     "metadata": {},
     "output_type": "display_data"
    },
    {
     "data": {
      "text/plain": [
       "<Figure size 640x480 with 0 Axes>"
      ]
     },
     "metadata": {},
     "output_type": "display_data"
    },
    {
     "data": {
      "text/plain": [
       "<Figure size 640x480 with 0 Axes>"
      ]
     },
     "metadata": {},
     "output_type": "display_data"
    },
    {
     "name": "stderr",
     "output_type": "stream",
     "text": [
      " 26%|██▋       | 263/1000 [00:07<00:19, 37.07it/s]"
     ]
    },
    {
     "data": {
      "text/plain": [
       "<Figure size 640x480 with 0 Axes>"
      ]
     },
     "metadata": {},
     "output_type": "display_data"
    },
    {
     "data": {
      "text/plain": [
       "<Figure size 640x480 with 0 Axes>"
      ]
     },
     "metadata": {},
     "output_type": "display_data"
    },
    {
     "data": {
      "text/plain": [
       "<Figure size 640x480 with 0 Axes>"
      ]
     },
     "metadata": {},
     "output_type": "display_data"
    },
    {
     "data": {
      "text/plain": [
       "<Figure size 640x480 with 0 Axes>"
      ]
     },
     "metadata": {},
     "output_type": "display_data"
    },
    {
     "name": "stderr",
     "output_type": "stream",
     "text": [
      " 27%|██▋       | 267/1000 [00:07<00:21, 34.04it/s]"
     ]
    },
    {
     "data": {
      "text/plain": [
       "<Figure size 640x480 with 0 Axes>"
      ]
     },
     "metadata": {},
     "output_type": "display_data"
    },
    {
     "data": {
      "text/plain": [
       "<Figure size 640x480 with 0 Axes>"
      ]
     },
     "metadata": {},
     "output_type": "display_data"
    },
    {
     "data": {
      "text/plain": [
       "<Figure size 640x480 with 0 Axes>"
      ]
     },
     "metadata": {},
     "output_type": "display_data"
    },
    {
     "data": {
      "text/plain": [
       "<Figure size 640x480 with 0 Axes>"
      ]
     },
     "metadata": {},
     "output_type": "display_data"
    },
    {
     "name": "stderr",
     "output_type": "stream",
     "text": [
      " 27%|██▋       | 271/1000 [00:07<00:20, 35.24it/s]"
     ]
    },
    {
     "data": {
      "text/plain": [
       "<Figure size 640x480 with 0 Axes>"
      ]
     },
     "metadata": {},
     "output_type": "display_data"
    },
    {
     "data": {
      "text/plain": [
       "<Figure size 640x480 with 0 Axes>"
      ]
     },
     "metadata": {},
     "output_type": "display_data"
    },
    {
     "data": {
      "text/plain": [
       "<Figure size 640x480 with 0 Axes>"
      ]
     },
     "metadata": {},
     "output_type": "display_data"
    },
    {
     "data": {
      "text/plain": [
       "<Figure size 640x480 with 0 Axes>"
      ]
     },
     "metadata": {},
     "output_type": "display_data"
    },
    {
     "name": "stderr",
     "output_type": "stream",
     "text": [
      " 28%|██▊       | 275/1000 [00:07<00:19, 36.33it/s]"
     ]
    },
    {
     "data": {
      "text/plain": [
       "<Figure size 640x480 with 0 Axes>"
      ]
     },
     "metadata": {},
     "output_type": "display_data"
    },
    {
     "data": {
      "text/plain": [
       "<Figure size 640x480 with 0 Axes>"
      ]
     },
     "metadata": {},
     "output_type": "display_data"
    },
    {
     "data": {
      "text/plain": [
       "<Figure size 640x480 with 0 Axes>"
      ]
     },
     "metadata": {},
     "output_type": "display_data"
    },
    {
     "data": {
      "text/plain": [
       "<Figure size 640x480 with 0 Axes>"
      ]
     },
     "metadata": {},
     "output_type": "display_data"
    },
    {
     "name": "stderr",
     "output_type": "stream",
     "text": [
      " 28%|██▊       | 279/1000 [00:07<00:19, 36.66it/s]"
     ]
    },
    {
     "data": {
      "text/plain": [
       "<Figure size 640x480 with 0 Axes>"
      ]
     },
     "metadata": {},
     "output_type": "display_data"
    },
    {
     "data": {
      "text/plain": [
       "<Figure size 640x480 with 0 Axes>"
      ]
     },
     "metadata": {},
     "output_type": "display_data"
    },
    {
     "data": {
      "text/plain": [
       "<Figure size 640x480 with 0 Axes>"
      ]
     },
     "metadata": {},
     "output_type": "display_data"
    },
    {
     "data": {
      "text/plain": [
       "<Figure size 640x480 with 0 Axes>"
      ]
     },
     "metadata": {},
     "output_type": "display_data"
    },
    {
     "name": "stderr",
     "output_type": "stream",
     "text": [
      " 28%|██▊       | 283/1000 [00:08<00:21, 33.44it/s]"
     ]
    },
    {
     "data": {
      "text/plain": [
       "<Figure size 640x480 with 0 Axes>"
      ]
     },
     "metadata": {},
     "output_type": "display_data"
    },
    {
     "data": {
      "text/plain": [
       "<Figure size 640x480 with 0 Axes>"
      ]
     },
     "metadata": {},
     "output_type": "display_data"
    },
    {
     "data": {
      "text/plain": [
       "<Figure size 640x480 with 0 Axes>"
      ]
     },
     "metadata": {},
     "output_type": "display_data"
    },
    {
     "data": {
      "text/plain": [
       "<Figure size 640x480 with 0 Axes>"
      ]
     },
     "metadata": {},
     "output_type": "display_data"
    },
    {
     "name": "stderr",
     "output_type": "stream",
     "text": [
      " 29%|██▊       | 287/1000 [00:08<00:20, 35.10it/s]"
     ]
    },
    {
     "data": {
      "text/plain": [
       "<Figure size 640x480 with 0 Axes>"
      ]
     },
     "metadata": {},
     "output_type": "display_data"
    },
    {
     "data": {
      "text/plain": [
       "<Figure size 640x480 with 0 Axes>"
      ]
     },
     "metadata": {},
     "output_type": "display_data"
    },
    {
     "data": {
      "text/plain": [
       "<Figure size 640x480 with 0 Axes>"
      ]
     },
     "metadata": {},
     "output_type": "display_data"
    },
    {
     "data": {
      "text/plain": [
       "<Figure size 640x480 with 0 Axes>"
      ]
     },
     "metadata": {},
     "output_type": "display_data"
    },
    {
     "name": "stderr",
     "output_type": "stream",
     "text": [
      " 29%|██▉       | 291/1000 [00:08<00:19, 35.87it/s]"
     ]
    },
    {
     "data": {
      "text/plain": [
       "<Figure size 640x480 with 0 Axes>"
      ]
     },
     "metadata": {},
     "output_type": "display_data"
    },
    {
     "data": {
      "text/plain": [
       "<Figure size 640x480 with 0 Axes>"
      ]
     },
     "metadata": {},
     "output_type": "display_data"
    },
    {
     "data": {
      "text/plain": [
       "<Figure size 640x480 with 0 Axes>"
      ]
     },
     "metadata": {},
     "output_type": "display_data"
    },
    {
     "data": {
      "text/plain": [
       "<Figure size 640x480 with 0 Axes>"
      ]
     },
     "metadata": {},
     "output_type": "display_data"
    },
    {
     "name": "stderr",
     "output_type": "stream",
     "text": [
      " 30%|██▉       | 295/1000 [00:08<00:19, 36.63it/s]"
     ]
    },
    {
     "data": {
      "text/plain": [
       "<Figure size 640x480 with 0 Axes>"
      ]
     },
     "metadata": {},
     "output_type": "display_data"
    },
    {
     "data": {
      "text/plain": [
       "<Figure size 640x480 with 0 Axes>"
      ]
     },
     "metadata": {},
     "output_type": "display_data"
    },
    {
     "data": {
      "text/plain": [
       "<Figure size 640x480 with 0 Axes>"
      ]
     },
     "metadata": {},
     "output_type": "display_data"
    },
    {
     "data": {
      "text/plain": [
       "<Figure size 640x480 with 0 Axes>"
      ]
     },
     "metadata": {},
     "output_type": "display_data"
    },
    {
     "name": "stderr",
     "output_type": "stream",
     "text": [
      " 30%|██▉       | 299/1000 [00:08<00:21, 33.31it/s]"
     ]
    },
    {
     "data": {
      "text/plain": [
       "<Figure size 640x480 with 0 Axes>"
      ]
     },
     "metadata": {},
     "output_type": "display_data"
    },
    {
     "data": {
      "text/plain": [
       "<Figure size 640x480 with 0 Axes>"
      ]
     },
     "metadata": {},
     "output_type": "display_data"
    },
    {
     "data": {
      "text/plain": [
       "<Figure size 640x480 with 0 Axes>"
      ]
     },
     "metadata": {},
     "output_type": "display_data"
    },
    {
     "data": {
      "text/plain": [
       "<Figure size 640x480 with 0 Axes>"
      ]
     },
     "metadata": {},
     "output_type": "display_data"
    },
    {
     "name": "stderr",
     "output_type": "stream",
     "text": [
      " 30%|███       | 303/1000 [00:08<00:19, 34.88it/s]"
     ]
    },
    {
     "data": {
      "text/plain": [
       "<Figure size 640x480 with 0 Axes>"
      ]
     },
     "metadata": {},
     "output_type": "display_data"
    },
    {
     "data": {
      "text/plain": [
       "<Figure size 640x480 with 0 Axes>"
      ]
     },
     "metadata": {},
     "output_type": "display_data"
    },
    {
     "data": {
      "text/plain": [
       "<Figure size 640x480 with 0 Axes>"
      ]
     },
     "metadata": {},
     "output_type": "display_data"
    },
    {
     "data": {
      "text/plain": [
       "<Figure size 640x480 with 0 Axes>"
      ]
     },
     "metadata": {},
     "output_type": "display_data"
    },
    {
     "name": "stderr",
     "output_type": "stream",
     "text": [
      " 31%|███       | 307/1000 [00:08<00:19, 35.62it/s]"
     ]
    },
    {
     "data": {
      "text/plain": [
       "<Figure size 640x480 with 0 Axes>"
      ]
     },
     "metadata": {},
     "output_type": "display_data"
    },
    {
     "data": {
      "text/plain": [
       "<Figure size 640x480 with 0 Axes>"
      ]
     },
     "metadata": {},
     "output_type": "display_data"
    },
    {
     "data": {
      "text/plain": [
       "<Figure size 640x480 with 0 Axes>"
      ]
     },
     "metadata": {},
     "output_type": "display_data"
    },
    {
     "data": {
      "text/plain": [
       "<Figure size 640x480 with 0 Axes>"
      ]
     },
     "metadata": {},
     "output_type": "display_data"
    },
    {
     "name": "stderr",
     "output_type": "stream",
     "text": [
      " 31%|███       | 311/1000 [00:08<00:18, 36.54it/s]"
     ]
    },
    {
     "data": {
      "text/plain": [
       "<Figure size 640x480 with 0 Axes>"
      ]
     },
     "metadata": {},
     "output_type": "display_data"
    },
    {
     "data": {
      "text/plain": [
       "<Figure size 640x480 with 0 Axes>"
      ]
     },
     "metadata": {},
     "output_type": "display_data"
    },
    {
     "data": {
      "text/plain": [
       "<Figure size 640x480 with 0 Axes>"
      ]
     },
     "metadata": {},
     "output_type": "display_data"
    },
    {
     "data": {
      "text/plain": [
       "<Figure size 640x480 with 0 Axes>"
      ]
     },
     "metadata": {},
     "output_type": "display_data"
    },
    {
     "name": "stderr",
     "output_type": "stream",
     "text": [
      " 32%|███▏      | 315/1000 [00:08<00:20, 34.05it/s]"
     ]
    },
    {
     "data": {
      "text/plain": [
       "<Figure size 640x480 with 0 Axes>"
      ]
     },
     "metadata": {},
     "output_type": "display_data"
    },
    {
     "data": {
      "text/plain": [
       "<Figure size 640x480 with 0 Axes>"
      ]
     },
     "metadata": {},
     "output_type": "display_data"
    },
    {
     "data": {
      "text/plain": [
       "<Figure size 640x480 with 0 Axes>"
      ]
     },
     "metadata": {},
     "output_type": "display_data"
    },
    {
     "data": {
      "text/plain": [
       "<Figure size 640x480 with 0 Axes>"
      ]
     },
     "metadata": {},
     "output_type": "display_data"
    },
    {
     "name": "stderr",
     "output_type": "stream",
     "text": [
      " 32%|███▏      | 319/1000 [00:09<00:19, 34.34it/s]"
     ]
    },
    {
     "data": {
      "text/plain": [
       "<Figure size 640x480 with 0 Axes>"
      ]
     },
     "metadata": {},
     "output_type": "display_data"
    },
    {
     "data": {
      "text/plain": [
       "<Figure size 640x480 with 0 Axes>"
      ]
     },
     "metadata": {},
     "output_type": "display_data"
    },
    {
     "data": {
      "text/plain": [
       "<Figure size 640x480 with 0 Axes>"
      ]
     },
     "metadata": {},
     "output_type": "display_data"
    },
    {
     "data": {
      "text/plain": [
       "<Figure size 640x480 with 0 Axes>"
      ]
     },
     "metadata": {},
     "output_type": "display_data"
    },
    {
     "name": "stderr",
     "output_type": "stream",
     "text": [
      " 32%|███▏      | 323/1000 [00:09<00:18, 35.71it/s]"
     ]
    },
    {
     "data": {
      "text/plain": [
       "<Figure size 640x480 with 0 Axes>"
      ]
     },
     "metadata": {},
     "output_type": "display_data"
    },
    {
     "data": {
      "text/plain": [
       "<Figure size 640x480 with 0 Axes>"
      ]
     },
     "metadata": {},
     "output_type": "display_data"
    },
    {
     "data": {
      "text/plain": [
       "<Figure size 640x480 with 0 Axes>"
      ]
     },
     "metadata": {},
     "output_type": "display_data"
    },
    {
     "data": {
      "text/plain": [
       "<Figure size 640x480 with 0 Axes>"
      ]
     },
     "metadata": {},
     "output_type": "display_data"
    },
    {
     "name": "stderr",
     "output_type": "stream",
     "text": [
      " 33%|███▎      | 327/1000 [00:09<00:18, 36.03it/s]"
     ]
    },
    {
     "data": {
      "text/plain": [
       "<Figure size 640x480 with 0 Axes>"
      ]
     },
     "metadata": {},
     "output_type": "display_data"
    },
    {
     "data": {
      "text/plain": [
       "<Figure size 640x480 with 0 Axes>"
      ]
     },
     "metadata": {},
     "output_type": "display_data"
    },
    {
     "data": {
      "text/plain": [
       "<Figure size 640x480 with 0 Axes>"
      ]
     },
     "metadata": {},
     "output_type": "display_data"
    },
    {
     "data": {
      "text/plain": [
       "<Figure size 640x480 with 0 Axes>"
      ]
     },
     "metadata": {},
     "output_type": "display_data"
    },
    {
     "name": "stderr",
     "output_type": "stream",
     "text": [
      " 33%|███▎      | 331/1000 [00:09<00:19, 34.55it/s]"
     ]
    },
    {
     "data": {
      "text/plain": [
       "<Figure size 640x480 with 0 Axes>"
      ]
     },
     "metadata": {},
     "output_type": "display_data"
    },
    {
     "data": {
      "text/plain": [
       "<Figure size 640x480 with 0 Axes>"
      ]
     },
     "metadata": {},
     "output_type": "display_data"
    },
    {
     "data": {
      "text/plain": [
       "<Figure size 640x480 with 0 Axes>"
      ]
     },
     "metadata": {},
     "output_type": "display_data"
    },
    {
     "data": {
      "text/plain": [
       "<Figure size 640x480 with 0 Axes>"
      ]
     },
     "metadata": {},
     "output_type": "display_data"
    },
    {
     "name": "stderr",
     "output_type": "stream",
     "text": [
      " 34%|███▎      | 335/1000 [00:09<00:24, 26.63it/s]"
     ]
    },
    {
     "data": {
      "text/plain": [
       "<Figure size 640x480 with 0 Axes>"
      ]
     },
     "metadata": {},
     "output_type": "display_data"
    },
    {
     "data": {
      "text/plain": [
       "<Figure size 640x480 with 0 Axes>"
      ]
     },
     "metadata": {},
     "output_type": "display_data"
    },
    {
     "data": {
      "text/plain": [
       "<Figure size 640x480 with 0 Axes>"
      ]
     },
     "metadata": {},
     "output_type": "display_data"
    },
    {
     "data": {
      "text/plain": [
       "<Figure size 640x480 with 0 Axes>"
      ]
     },
     "metadata": {},
     "output_type": "display_data"
    },
    {
     "name": "stderr",
     "output_type": "stream",
     "text": [
      " 34%|███▍      | 339/1000 [00:09<00:23, 27.82it/s]"
     ]
    },
    {
     "data": {
      "text/plain": [
       "<Figure size 640x480 with 0 Axes>"
      ]
     },
     "metadata": {},
     "output_type": "display_data"
    },
    {
     "data": {
      "text/plain": [
       "<Figure size 640x480 with 0 Axes>"
      ]
     },
     "metadata": {},
     "output_type": "display_data"
    },
    {
     "data": {
      "text/plain": [
       "<Figure size 640x480 with 0 Axes>"
      ]
     },
     "metadata": {},
     "output_type": "display_data"
    },
    {
     "data": {
      "text/plain": [
       "<Figure size 640x480 with 0 Axes>"
      ]
     },
     "metadata": {},
     "output_type": "display_data"
    },
    {
     "name": "stderr",
     "output_type": "stream",
     "text": [
      " 34%|███▍      | 343/1000 [00:09<00:23, 27.96it/s]"
     ]
    },
    {
     "data": {
      "text/plain": [
       "<Figure size 640x480 with 0 Axes>"
      ]
     },
     "metadata": {},
     "output_type": "display_data"
    },
    {
     "data": {
      "text/plain": [
       "<Figure size 640x480 with 0 Axes>"
      ]
     },
     "metadata": {},
     "output_type": "display_data"
    },
    {
     "data": {
      "text/plain": [
       "<Figure size 640x480 with 0 Axes>"
      ]
     },
     "metadata": {},
     "output_type": "display_data"
    },
    {
     "data": {
      "text/plain": [
       "<Figure size 640x480 with 0 Axes>"
      ]
     },
     "metadata": {},
     "output_type": "display_data"
    },
    {
     "name": "stderr",
     "output_type": "stream",
     "text": [
      " 35%|███▍      | 347/1000 [00:09<00:21, 29.80it/s]"
     ]
    },
    {
     "data": {
      "text/plain": [
       "<Figure size 640x480 with 0 Axes>"
      ]
     },
     "metadata": {},
     "output_type": "display_data"
    },
    {
     "data": {
      "text/plain": [
       "<Figure size 640x480 with 0 Axes>"
      ]
     },
     "metadata": {},
     "output_type": "display_data"
    },
    {
     "data": {
      "text/plain": [
       "<Figure size 640x480 with 0 Axes>"
      ]
     },
     "metadata": {},
     "output_type": "display_data"
    },
    {
     "data": {
      "text/plain": [
       "<Figure size 640x480 with 0 Axes>"
      ]
     },
     "metadata": {},
     "output_type": "display_data"
    },
    {
     "name": "stderr",
     "output_type": "stream",
     "text": [
      " 35%|███▌      | 351/1000 [00:10<00:26, 24.48it/s]"
     ]
    },
    {
     "data": {
      "text/plain": [
       "<Figure size 640x480 with 0 Axes>"
      ]
     },
     "metadata": {},
     "output_type": "display_data"
    },
    {
     "data": {
      "text/plain": [
       "<Figure size 640x480 with 0 Axes>"
      ]
     },
     "metadata": {},
     "output_type": "display_data"
    },
    {
     "data": {
      "text/plain": [
       "<Figure size 640x480 with 0 Axes>"
      ]
     },
     "metadata": {},
     "output_type": "display_data"
    },
    {
     "name": "stderr",
     "output_type": "stream",
     "text": [
      " 35%|███▌      | 354/1000 [00:10<00:25, 25.07it/s]"
     ]
    },
    {
     "data": {
      "text/plain": [
       "<Figure size 640x480 with 0 Axes>"
      ]
     },
     "metadata": {},
     "output_type": "display_data"
    },
    {
     "data": {
      "text/plain": [
       "<Figure size 640x480 with 0 Axes>"
      ]
     },
     "metadata": {},
     "output_type": "display_data"
    },
    {
     "data": {
      "text/plain": [
       "<Figure size 640x480 with 0 Axes>"
      ]
     },
     "metadata": {},
     "output_type": "display_data"
    },
    {
     "data": {
      "text/plain": [
       "<Figure size 640x480 with 0 Axes>"
      ]
     },
     "metadata": {},
     "output_type": "display_data"
    },
    {
     "name": "stderr",
     "output_type": "stream",
     "text": [
      " 36%|███▌      | 358/1000 [00:10<00:22, 28.05it/s]"
     ]
    },
    {
     "data": {
      "text/plain": [
       "<Figure size 640x480 with 0 Axes>"
      ]
     },
     "metadata": {},
     "output_type": "display_data"
    },
    {
     "data": {
      "text/plain": [
       "<Figure size 640x480 with 0 Axes>"
      ]
     },
     "metadata": {},
     "output_type": "display_data"
    },
    {
     "data": {
      "text/plain": [
       "<Figure size 640x480 with 0 Axes>"
      ]
     },
     "metadata": {},
     "output_type": "display_data"
    },
    {
     "data": {
      "text/plain": [
       "<Figure size 640x480 with 0 Axes>"
      ]
     },
     "metadata": {},
     "output_type": "display_data"
    },
    {
     "name": "stderr",
     "output_type": "stream",
     "text": [
      " 36%|███▌      | 362/1000 [00:10<00:20, 30.86it/s]"
     ]
    },
    {
     "data": {
      "text/plain": [
       "<Figure size 640x480 with 0 Axes>"
      ]
     },
     "metadata": {},
     "output_type": "display_data"
    },
    {
     "data": {
      "text/plain": [
       "<Figure size 640x480 with 0 Axes>"
      ]
     },
     "metadata": {},
     "output_type": "display_data"
    },
    {
     "data": {
      "text/plain": [
       "<Figure size 640x480 with 0 Axes>"
      ]
     },
     "metadata": {},
     "output_type": "display_data"
    },
    {
     "data": {
      "text/plain": [
       "<Figure size 640x480 with 0 Axes>"
      ]
     },
     "metadata": {},
     "output_type": "display_data"
    },
    {
     "name": "stderr",
     "output_type": "stream",
     "text": [
      " 37%|███▋      | 366/1000 [00:10<00:24, 26.06it/s]"
     ]
    },
    {
     "data": {
      "text/plain": [
       "<Figure size 640x480 with 0 Axes>"
      ]
     },
     "metadata": {},
     "output_type": "display_data"
    },
    {
     "data": {
      "text/plain": [
       "<Figure size 640x480 with 0 Axes>"
      ]
     },
     "metadata": {},
     "output_type": "display_data"
    },
    {
     "data": {
      "text/plain": [
       "<Figure size 640x480 with 0 Axes>"
      ]
     },
     "metadata": {},
     "output_type": "display_data"
    },
    {
     "data": {
      "text/plain": [
       "<Figure size 640x480 with 0 Axes>"
      ]
     },
     "metadata": {},
     "output_type": "display_data"
    },
    {
     "name": "stderr",
     "output_type": "stream",
     "text": [
      " 37%|███▋      | 370/1000 [00:10<00:21, 28.75it/s]"
     ]
    },
    {
     "data": {
      "text/plain": [
       "<Figure size 640x480 with 0 Axes>"
      ]
     },
     "metadata": {},
     "output_type": "display_data"
    },
    {
     "data": {
      "text/plain": [
       "<Figure size 640x480 with 0 Axes>"
      ]
     },
     "metadata": {},
     "output_type": "display_data"
    },
    {
     "data": {
      "text/plain": [
       "<Figure size 640x480 with 0 Axes>"
      ]
     },
     "metadata": {},
     "output_type": "display_data"
    },
    {
     "data": {
      "text/plain": [
       "<Figure size 640x480 with 0 Axes>"
      ]
     },
     "metadata": {},
     "output_type": "display_data"
    },
    {
     "name": "stderr",
     "output_type": "stream",
     "text": [
      " 37%|███▋      | 374/1000 [00:10<00:20, 30.74it/s]"
     ]
    },
    {
     "data": {
      "text/plain": [
       "<Figure size 640x480 with 0 Axes>"
      ]
     },
     "metadata": {},
     "output_type": "display_data"
    },
    {
     "data": {
      "text/plain": [
       "<Figure size 640x480 with 0 Axes>"
      ]
     },
     "metadata": {},
     "output_type": "display_data"
    },
    {
     "data": {
      "text/plain": [
       "<Figure size 640x480 with 0 Axes>"
      ]
     },
     "metadata": {},
     "output_type": "display_data"
    },
    {
     "data": {
      "text/plain": [
       "<Figure size 640x480 with 0 Axes>"
      ]
     },
     "metadata": {},
     "output_type": "display_data"
    },
    {
     "name": "stderr",
     "output_type": "stream",
     "text": [
      " 38%|███▊      | 378/1000 [00:11<00:19, 32.44it/s]"
     ]
    },
    {
     "data": {
      "text/plain": [
       "<Figure size 640x480 with 0 Axes>"
      ]
     },
     "metadata": {},
     "output_type": "display_data"
    },
    {
     "data": {
      "text/plain": [
       "<Figure size 640x480 with 0 Axes>"
      ]
     },
     "metadata": {},
     "output_type": "display_data"
    },
    {
     "data": {
      "text/plain": [
       "<Figure size 640x480 with 0 Axes>"
      ]
     },
     "metadata": {},
     "output_type": "display_data"
    },
    {
     "data": {
      "text/plain": [
       "<Figure size 640x480 with 0 Axes>"
      ]
     },
     "metadata": {},
     "output_type": "display_data"
    },
    {
     "name": "stderr",
     "output_type": "stream",
     "text": [
      " 38%|███▊      | 382/1000 [00:11<00:19, 31.59it/s]"
     ]
    },
    {
     "data": {
      "text/plain": [
       "<Figure size 640x480 with 0 Axes>"
      ]
     },
     "metadata": {},
     "output_type": "display_data"
    },
    {
     "data": {
      "text/plain": [
       "<Figure size 640x480 with 0 Axes>"
      ]
     },
     "metadata": {},
     "output_type": "display_data"
    },
    {
     "data": {
      "text/plain": [
       "<Figure size 640x480 with 0 Axes>"
      ]
     },
     "metadata": {},
     "output_type": "display_data"
    },
    {
     "data": {
      "text/plain": [
       "<Figure size 640x480 with 0 Axes>"
      ]
     },
     "metadata": {},
     "output_type": "display_data"
    },
    {
     "name": "stderr",
     "output_type": "stream",
     "text": [
      " 39%|███▊      | 386/1000 [00:11<00:18, 32.44it/s]"
     ]
    },
    {
     "data": {
      "text/plain": [
       "<Figure size 640x480 with 0 Axes>"
      ]
     },
     "metadata": {},
     "output_type": "display_data"
    },
    {
     "data": {
      "text/plain": [
       "<Figure size 640x480 with 0 Axes>"
      ]
     },
     "metadata": {},
     "output_type": "display_data"
    },
    {
     "data": {
      "text/plain": [
       "<Figure size 640x480 with 0 Axes>"
      ]
     },
     "metadata": {},
     "output_type": "display_data"
    },
    {
     "data": {
      "text/plain": [
       "<Figure size 640x480 with 0 Axes>"
      ]
     },
     "metadata": {},
     "output_type": "display_data"
    },
    {
     "name": "stderr",
     "output_type": "stream",
     "text": [
      " 39%|███▉      | 390/1000 [00:11<00:18, 33.72it/s]"
     ]
    },
    {
     "data": {
      "text/plain": [
       "<Figure size 640x480 with 0 Axes>"
      ]
     },
     "metadata": {},
     "output_type": "display_data"
    },
    {
     "data": {
      "text/plain": [
       "<Figure size 640x480 with 0 Axes>"
      ]
     },
     "metadata": {},
     "output_type": "display_data"
    },
    {
     "data": {
      "text/plain": [
       "<Figure size 640x480 with 0 Axes>"
      ]
     },
     "metadata": {},
     "output_type": "display_data"
    },
    {
     "data": {
      "text/plain": [
       "<Figure size 640x480 with 0 Axes>"
      ]
     },
     "metadata": {},
     "output_type": "display_data"
    },
    {
     "name": "stderr",
     "output_type": "stream",
     "text": [
      " 39%|███▉      | 394/1000 [00:11<00:17, 34.91it/s]"
     ]
    },
    {
     "data": {
      "text/plain": [
       "<Figure size 640x480 with 0 Axes>"
      ]
     },
     "metadata": {},
     "output_type": "display_data"
    },
    {
     "data": {
      "text/plain": [
       "<Figure size 640x480 with 0 Axes>"
      ]
     },
     "metadata": {},
     "output_type": "display_data"
    },
    {
     "data": {
      "text/plain": [
       "<Figure size 640x480 with 0 Axes>"
      ]
     },
     "metadata": {},
     "output_type": "display_data"
    },
    {
     "data": {
      "text/plain": [
       "<Figure size 640x480 with 0 Axes>"
      ]
     },
     "metadata": {},
     "output_type": "display_data"
    },
    {
     "name": "stderr",
     "output_type": "stream",
     "text": [
      " 40%|███▉      | 398/1000 [00:11<00:17, 34.22it/s]"
     ]
    },
    {
     "data": {
      "text/plain": [
       "<Figure size 640x480 with 0 Axes>"
      ]
     },
     "metadata": {},
     "output_type": "display_data"
    },
    {
     "data": {
      "text/plain": [
       "<Figure size 640x480 with 0 Axes>"
      ]
     },
     "metadata": {},
     "output_type": "display_data"
    },
    {
     "data": {
      "text/plain": [
       "<Figure size 640x480 with 0 Axes>"
      ]
     },
     "metadata": {},
     "output_type": "display_data"
    },
    {
     "data": {
      "text/plain": [
       "<Figure size 640x480 with 0 Axes>"
      ]
     },
     "metadata": {},
     "output_type": "display_data"
    },
    {
     "name": "stderr",
     "output_type": "stream",
     "text": [
      " 40%|████      | 402/1000 [00:11<00:18, 32.85it/s]"
     ]
    },
    {
     "data": {
      "text/plain": [
       "<Figure size 640x480 with 0 Axes>"
      ]
     },
     "metadata": {},
     "output_type": "display_data"
    },
    {
     "data": {
      "text/plain": [
       "<Figure size 640x480 with 0 Axes>"
      ]
     },
     "metadata": {},
     "output_type": "display_data"
    },
    {
     "data": {
      "text/plain": [
       "<Figure size 640x480 with 0 Axes>"
      ]
     },
     "metadata": {},
     "output_type": "display_data"
    },
    {
     "data": {
      "text/plain": [
       "<Figure size 640x480 with 0 Axes>"
      ]
     },
     "metadata": {},
     "output_type": "display_data"
    },
    {
     "name": "stderr",
     "output_type": "stream",
     "text": [
      " 41%|████      | 406/1000 [00:11<00:17, 34.14it/s]"
     ]
    },
    {
     "data": {
      "text/plain": [
       "<Figure size 640x480 with 0 Axes>"
      ]
     },
     "metadata": {},
     "output_type": "display_data"
    },
    {
     "data": {
      "text/plain": [
       "<Figure size 640x480 with 0 Axes>"
      ]
     },
     "metadata": {},
     "output_type": "display_data"
    },
    {
     "data": {
      "text/plain": [
       "<Figure size 640x480 with 0 Axes>"
      ]
     },
     "metadata": {},
     "output_type": "display_data"
    },
    {
     "data": {
      "text/plain": [
       "<Figure size 640x480 with 0 Axes>"
      ]
     },
     "metadata": {},
     "output_type": "display_data"
    },
    {
     "name": "stderr",
     "output_type": "stream",
     "text": [
      " 41%|████      | 410/1000 [00:11<00:16, 35.55it/s]"
     ]
    },
    {
     "data": {
      "text/plain": [
       "<Figure size 640x480 with 0 Axes>"
      ]
     },
     "metadata": {},
     "output_type": "display_data"
    },
    {
     "data": {
      "text/plain": [
       "<Figure size 640x480 with 0 Axes>"
      ]
     },
     "metadata": {},
     "output_type": "display_data"
    },
    {
     "data": {
      "text/plain": [
       "<Figure size 640x480 with 0 Axes>"
      ]
     },
     "metadata": {},
     "output_type": "display_data"
    },
    {
     "data": {
      "text/plain": [
       "<Figure size 640x480 with 0 Axes>"
      ]
     },
     "metadata": {},
     "output_type": "display_data"
    },
    {
     "data": {
      "text/plain": [
       "<Figure size 640x480 with 0 Axes>"
      ]
     },
     "metadata": {},
     "output_type": "display_data"
    },
    {
     "name": "stderr",
     "output_type": "stream",
     "text": [
      " 42%|████▏     | 415/1000 [00:12<00:15, 37.13it/s]"
     ]
    },
    {
     "data": {
      "text/plain": [
       "<Figure size 640x480 with 0 Axes>"
      ]
     },
     "metadata": {},
     "output_type": "display_data"
    },
    {
     "data": {
      "text/plain": [
       "<Figure size 640x480 with 0 Axes>"
      ]
     },
     "metadata": {},
     "output_type": "display_data"
    },
    {
     "data": {
      "text/plain": [
       "<Figure size 640x480 with 0 Axes>"
      ]
     },
     "metadata": {},
     "output_type": "display_data"
    },
    {
     "data": {
      "text/plain": [
       "<Figure size 640x480 with 0 Axes>"
      ]
     },
     "metadata": {},
     "output_type": "display_data"
    },
    {
     "name": "stderr",
     "output_type": "stream",
     "text": [
      " 42%|████▏     | 419/1000 [00:12<00:16, 35.61it/s]"
     ]
    },
    {
     "data": {
      "text/plain": [
       "<Figure size 640x480 with 0 Axes>"
      ]
     },
     "metadata": {},
     "output_type": "display_data"
    },
    {
     "data": {
      "text/plain": [
       "<Figure size 640x480 with 0 Axes>"
      ]
     },
     "metadata": {},
     "output_type": "display_data"
    },
    {
     "data": {
      "text/plain": [
       "<Figure size 640x480 with 0 Axes>"
      ]
     },
     "metadata": {},
     "output_type": "display_data"
    },
    {
     "data": {
      "text/plain": [
       "<Figure size 640x480 with 0 Axes>"
      ]
     },
     "metadata": {},
     "output_type": "display_data"
    },
    {
     "name": "stderr",
     "output_type": "stream",
     "text": [
      " 42%|████▏     | 423/1000 [00:12<00:17, 32.32it/s]"
     ]
    },
    {
     "data": {
      "text/plain": [
       "<Figure size 640x480 with 0 Axes>"
      ]
     },
     "metadata": {},
     "output_type": "display_data"
    },
    {
     "data": {
      "text/plain": [
       "<Figure size 640x480 with 0 Axes>"
      ]
     },
     "metadata": {},
     "output_type": "display_data"
    },
    {
     "data": {
      "text/plain": [
       "<Figure size 640x480 with 0 Axes>"
      ]
     },
     "metadata": {},
     "output_type": "display_data"
    },
    {
     "data": {
      "text/plain": [
       "<Figure size 640x480 with 0 Axes>"
      ]
     },
     "metadata": {},
     "output_type": "display_data"
    },
    {
     "name": "stderr",
     "output_type": "stream",
     "text": [
      " 43%|████▎     | 427/1000 [00:12<00:16, 34.23it/s]"
     ]
    },
    {
     "data": {
      "text/plain": [
       "<Figure size 640x480 with 0 Axes>"
      ]
     },
     "metadata": {},
     "output_type": "display_data"
    },
    {
     "data": {
      "text/plain": [
       "<Figure size 640x480 with 0 Axes>"
      ]
     },
     "metadata": {},
     "output_type": "display_data"
    },
    {
     "data": {
      "text/plain": [
       "<Figure size 640x480 with 0 Axes>"
      ]
     },
     "metadata": {},
     "output_type": "display_data"
    },
    {
     "data": {
      "text/plain": [
       "<Figure size 640x480 with 0 Axes>"
      ]
     },
     "metadata": {},
     "output_type": "display_data"
    },
    {
     "name": "stderr",
     "output_type": "stream",
     "text": [
      " 43%|████▎     | 431/1000 [00:12<00:16, 35.39it/s]"
     ]
    },
    {
     "data": {
      "text/plain": [
       "<Figure size 640x480 with 0 Axes>"
      ]
     },
     "metadata": {},
     "output_type": "display_data"
    },
    {
     "data": {
      "text/plain": [
       "<Figure size 640x480 with 0 Axes>"
      ]
     },
     "metadata": {},
     "output_type": "display_data"
    },
    {
     "data": {
      "text/plain": [
       "<Figure size 640x480 with 0 Axes>"
      ]
     },
     "metadata": {},
     "output_type": "display_data"
    },
    {
     "data": {
      "text/plain": [
       "<Figure size 640x480 with 0 Axes>"
      ]
     },
     "metadata": {},
     "output_type": "display_data"
    },
    {
     "name": "stderr",
     "output_type": "stream",
     "text": [
      " 44%|████▎     | 435/1000 [00:12<00:15, 36.21it/s]"
     ]
    },
    {
     "data": {
      "text/plain": [
       "<Figure size 640x480 with 0 Axes>"
      ]
     },
     "metadata": {},
     "output_type": "display_data"
    },
    {
     "data": {
      "text/plain": [
       "<Figure size 640x480 with 0 Axes>"
      ]
     },
     "metadata": {},
     "output_type": "display_data"
    },
    {
     "data": {
      "text/plain": [
       "<Figure size 640x480 with 0 Axes>"
      ]
     },
     "metadata": {},
     "output_type": "display_data"
    },
    {
     "data": {
      "text/plain": [
       "<Figure size 640x480 with 0 Axes>"
      ]
     },
     "metadata": {},
     "output_type": "display_data"
    },
    {
     "data": {
      "text/plain": [
       "<Figure size 640x480 with 0 Axes>"
      ]
     },
     "metadata": {},
     "output_type": "display_data"
    },
    {
     "name": "stderr",
     "output_type": "stream",
     "text": [
      " 44%|████▍     | 440/1000 [00:12<00:14, 37.44it/s]"
     ]
    },
    {
     "data": {
      "text/plain": [
       "<Figure size 640x480 with 0 Axes>"
      ]
     },
     "metadata": {},
     "output_type": "display_data"
    },
    {
     "data": {
      "text/plain": [
       "<Figure size 640x480 with 0 Axes>"
      ]
     },
     "metadata": {},
     "output_type": "display_data"
    },
    {
     "data": {
      "text/plain": [
       "<Figure size 640x480 with 0 Axes>"
      ]
     },
     "metadata": {},
     "output_type": "display_data"
    },
    {
     "data": {
      "text/plain": [
       "<Figure size 640x480 with 0 Axes>"
      ]
     },
     "metadata": {},
     "output_type": "display_data"
    },
    {
     "name": "stderr",
     "output_type": "stream",
     "text": [
      " 44%|████▍     | 444/1000 [00:12<00:16, 34.46it/s]"
     ]
    },
    {
     "data": {
      "text/plain": [
       "<Figure size 640x480 with 0 Axes>"
      ]
     },
     "metadata": {},
     "output_type": "display_data"
    },
    {
     "data": {
      "text/plain": [
       "<Figure size 640x480 with 0 Axes>"
      ]
     },
     "metadata": {},
     "output_type": "display_data"
    },
    {
     "data": {
      "text/plain": [
       "<Figure size 640x480 with 0 Axes>"
      ]
     },
     "metadata": {},
     "output_type": "display_data"
    },
    {
     "data": {
      "text/plain": [
       "<Figure size 640x480 with 0 Axes>"
      ]
     },
     "metadata": {},
     "output_type": "display_data"
    },
    {
     "name": "stderr",
     "output_type": "stream",
     "text": [
      " 45%|████▍     | 448/1000 [00:13<00:15, 35.85it/s]"
     ]
    },
    {
     "data": {
      "text/plain": [
       "<Figure size 640x480 with 0 Axes>"
      ]
     },
     "metadata": {},
     "output_type": "display_data"
    },
    {
     "data": {
      "text/plain": [
       "<Figure size 640x480 with 0 Axes>"
      ]
     },
     "metadata": {},
     "output_type": "display_data"
    },
    {
     "data": {
      "text/plain": [
       "<Figure size 640x480 with 0 Axes>"
      ]
     },
     "metadata": {},
     "output_type": "display_data"
    },
    {
     "data": {
      "text/plain": [
       "<Figure size 640x480 with 0 Axes>"
      ]
     },
     "metadata": {},
     "output_type": "display_data"
    },
    {
     "name": "stderr",
     "output_type": "stream",
     "text": [
      " 45%|████▌     | 452/1000 [00:13<00:14, 36.86it/s]"
     ]
    },
    {
     "data": {
      "text/plain": [
       "<Figure size 640x480 with 0 Axes>"
      ]
     },
     "metadata": {},
     "output_type": "display_data"
    },
    {
     "data": {
      "text/plain": [
       "<Figure size 640x480 with 0 Axes>"
      ]
     },
     "metadata": {},
     "output_type": "display_data"
    },
    {
     "data": {
      "text/plain": [
       "<Figure size 640x480 with 0 Axes>"
      ]
     },
     "metadata": {},
     "output_type": "display_data"
    },
    {
     "data": {
      "text/plain": [
       "<Figure size 640x480 with 0 Axes>"
      ]
     },
     "metadata": {},
     "output_type": "display_data"
    },
    {
     "name": "stderr",
     "output_type": "stream",
     "text": [
      " 46%|████▌     | 456/1000 [00:13<00:14, 37.01it/s]"
     ]
    },
    {
     "data": {
      "text/plain": [
       "<Figure size 640x480 with 0 Axes>"
      ]
     },
     "metadata": {},
     "output_type": "display_data"
    },
    {
     "data": {
      "text/plain": [
       "<Figure size 640x480 with 0 Axes>"
      ]
     },
     "metadata": {},
     "output_type": "display_data"
    },
    {
     "data": {
      "text/plain": [
       "<Figure size 640x480 with 0 Axes>"
      ]
     },
     "metadata": {},
     "output_type": "display_data"
    },
    {
     "data": {
      "text/plain": [
       "<Figure size 640x480 with 0 Axes>"
      ]
     },
     "metadata": {},
     "output_type": "display_data"
    },
    {
     "name": "stderr",
     "output_type": "stream",
     "text": [
      " 46%|████▌     | 460/1000 [00:13<00:14, 37.71it/s]"
     ]
    },
    {
     "data": {
      "text/plain": [
       "<Figure size 640x480 with 0 Axes>"
      ]
     },
     "metadata": {},
     "output_type": "display_data"
    },
    {
     "data": {
      "text/plain": [
       "<Figure size 640x480 with 0 Axes>"
      ]
     },
     "metadata": {},
     "output_type": "display_data"
    },
    {
     "data": {
      "text/plain": [
       "<Figure size 640x480 with 0 Axes>"
      ]
     },
     "metadata": {},
     "output_type": "display_data"
    },
    {
     "data": {
      "text/plain": [
       "<Figure size 640x480 with 0 Axes>"
      ]
     },
     "metadata": {},
     "output_type": "display_data"
    },
    {
     "name": "stderr",
     "output_type": "stream",
     "text": [
      " 46%|████▋     | 464/1000 [00:13<00:14, 37.92it/s]"
     ]
    },
    {
     "data": {
      "text/plain": [
       "<Figure size 640x480 with 0 Axes>"
      ]
     },
     "metadata": {},
     "output_type": "display_data"
    },
    {
     "data": {
      "text/plain": [
       "<Figure size 640x480 with 0 Axes>"
      ]
     },
     "metadata": {},
     "output_type": "display_data"
    },
    {
     "data": {
      "text/plain": [
       "<Figure size 640x480 with 0 Axes>"
      ]
     },
     "metadata": {},
     "output_type": "display_data"
    },
    {
     "data": {
      "text/plain": [
       "<Figure size 640x480 with 0 Axes>"
      ]
     },
     "metadata": {},
     "output_type": "display_data"
    },
    {
     "name": "stderr",
     "output_type": "stream",
     "text": [
      " 47%|████▋     | 468/1000 [00:13<00:14, 35.93it/s]"
     ]
    },
    {
     "data": {
      "text/plain": [
       "<Figure size 640x480 with 0 Axes>"
      ]
     },
     "metadata": {},
     "output_type": "display_data"
    },
    {
     "data": {
      "text/plain": [
       "<Figure size 640x480 with 0 Axes>"
      ]
     },
     "metadata": {},
     "output_type": "display_data"
    },
    {
     "data": {
      "text/plain": [
       "<Figure size 640x480 with 0 Axes>"
      ]
     },
     "metadata": {},
     "output_type": "display_data"
    },
    {
     "data": {
      "text/plain": [
       "<Figure size 640x480 with 0 Axes>"
      ]
     },
     "metadata": {},
     "output_type": "display_data"
    },
    {
     "data": {
      "text/plain": [
       "<Figure size 640x480 with 0 Axes>"
      ]
     },
     "metadata": {},
     "output_type": "display_data"
    },
    {
     "name": "stderr",
     "output_type": "stream",
     "text": [
      " 47%|████▋     | 473/1000 [00:13<00:14, 37.20it/s]"
     ]
    },
    {
     "data": {
      "text/plain": [
       "<Figure size 640x480 with 0 Axes>"
      ]
     },
     "metadata": {},
     "output_type": "display_data"
    },
    {
     "data": {
      "text/plain": [
       "<Figure size 640x480 with 0 Axes>"
      ]
     },
     "metadata": {},
     "output_type": "display_data"
    },
    {
     "data": {
      "text/plain": [
       "<Figure size 640x480 with 0 Axes>"
      ]
     },
     "metadata": {},
     "output_type": "display_data"
    },
    {
     "data": {
      "text/plain": [
       "<Figure size 640x480 with 0 Axes>"
      ]
     },
     "metadata": {},
     "output_type": "display_data"
    },
    {
     "name": "stderr",
     "output_type": "stream",
     "text": [
      " 48%|████▊     | 477/1000 [00:13<00:13, 37.70it/s]"
     ]
    },
    {
     "data": {
      "text/plain": [
       "<Figure size 640x480 with 0 Axes>"
      ]
     },
     "metadata": {},
     "output_type": "display_data"
    },
    {
     "data": {
      "text/plain": [
       "<Figure size 640x480 with 0 Axes>"
      ]
     },
     "metadata": {},
     "output_type": "display_data"
    },
    {
     "data": {
      "text/plain": [
       "<Figure size 640x480 with 0 Axes>"
      ]
     },
     "metadata": {},
     "output_type": "display_data"
    },
    {
     "data": {
      "text/plain": [
       "<Figure size 640x480 with 0 Axes>"
      ]
     },
     "metadata": {},
     "output_type": "display_data"
    },
    {
     "name": "stderr",
     "output_type": "stream",
     "text": [
      " 48%|████▊     | 481/1000 [00:13<00:13, 37.67it/s]"
     ]
    },
    {
     "data": {
      "text/plain": [
       "<Figure size 640x480 with 0 Axes>"
      ]
     },
     "metadata": {},
     "output_type": "display_data"
    },
    {
     "data": {
      "text/plain": [
       "<Figure size 640x480 with 0 Axes>"
      ]
     },
     "metadata": {},
     "output_type": "display_data"
    },
    {
     "data": {
      "text/plain": [
       "<Figure size 640x480 with 0 Axes>"
      ]
     },
     "metadata": {},
     "output_type": "display_data"
    },
    {
     "data": {
      "text/plain": [
       "<Figure size 640x480 with 0 Axes>"
      ]
     },
     "metadata": {},
     "output_type": "display_data"
    },
    {
     "name": "stderr",
     "output_type": "stream",
     "text": [
      " 48%|████▊     | 485/1000 [00:14<00:13, 38.11it/s]"
     ]
    },
    {
     "data": {
      "text/plain": [
       "<Figure size 640x480 with 0 Axes>"
      ]
     },
     "metadata": {},
     "output_type": "display_data"
    },
    {
     "data": {
      "text/plain": [
       "<Figure size 640x480 with 0 Axes>"
      ]
     },
     "metadata": {},
     "output_type": "display_data"
    },
    {
     "data": {
      "text/plain": [
       "<Figure size 640x480 with 0 Axes>"
      ]
     },
     "metadata": {},
     "output_type": "display_data"
    },
    {
     "data": {
      "text/plain": [
       "<Figure size 640x480 with 0 Axes>"
      ]
     },
     "metadata": {},
     "output_type": "display_data"
    },
    {
     "name": "stderr",
     "output_type": "stream",
     "text": [
      " 49%|████▉     | 489/1000 [00:14<00:13, 38.01it/s]"
     ]
    },
    {
     "data": {
      "text/plain": [
       "<Figure size 640x480 with 0 Axes>"
      ]
     },
     "metadata": {},
     "output_type": "display_data"
    },
    {
     "data": {
      "text/plain": [
       "<Figure size 640x480 with 0 Axes>"
      ]
     },
     "metadata": {},
     "output_type": "display_data"
    },
    {
     "data": {
      "text/plain": [
       "<Figure size 640x480 with 0 Axes>"
      ]
     },
     "metadata": {},
     "output_type": "display_data"
    },
    {
     "data": {
      "text/plain": [
       "<Figure size 640x480 with 0 Axes>"
      ]
     },
     "metadata": {},
     "output_type": "display_data"
    },
    {
     "name": "stderr",
     "output_type": "stream",
     "text": [
      " 49%|████▉     | 493/1000 [00:14<00:15, 33.44it/s]"
     ]
    },
    {
     "data": {
      "text/plain": [
       "<Figure size 640x480 with 0 Axes>"
      ]
     },
     "metadata": {},
     "output_type": "display_data"
    },
    {
     "data": {
      "text/plain": [
       "<Figure size 640x480 with 0 Axes>"
      ]
     },
     "metadata": {},
     "output_type": "display_data"
    },
    {
     "data": {
      "text/plain": [
       "<Figure size 640x480 with 0 Axes>"
      ]
     },
     "metadata": {},
     "output_type": "display_data"
    },
    {
     "data": {
      "text/plain": [
       "<Figure size 640x480 with 0 Axes>"
      ]
     },
     "metadata": {},
     "output_type": "display_data"
    },
    {
     "name": "stderr",
     "output_type": "stream",
     "text": [
      " 50%|████▉     | 497/1000 [00:14<00:14, 34.79it/s]"
     ]
    },
    {
     "data": {
      "text/plain": [
       "<Figure size 640x480 with 0 Axes>"
      ]
     },
     "metadata": {},
     "output_type": "display_data"
    },
    {
     "data": {
      "text/plain": [
       "<Figure size 640x480 with 0 Axes>"
      ]
     },
     "metadata": {},
     "output_type": "display_data"
    },
    {
     "data": {
      "text/plain": [
       "<Figure size 640x480 with 0 Axes>"
      ]
     },
     "metadata": {},
     "output_type": "display_data"
    },
    {
     "data": {
      "text/plain": [
       "<Figure size 640x480 with 0 Axes>"
      ]
     },
     "metadata": {},
     "output_type": "display_data"
    },
    {
     "data": {
      "text/plain": [
       "<Figure size 640x480 with 0 Axes>"
      ]
     },
     "metadata": {},
     "output_type": "display_data"
    },
    {
     "name": "stderr",
     "output_type": "stream",
     "text": [
      " 50%|█████     | 502/1000 [00:14<00:13, 36.79it/s]"
     ]
    },
    {
     "data": {
      "text/plain": [
       "<Figure size 640x480 with 0 Axes>"
      ]
     },
     "metadata": {},
     "output_type": "display_data"
    },
    {
     "data": {
      "text/plain": [
       "<Figure size 640x480 with 0 Axes>"
      ]
     },
     "metadata": {},
     "output_type": "display_data"
    },
    {
     "data": {
      "text/plain": [
       "<Figure size 640x480 with 0 Axes>"
      ]
     },
     "metadata": {},
     "output_type": "display_data"
    },
    {
     "data": {
      "text/plain": [
       "<Figure size 640x480 with 0 Axes>"
      ]
     },
     "metadata": {},
     "output_type": "display_data"
    },
    {
     "name": "stderr",
     "output_type": "stream",
     "text": [
      " 51%|█████     | 506/1000 [00:14<00:13, 37.31it/s]"
     ]
    },
    {
     "data": {
      "text/plain": [
       "<Figure size 640x480 with 0 Axes>"
      ]
     },
     "metadata": {},
     "output_type": "display_data"
    },
    {
     "data": {
      "text/plain": [
       "<Figure size 640x480 with 0 Axes>"
      ]
     },
     "metadata": {},
     "output_type": "display_data"
    },
    {
     "data": {
      "text/plain": [
       "<Figure size 640x480 with 0 Axes>"
      ]
     },
     "metadata": {},
     "output_type": "display_data"
    },
    {
     "data": {
      "text/plain": [
       "<Figure size 640x480 with 0 Axes>"
      ]
     },
     "metadata": {},
     "output_type": "display_data"
    },
    {
     "name": "stderr",
     "output_type": "stream",
     "text": [
      " 51%|█████     | 510/1000 [00:14<00:12, 37.82it/s]"
     ]
    },
    {
     "data": {
      "text/plain": [
       "<Figure size 640x480 with 0 Axes>"
      ]
     },
     "metadata": {},
     "output_type": "display_data"
    },
    {
     "data": {
      "text/plain": [
       "<Figure size 640x480 with 0 Axes>"
      ]
     },
     "metadata": {},
     "output_type": "display_data"
    },
    {
     "data": {
      "text/plain": [
       "<Figure size 640x480 with 0 Axes>"
      ]
     },
     "metadata": {},
     "output_type": "display_data"
    },
    {
     "data": {
      "text/plain": [
       "<Figure size 640x480 with 0 Axes>"
      ]
     },
     "metadata": {},
     "output_type": "display_data"
    },
    {
     "name": "stderr",
     "output_type": "stream",
     "text": [
      " 51%|█████▏    | 514/1000 [00:14<00:12, 37.84it/s]"
     ]
    },
    {
     "data": {
      "text/plain": [
       "<Figure size 640x480 with 0 Axes>"
      ]
     },
     "metadata": {},
     "output_type": "display_data"
    },
    {
     "data": {
      "text/plain": [
       "<Figure size 640x480 with 0 Axes>"
      ]
     },
     "metadata": {},
     "output_type": "display_data"
    },
    {
     "data": {
      "text/plain": [
       "<Figure size 640x480 with 0 Axes>"
      ]
     },
     "metadata": {},
     "output_type": "display_data"
    },
    {
     "data": {
      "text/plain": [
       "<Figure size 640x480 with 0 Axes>"
      ]
     },
     "metadata": {},
     "output_type": "display_data"
    },
    {
     "name": "stderr",
     "output_type": "stream",
     "text": [
      " 52%|█████▏    | 518/1000 [00:15<00:15, 31.50it/s]"
     ]
    },
    {
     "data": {
      "text/plain": [
       "<Figure size 640x480 with 0 Axes>"
      ]
     },
     "metadata": {},
     "output_type": "display_data"
    },
    {
     "data": {
      "text/plain": [
       "<Figure size 640x480 with 0 Axes>"
      ]
     },
     "metadata": {},
     "output_type": "display_data"
    },
    {
     "data": {
      "text/plain": [
       "<Figure size 640x480 with 0 Axes>"
      ]
     },
     "metadata": {},
     "output_type": "display_data"
    },
    {
     "data": {
      "text/plain": [
       "<Figure size 640x480 with 0 Axes>"
      ]
     },
     "metadata": {},
     "output_type": "display_data"
    },
    {
     "name": "stderr",
     "output_type": "stream",
     "text": [
      " 52%|█████▏    | 522/1000 [00:15<00:14, 33.33it/s]"
     ]
    },
    {
     "data": {
      "text/plain": [
       "<Figure size 640x480 with 0 Axes>"
      ]
     },
     "metadata": {},
     "output_type": "display_data"
    },
    {
     "data": {
      "text/plain": [
       "<Figure size 640x480 with 0 Axes>"
      ]
     },
     "metadata": {},
     "output_type": "display_data"
    },
    {
     "data": {
      "text/plain": [
       "<Figure size 640x480 with 0 Axes>"
      ]
     },
     "metadata": {},
     "output_type": "display_data"
    },
    {
     "data": {
      "text/plain": [
       "<Figure size 640x480 with 0 Axes>"
      ]
     },
     "metadata": {},
     "output_type": "display_data"
    },
    {
     "name": "stderr",
     "output_type": "stream",
     "text": [
      " 53%|█████▎    | 526/1000 [00:15<00:13, 34.96it/s]"
     ]
    },
    {
     "data": {
      "text/plain": [
       "<Figure size 640x480 with 0 Axes>"
      ]
     },
     "metadata": {},
     "output_type": "display_data"
    },
    {
     "data": {
      "text/plain": [
       "<Figure size 640x480 with 0 Axes>"
      ]
     },
     "metadata": {},
     "output_type": "display_data"
    },
    {
     "data": {
      "text/plain": [
       "<Figure size 640x480 with 0 Axes>"
      ]
     },
     "metadata": {},
     "output_type": "display_data"
    },
    {
     "data": {
      "text/plain": [
       "<Figure size 640x480 with 0 Axes>"
      ]
     },
     "metadata": {},
     "output_type": "display_data"
    },
    {
     "data": {
      "text/plain": [
       "<Figure size 640x480 with 0 Axes>"
      ]
     },
     "metadata": {},
     "output_type": "display_data"
    },
    {
     "name": "stderr",
     "output_type": "stream",
     "text": [
      " 53%|█████▎    | 531/1000 [00:15<00:12, 36.73it/s]"
     ]
    },
    {
     "data": {
      "text/plain": [
       "<Figure size 640x480 with 0 Axes>"
      ]
     },
     "metadata": {},
     "output_type": "display_data"
    },
    {
     "data": {
      "text/plain": [
       "<Figure size 640x480 with 0 Axes>"
      ]
     },
     "metadata": {},
     "output_type": "display_data"
    },
    {
     "data": {
      "text/plain": [
       "<Figure size 640x480 with 0 Axes>"
      ]
     },
     "metadata": {},
     "output_type": "display_data"
    },
    {
     "data": {
      "text/plain": [
       "<Figure size 640x480 with 0 Axes>"
      ]
     },
     "metadata": {},
     "output_type": "display_data"
    },
    {
     "name": "stderr",
     "output_type": "stream",
     "text": [
      " 54%|█████▎    | 535/1000 [00:15<00:12, 37.16it/s]"
     ]
    },
    {
     "data": {
      "text/plain": [
       "<Figure size 640x480 with 0 Axes>"
      ]
     },
     "metadata": {},
     "output_type": "display_data"
    },
    {
     "data": {
      "text/plain": [
       "<Figure size 640x480 with 0 Axes>"
      ]
     },
     "metadata": {},
     "output_type": "display_data"
    },
    {
     "data": {
      "text/plain": [
       "<Figure size 640x480 with 0 Axes>"
      ]
     },
     "metadata": {},
     "output_type": "display_data"
    },
    {
     "data": {
      "text/plain": [
       "<Figure size 640x480 with 0 Axes>"
      ]
     },
     "metadata": {},
     "output_type": "display_data"
    },
    {
     "name": "stderr",
     "output_type": "stream",
     "text": [
      " 54%|█████▍    | 539/1000 [00:15<00:12, 37.83it/s]"
     ]
    },
    {
     "data": {
      "text/plain": [
       "<Figure size 640x480 with 0 Axes>"
      ]
     },
     "metadata": {},
     "output_type": "display_data"
    },
    {
     "data": {
      "text/plain": [
       "<Figure size 640x480 with 0 Axes>"
      ]
     },
     "metadata": {},
     "output_type": "display_data"
    },
    {
     "data": {
      "text/plain": [
       "<Figure size 640x480 with 0 Axes>"
      ]
     },
     "metadata": {},
     "output_type": "display_data"
    },
    {
     "data": {
      "text/plain": [
       "<Figure size 640x480 with 0 Axes>"
      ]
     },
     "metadata": {},
     "output_type": "display_data"
    },
    {
     "name": "stderr",
     "output_type": "stream",
     "text": [
      " 54%|█████▍    | 543/1000 [00:15<00:13, 34.35it/s]"
     ]
    },
    {
     "data": {
      "text/plain": [
       "<Figure size 640x480 with 0 Axes>"
      ]
     },
     "metadata": {},
     "output_type": "display_data"
    },
    {
     "data": {
      "text/plain": [
       "<Figure size 640x480 with 0 Axes>"
      ]
     },
     "metadata": {},
     "output_type": "display_data"
    },
    {
     "data": {
      "text/plain": [
       "<Figure size 640x480 with 0 Axes>"
      ]
     },
     "metadata": {},
     "output_type": "display_data"
    },
    {
     "data": {
      "text/plain": [
       "<Figure size 640x480 with 0 Axes>"
      ]
     },
     "metadata": {},
     "output_type": "display_data"
    },
    {
     "name": "stderr",
     "output_type": "stream",
     "text": [
      " 55%|█████▍    | 547/1000 [00:15<00:12, 35.65it/s]"
     ]
    },
    {
     "data": {
      "text/plain": [
       "<Figure size 640x480 with 0 Axes>"
      ]
     },
     "metadata": {},
     "output_type": "display_data"
    },
    {
     "data": {
      "text/plain": [
       "<Figure size 640x480 with 0 Axes>"
      ]
     },
     "metadata": {},
     "output_type": "display_data"
    },
    {
     "data": {
      "text/plain": [
       "<Figure size 640x480 with 0 Axes>"
      ]
     },
     "metadata": {},
     "output_type": "display_data"
    },
    {
     "data": {
      "text/plain": [
       "<Figure size 640x480 with 0 Axes>"
      ]
     },
     "metadata": {},
     "output_type": "display_data"
    },
    {
     "name": "stderr",
     "output_type": "stream",
     "text": [
      " 55%|█████▌    | 551/1000 [00:15<00:12, 36.39it/s]"
     ]
    },
    {
     "data": {
      "text/plain": [
       "<Figure size 640x480 with 0 Axes>"
      ]
     },
     "metadata": {},
     "output_type": "display_data"
    },
    {
     "data": {
      "text/plain": [
       "<Figure size 640x480 with 0 Axes>"
      ]
     },
     "metadata": {},
     "output_type": "display_data"
    },
    {
     "data": {
      "text/plain": [
       "<Figure size 640x480 with 0 Axes>"
      ]
     },
     "metadata": {},
     "output_type": "display_data"
    },
    {
     "data": {
      "text/plain": [
       "<Figure size 640x480 with 0 Axes>"
      ]
     },
     "metadata": {},
     "output_type": "display_data"
    },
    {
     "name": "stderr",
     "output_type": "stream",
     "text": [
      " 56%|█████▌    | 555/1000 [00:15<00:11, 37.24it/s]"
     ]
    },
    {
     "data": {
      "text/plain": [
       "<Figure size 640x480 with 0 Axes>"
      ]
     },
     "metadata": {},
     "output_type": "display_data"
    },
    {
     "data": {
      "text/plain": [
       "<Figure size 640x480 with 0 Axes>"
      ]
     },
     "metadata": {},
     "output_type": "display_data"
    },
    {
     "data": {
      "text/plain": [
       "<Figure size 640x480 with 0 Axes>"
      ]
     },
     "metadata": {},
     "output_type": "display_data"
    },
    {
     "data": {
      "text/plain": [
       "<Figure size 640x480 with 0 Axes>"
      ]
     },
     "metadata": {},
     "output_type": "display_data"
    },
    {
     "name": "stderr",
     "output_type": "stream",
     "text": [
      " 56%|█████▌    | 559/1000 [00:16<00:11, 37.97it/s]"
     ]
    },
    {
     "data": {
      "text/plain": [
       "<Figure size 640x480 with 0 Axes>"
      ]
     },
     "metadata": {},
     "output_type": "display_data"
    },
    {
     "data": {
      "text/plain": [
       "<Figure size 640x480 with 0 Axes>"
      ]
     },
     "metadata": {},
     "output_type": "display_data"
    },
    {
     "data": {
      "text/plain": [
       "<Figure size 640x480 with 0 Axes>"
      ]
     },
     "metadata": {},
     "output_type": "display_data"
    },
    {
     "data": {
      "text/plain": [
       "<Figure size 640x480 with 0 Axes>"
      ]
     },
     "metadata": {},
     "output_type": "display_data"
    },
    {
     "name": "stderr",
     "output_type": "stream",
     "text": [
      " 56%|█████▋    | 563/1000 [00:16<00:11, 37.91it/s]"
     ]
    },
    {
     "data": {
      "text/plain": [
       "<Figure size 640x480 with 0 Axes>"
      ]
     },
     "metadata": {},
     "output_type": "display_data"
    },
    {
     "data": {
      "text/plain": [
       "<Figure size 640x480 with 0 Axes>"
      ]
     },
     "metadata": {},
     "output_type": "display_data"
    },
    {
     "data": {
      "text/plain": [
       "<Figure size 640x480 with 0 Axes>"
      ]
     },
     "metadata": {},
     "output_type": "display_data"
    },
    {
     "data": {
      "text/plain": [
       "<Figure size 640x480 with 0 Axes>"
      ]
     },
     "metadata": {},
     "output_type": "display_data"
    },
    {
     "name": "stderr",
     "output_type": "stream",
     "text": [
      " 57%|█████▋    | 567/1000 [00:16<00:12, 33.97it/s]"
     ]
    },
    {
     "data": {
      "text/plain": [
       "<Figure size 640x480 with 0 Axes>"
      ]
     },
     "metadata": {},
     "output_type": "display_data"
    },
    {
     "data": {
      "text/plain": [
       "<Figure size 640x480 with 0 Axes>"
      ]
     },
     "metadata": {},
     "output_type": "display_data"
    },
    {
     "data": {
      "text/plain": [
       "<Figure size 640x480 with 0 Axes>"
      ]
     },
     "metadata": {},
     "output_type": "display_data"
    },
    {
     "data": {
      "text/plain": [
       "<Figure size 640x480 with 0 Axes>"
      ]
     },
     "metadata": {},
     "output_type": "display_data"
    },
    {
     "name": "stderr",
     "output_type": "stream",
     "text": [
      " 57%|█████▋    | 571/1000 [00:16<00:12, 35.14it/s]"
     ]
    },
    {
     "data": {
      "text/plain": [
       "<Figure size 640x480 with 0 Axes>"
      ]
     },
     "metadata": {},
     "output_type": "display_data"
    },
    {
     "data": {
      "text/plain": [
       "<Figure size 640x480 with 0 Axes>"
      ]
     },
     "metadata": {},
     "output_type": "display_data"
    },
    {
     "data": {
      "text/plain": [
       "<Figure size 640x480 with 0 Axes>"
      ]
     },
     "metadata": {},
     "output_type": "display_data"
    },
    {
     "data": {
      "text/plain": [
       "<Figure size 640x480 with 0 Axes>"
      ]
     },
     "metadata": {},
     "output_type": "display_data"
    },
    {
     "name": "stderr",
     "output_type": "stream",
     "text": [
      " 57%|█████▊    | 575/1000 [00:16<00:11, 36.36it/s]"
     ]
    },
    {
     "data": {
      "text/plain": [
       "<Figure size 640x480 with 0 Axes>"
      ]
     },
     "metadata": {},
     "output_type": "display_data"
    },
    {
     "data": {
      "text/plain": [
       "<Figure size 640x480 with 0 Axes>"
      ]
     },
     "metadata": {},
     "output_type": "display_data"
    },
    {
     "data": {
      "text/plain": [
       "<Figure size 640x480 with 0 Axes>"
      ]
     },
     "metadata": {},
     "output_type": "display_data"
    },
    {
     "data": {
      "text/plain": [
       "<Figure size 640x480 with 0 Axes>"
      ]
     },
     "metadata": {},
     "output_type": "display_data"
    },
    {
     "name": "stderr",
     "output_type": "stream",
     "text": [
      " 58%|█████▊    | 579/1000 [00:16<00:11, 36.89it/s]"
     ]
    },
    {
     "data": {
      "text/plain": [
       "<Figure size 640x480 with 0 Axes>"
      ]
     },
     "metadata": {},
     "output_type": "display_data"
    },
    {
     "data": {
      "text/plain": [
       "<Figure size 640x480 with 0 Axes>"
      ]
     },
     "metadata": {},
     "output_type": "display_data"
    },
    {
     "data": {
      "text/plain": [
       "<Figure size 640x480 with 0 Axes>"
      ]
     },
     "metadata": {},
     "output_type": "display_data"
    },
    {
     "data": {
      "text/plain": [
       "<Figure size 640x480 with 0 Axes>"
      ]
     },
     "metadata": {},
     "output_type": "display_data"
    },
    {
     "name": "stderr",
     "output_type": "stream",
     "text": [
      " 58%|█████▊    | 583/1000 [00:16<00:11, 37.30it/s]"
     ]
    },
    {
     "data": {
      "text/plain": [
       "<Figure size 640x480 with 0 Axes>"
      ]
     },
     "metadata": {},
     "output_type": "display_data"
    },
    {
     "data": {
      "text/plain": [
       "<Figure size 640x480 with 0 Axes>"
      ]
     },
     "metadata": {},
     "output_type": "display_data"
    },
    {
     "data": {
      "text/plain": [
       "<Figure size 640x480 with 0 Axes>"
      ]
     },
     "metadata": {},
     "output_type": "display_data"
    },
    {
     "data": {
      "text/plain": [
       "<Figure size 640x480 with 0 Axes>"
      ]
     },
     "metadata": {},
     "output_type": "display_data"
    },
    {
     "name": "stderr",
     "output_type": "stream",
     "text": [
      " 59%|█████▊    | 587/1000 [00:16<00:12, 33.66it/s]"
     ]
    },
    {
     "data": {
      "text/plain": [
       "<Figure size 640x480 with 0 Axes>"
      ]
     },
     "metadata": {},
     "output_type": "display_data"
    },
    {
     "data": {
      "text/plain": [
       "<Figure size 640x480 with 0 Axes>"
      ]
     },
     "metadata": {},
     "output_type": "display_data"
    },
    {
     "data": {
      "text/plain": [
       "<Figure size 640x480 with 0 Axes>"
      ]
     },
     "metadata": {},
     "output_type": "display_data"
    },
    {
     "data": {
      "text/plain": [
       "<Figure size 640x480 with 0 Axes>"
      ]
     },
     "metadata": {},
     "output_type": "display_data"
    },
    {
     "data": {
      "text/plain": [
       "<Figure size 640x480 with 0 Axes>"
      ]
     },
     "metadata": {},
     "output_type": "display_data"
    },
    {
     "name": "stderr",
     "output_type": "stream",
     "text": [
      " 59%|█████▉    | 592/1000 [00:17<00:11, 35.77it/s]"
     ]
    },
    {
     "data": {
      "text/plain": [
       "<Figure size 640x480 with 0 Axes>"
      ]
     },
     "metadata": {},
     "output_type": "display_data"
    },
    {
     "data": {
      "text/plain": [
       "<Figure size 640x480 with 0 Axes>"
      ]
     },
     "metadata": {},
     "output_type": "display_data"
    },
    {
     "data": {
      "text/plain": [
       "<Figure size 640x480 with 0 Axes>"
      ]
     },
     "metadata": {},
     "output_type": "display_data"
    },
    {
     "data": {
      "text/plain": [
       "<Figure size 640x480 with 0 Axes>"
      ]
     },
     "metadata": {},
     "output_type": "display_data"
    },
    {
     "name": "stderr",
     "output_type": "stream",
     "text": [
      " 60%|█████▉    | 596/1000 [00:17<00:10, 36.74it/s]"
     ]
    },
    {
     "data": {
      "text/plain": [
       "<Figure size 640x480 with 0 Axes>"
      ]
     },
     "metadata": {},
     "output_type": "display_data"
    },
    {
     "data": {
      "text/plain": [
       "<Figure size 640x480 with 0 Axes>"
      ]
     },
     "metadata": {},
     "output_type": "display_data"
    },
    {
     "data": {
      "text/plain": [
       "<Figure size 640x480 with 0 Axes>"
      ]
     },
     "metadata": {},
     "output_type": "display_data"
    },
    {
     "data": {
      "text/plain": [
       "<Figure size 640x480 with 0 Axes>"
      ]
     },
     "metadata": {},
     "output_type": "display_data"
    },
    {
     "data": {
      "text/plain": [
       "<Figure size 640x480 with 0 Axes>"
      ]
     },
     "metadata": {},
     "output_type": "display_data"
    },
    {
     "name": "stderr",
     "output_type": "stream",
     "text": [
      " 60%|██████    | 601/1000 [00:17<00:10, 38.26it/s]"
     ]
    },
    {
     "data": {
      "text/plain": [
       "<Figure size 640x480 with 0 Axes>"
      ]
     },
     "metadata": {},
     "output_type": "display_data"
    },
    {
     "data": {
      "text/plain": [
       "<Figure size 640x480 with 0 Axes>"
      ]
     },
     "metadata": {},
     "output_type": "display_data"
    },
    {
     "data": {
      "text/plain": [
       "<Figure size 640x480 with 0 Axes>"
      ]
     },
     "metadata": {},
     "output_type": "display_data"
    },
    {
     "data": {
      "text/plain": [
       "<Figure size 640x480 with 0 Axes>"
      ]
     },
     "metadata": {},
     "output_type": "display_data"
    },
    {
     "name": "stderr",
     "output_type": "stream",
     "text": [
      " 60%|██████    | 605/1000 [00:17<00:11, 35.46it/s]"
     ]
    },
    {
     "data": {
      "text/plain": [
       "<Figure size 640x480 with 0 Axes>"
      ]
     },
     "metadata": {},
     "output_type": "display_data"
    },
    {
     "data": {
      "text/plain": [
       "<Figure size 640x480 with 0 Axes>"
      ]
     },
     "metadata": {},
     "output_type": "display_data"
    },
    {
     "data": {
      "text/plain": [
       "<Figure size 640x480 with 0 Axes>"
      ]
     },
     "metadata": {},
     "output_type": "display_data"
    },
    {
     "data": {
      "text/plain": [
       "<Figure size 640x480 with 0 Axes>"
      ]
     },
     "metadata": {},
     "output_type": "display_data"
    },
    {
     "name": "stderr",
     "output_type": "stream",
     "text": [
      " 61%|██████    | 609/1000 [00:17<00:10, 36.38it/s]"
     ]
    },
    {
     "data": {
      "text/plain": [
       "<Figure size 640x480 with 0 Axes>"
      ]
     },
     "metadata": {},
     "output_type": "display_data"
    },
    {
     "data": {
      "text/plain": [
       "<Figure size 640x480 with 0 Axes>"
      ]
     },
     "metadata": {},
     "output_type": "display_data"
    },
    {
     "data": {
      "text/plain": [
       "<Figure size 640x480 with 0 Axes>"
      ]
     },
     "metadata": {},
     "output_type": "display_data"
    },
    {
     "data": {
      "text/plain": [
       "<Figure size 640x480 with 0 Axes>"
      ]
     },
     "metadata": {},
     "output_type": "display_data"
    },
    {
     "name": "stderr",
     "output_type": "stream",
     "text": [
      " 61%|██████▏   | 613/1000 [00:17<00:10, 37.21it/s]"
     ]
    },
    {
     "data": {
      "text/plain": [
       "<Figure size 640x480 with 0 Axes>"
      ]
     },
     "metadata": {},
     "output_type": "display_data"
    },
    {
     "data": {
      "text/plain": [
       "<Figure size 640x480 with 0 Axes>"
      ]
     },
     "metadata": {},
     "output_type": "display_data"
    },
    {
     "data": {
      "text/plain": [
       "<Figure size 640x480 with 0 Axes>"
      ]
     },
     "metadata": {},
     "output_type": "display_data"
    },
    {
     "data": {
      "text/plain": [
       "<Figure size 640x480 with 0 Axes>"
      ]
     },
     "metadata": {},
     "output_type": "display_data"
    },
    {
     "name": "stderr",
     "output_type": "stream",
     "text": [
      " 62%|██████▏   | 617/1000 [00:17<00:10, 37.63it/s]"
     ]
    },
    {
     "data": {
      "text/plain": [
       "<Figure size 640x480 with 0 Axes>"
      ]
     },
     "metadata": {},
     "output_type": "display_data"
    },
    {
     "data": {
      "text/plain": [
       "<Figure size 640x480 with 0 Axes>"
      ]
     },
     "metadata": {},
     "output_type": "display_data"
    },
    {
     "data": {
      "text/plain": [
       "<Figure size 640x480 with 0 Axes>"
      ]
     },
     "metadata": {},
     "output_type": "display_data"
    },
    {
     "data": {
      "text/plain": [
       "<Figure size 640x480 with 0 Axes>"
      ]
     },
     "metadata": {},
     "output_type": "display_data"
    },
    {
     "name": "stderr",
     "output_type": "stream",
     "text": [
      " 62%|██████▏   | 621/1000 [00:17<00:10, 37.66it/s]"
     ]
    },
    {
     "data": {
      "text/plain": [
       "<Figure size 640x480 with 0 Axes>"
      ]
     },
     "metadata": {},
     "output_type": "display_data"
    },
    {
     "data": {
      "text/plain": [
       "<Figure size 640x480 with 0 Axes>"
      ]
     },
     "metadata": {},
     "output_type": "display_data"
    },
    {
     "data": {
      "text/plain": [
       "<Figure size 640x480 with 0 Axes>"
      ]
     },
     "metadata": {},
     "output_type": "display_data"
    },
    {
     "data": {
      "text/plain": [
       "<Figure size 640x480 with 0 Axes>"
      ]
     },
     "metadata": {},
     "output_type": "display_data"
    },
    {
     "name": "stderr",
     "output_type": "stream",
     "text": [
      " 62%|██████▎   | 625/1000 [00:17<00:10, 34.92it/s]"
     ]
    },
    {
     "data": {
      "text/plain": [
       "<Figure size 640x480 with 0 Axes>"
      ]
     },
     "metadata": {},
     "output_type": "display_data"
    },
    {
     "data": {
      "text/plain": [
       "<Figure size 640x480 with 0 Axes>"
      ]
     },
     "metadata": {},
     "output_type": "display_data"
    },
    {
     "data": {
      "text/plain": [
       "<Figure size 640x480 with 0 Axes>"
      ]
     },
     "metadata": {},
     "output_type": "display_data"
    },
    {
     "data": {
      "text/plain": [
       "<Figure size 640x480 with 0 Axes>"
      ]
     },
     "metadata": {},
     "output_type": "display_data"
    },
    {
     "name": "stderr",
     "output_type": "stream",
     "text": [
      " 63%|██████▎   | 629/1000 [00:18<00:10, 36.04it/s]"
     ]
    },
    {
     "data": {
      "text/plain": [
       "<Figure size 640x480 with 0 Axes>"
      ]
     },
     "metadata": {},
     "output_type": "display_data"
    },
    {
     "data": {
      "text/plain": [
       "<Figure size 640x480 with 0 Axes>"
      ]
     },
     "metadata": {},
     "output_type": "display_data"
    },
    {
     "data": {
      "text/plain": [
       "<Figure size 640x480 with 0 Axes>"
      ]
     },
     "metadata": {},
     "output_type": "display_data"
    },
    {
     "data": {
      "text/plain": [
       "<Figure size 640x480 with 0 Axes>"
      ]
     },
     "metadata": {},
     "output_type": "display_data"
    },
    {
     "name": "stderr",
     "output_type": "stream",
     "text": [
      " 63%|██████▎   | 633/1000 [00:18<00:10, 36.46it/s]"
     ]
    },
    {
     "data": {
      "text/plain": [
       "<Figure size 640x480 with 0 Axes>"
      ]
     },
     "metadata": {},
     "output_type": "display_data"
    },
    {
     "data": {
      "text/plain": [
       "<Figure size 640x480 with 0 Axes>"
      ]
     },
     "metadata": {},
     "output_type": "display_data"
    },
    {
     "data": {
      "text/plain": [
       "<Figure size 640x480 with 0 Axes>"
      ]
     },
     "metadata": {},
     "output_type": "display_data"
    },
    {
     "data": {
      "text/plain": [
       "<Figure size 640x480 with 0 Axes>"
      ]
     },
     "metadata": {},
     "output_type": "display_data"
    },
    {
     "name": "stderr",
     "output_type": "stream",
     "text": [
      " 64%|██████▎   | 637/1000 [00:18<00:09, 37.32it/s]"
     ]
    },
    {
     "data": {
      "text/plain": [
       "<Figure size 640x480 with 0 Axes>"
      ]
     },
     "metadata": {},
     "output_type": "display_data"
    },
    {
     "data": {
      "text/plain": [
       "<Figure size 640x480 with 0 Axes>"
      ]
     },
     "metadata": {},
     "output_type": "display_data"
    },
    {
     "data": {
      "text/plain": [
       "<Figure size 640x480 with 0 Axes>"
      ]
     },
     "metadata": {},
     "output_type": "display_data"
    },
    {
     "data": {
      "text/plain": [
       "<Figure size 640x480 with 0 Axes>"
      ]
     },
     "metadata": {},
     "output_type": "display_data"
    },
    {
     "name": "stderr",
     "output_type": "stream",
     "text": [
      " 64%|██████▍   | 641/1000 [00:18<00:10, 33.26it/s]"
     ]
    },
    {
     "data": {
      "text/plain": [
       "<Figure size 640x480 with 0 Axes>"
      ]
     },
     "metadata": {},
     "output_type": "display_data"
    },
    {
     "data": {
      "text/plain": [
       "<Figure size 640x480 with 0 Axes>"
      ]
     },
     "metadata": {},
     "output_type": "display_data"
    },
    {
     "data": {
      "text/plain": [
       "<Figure size 640x480 with 0 Axes>"
      ]
     },
     "metadata": {},
     "output_type": "display_data"
    },
    {
     "data": {
      "text/plain": [
       "<Figure size 640x480 with 0 Axes>"
      ]
     },
     "metadata": {},
     "output_type": "display_data"
    },
    {
     "name": "stderr",
     "output_type": "stream",
     "text": [
      " 64%|██████▍   | 645/1000 [00:18<00:10, 34.85it/s]"
     ]
    },
    {
     "data": {
      "text/plain": [
       "<Figure size 640x480 with 0 Axes>"
      ]
     },
     "metadata": {},
     "output_type": "display_data"
    },
    {
     "data": {
      "text/plain": [
       "<Figure size 640x480 with 0 Axes>"
      ]
     },
     "metadata": {},
     "output_type": "display_data"
    },
    {
     "data": {
      "text/plain": [
       "<Figure size 640x480 with 0 Axes>"
      ]
     },
     "metadata": {},
     "output_type": "display_data"
    },
    {
     "data": {
      "text/plain": [
       "<Figure size 640x480 with 0 Axes>"
      ]
     },
     "metadata": {},
     "output_type": "display_data"
    },
    {
     "name": "stderr",
     "output_type": "stream",
     "text": [
      " 65%|██████▍   | 649/1000 [00:18<00:09, 35.98it/s]"
     ]
    },
    {
     "data": {
      "text/plain": [
       "<Figure size 640x480 with 0 Axes>"
      ]
     },
     "metadata": {},
     "output_type": "display_data"
    },
    {
     "data": {
      "text/plain": [
       "<Figure size 640x480 with 0 Axes>"
      ]
     },
     "metadata": {},
     "output_type": "display_data"
    },
    {
     "data": {
      "text/plain": [
       "<Figure size 640x480 with 0 Axes>"
      ]
     },
     "metadata": {},
     "output_type": "display_data"
    },
    {
     "data": {
      "text/plain": [
       "<Figure size 640x480 with 0 Axes>"
      ]
     },
     "metadata": {},
     "output_type": "display_data"
    },
    {
     "name": "stderr",
     "output_type": "stream",
     "text": [
      " 65%|██████▌   | 653/1000 [00:18<00:09, 36.63it/s]"
     ]
    },
    {
     "data": {
      "text/plain": [
       "<Figure size 640x480 with 0 Axes>"
      ]
     },
     "metadata": {},
     "output_type": "display_data"
    },
    {
     "data": {
      "text/plain": [
       "<Figure size 640x480 with 0 Axes>"
      ]
     },
     "metadata": {},
     "output_type": "display_data"
    },
    {
     "data": {
      "text/plain": [
       "<Figure size 640x480 with 0 Axes>"
      ]
     },
     "metadata": {},
     "output_type": "display_data"
    },
    {
     "data": {
      "text/plain": [
       "<Figure size 640x480 with 0 Axes>"
      ]
     },
     "metadata": {},
     "output_type": "display_data"
    },
    {
     "name": "stderr",
     "output_type": "stream",
     "text": [
      " 66%|██████▌   | 657/1000 [00:18<00:09, 37.00it/s]"
     ]
    },
    {
     "data": {
      "text/plain": [
       "<Figure size 640x480 with 0 Axes>"
      ]
     },
     "metadata": {},
     "output_type": "display_data"
    },
    {
     "data": {
      "text/plain": [
       "<Figure size 640x480 with 0 Axes>"
      ]
     },
     "metadata": {},
     "output_type": "display_data"
    },
    {
     "data": {
      "text/plain": [
       "<Figure size 640x480 with 0 Axes>"
      ]
     },
     "metadata": {},
     "output_type": "display_data"
    },
    {
     "data": {
      "text/plain": [
       "<Figure size 640x480 with 0 Axes>"
      ]
     },
     "metadata": {},
     "output_type": "display_data"
    },
    {
     "name": "stderr",
     "output_type": "stream",
     "text": [
      " 66%|██████▌   | 661/1000 [00:18<00:10, 33.50it/s]"
     ]
    },
    {
     "data": {
      "text/plain": [
       "<Figure size 640x480 with 0 Axes>"
      ]
     },
     "metadata": {},
     "output_type": "display_data"
    },
    {
     "data": {
      "text/plain": [
       "<Figure size 640x480 with 0 Axes>"
      ]
     },
     "metadata": {},
     "output_type": "display_data"
    },
    {
     "data": {
      "text/plain": [
       "<Figure size 640x480 with 0 Axes>"
      ]
     },
     "metadata": {},
     "output_type": "display_data"
    },
    {
     "data": {
      "text/plain": [
       "<Figure size 640x480 with 0 Axes>"
      ]
     },
     "metadata": {},
     "output_type": "display_data"
    },
    {
     "name": "stderr",
     "output_type": "stream",
     "text": [
      " 66%|██████▋   | 665/1000 [00:19<00:09, 34.94it/s]"
     ]
    },
    {
     "data": {
      "text/plain": [
       "<Figure size 640x480 with 0 Axes>"
      ]
     },
     "metadata": {},
     "output_type": "display_data"
    },
    {
     "data": {
      "text/plain": [
       "<Figure size 640x480 with 0 Axes>"
      ]
     },
     "metadata": {},
     "output_type": "display_data"
    },
    {
     "data": {
      "text/plain": [
       "<Figure size 640x480 with 0 Axes>"
      ]
     },
     "metadata": {},
     "output_type": "display_data"
    },
    {
     "data": {
      "text/plain": [
       "<Figure size 640x480 with 0 Axes>"
      ]
     },
     "metadata": {},
     "output_type": "display_data"
    },
    {
     "name": "stderr",
     "output_type": "stream",
     "text": [
      " 67%|██████▋   | 669/1000 [00:19<00:09, 35.86it/s]"
     ]
    },
    {
     "data": {
      "text/plain": [
       "<Figure size 640x480 with 0 Axes>"
      ]
     },
     "metadata": {},
     "output_type": "display_data"
    },
    {
     "data": {
      "text/plain": [
       "<Figure size 640x480 with 0 Axes>"
      ]
     },
     "metadata": {},
     "output_type": "display_data"
    },
    {
     "data": {
      "text/plain": [
       "<Figure size 640x480 with 0 Axes>"
      ]
     },
     "metadata": {},
     "output_type": "display_data"
    },
    {
     "data": {
      "text/plain": [
       "<Figure size 640x480 with 0 Axes>"
      ]
     },
     "metadata": {},
     "output_type": "display_data"
    },
    {
     "name": "stderr",
     "output_type": "stream",
     "text": [
      " 67%|██████▋   | 673/1000 [00:19<00:08, 36.35it/s]"
     ]
    },
    {
     "data": {
      "text/plain": [
       "<Figure size 640x480 with 0 Axes>"
      ]
     },
     "metadata": {},
     "output_type": "display_data"
    },
    {
     "data": {
      "text/plain": [
       "<Figure size 640x480 with 0 Axes>"
      ]
     },
     "metadata": {},
     "output_type": "display_data"
    },
    {
     "data": {
      "text/plain": [
       "<Figure size 640x480 with 0 Axes>"
      ]
     },
     "metadata": {},
     "output_type": "display_data"
    },
    {
     "data": {
      "text/plain": [
       "<Figure size 640x480 with 0 Axes>"
      ]
     },
     "metadata": {},
     "output_type": "display_data"
    },
    {
     "name": "stderr",
     "output_type": "stream",
     "text": [
      " 68%|██████▊   | 677/1000 [00:19<00:09, 33.17it/s]"
     ]
    },
    {
     "data": {
      "text/plain": [
       "<Figure size 640x480 with 0 Axes>"
      ]
     },
     "metadata": {},
     "output_type": "display_data"
    },
    {
     "data": {
      "text/plain": [
       "<Figure size 640x480 with 0 Axes>"
      ]
     },
     "metadata": {},
     "output_type": "display_data"
    },
    {
     "data": {
      "text/plain": [
       "<Figure size 640x480 with 0 Axes>"
      ]
     },
     "metadata": {},
     "output_type": "display_data"
    },
    {
     "data": {
      "text/plain": [
       "<Figure size 640x480 with 0 Axes>"
      ]
     },
     "metadata": {},
     "output_type": "display_data"
    },
    {
     "name": "stderr",
     "output_type": "stream",
     "text": [
      " 68%|██████▊   | 681/1000 [00:19<00:09, 34.57it/s]"
     ]
    },
    {
     "data": {
      "text/plain": [
       "<Figure size 640x480 with 0 Axes>"
      ]
     },
     "metadata": {},
     "output_type": "display_data"
    },
    {
     "data": {
      "text/plain": [
       "<Figure size 640x480 with 0 Axes>"
      ]
     },
     "metadata": {},
     "output_type": "display_data"
    },
    {
     "data": {
      "text/plain": [
       "<Figure size 640x480 with 0 Axes>"
      ]
     },
     "metadata": {},
     "output_type": "display_data"
    },
    {
     "data": {
      "text/plain": [
       "<Figure size 640x480 with 0 Axes>"
      ]
     },
     "metadata": {},
     "output_type": "display_data"
    },
    {
     "name": "stderr",
     "output_type": "stream",
     "text": [
      " 68%|██████▊   | 685/1000 [00:19<00:08, 35.41it/s]"
     ]
    },
    {
     "data": {
      "text/plain": [
       "<Figure size 640x480 with 0 Axes>"
      ]
     },
     "metadata": {},
     "output_type": "display_data"
    },
    {
     "data": {
      "text/plain": [
       "<Figure size 640x480 with 0 Axes>"
      ]
     },
     "metadata": {},
     "output_type": "display_data"
    },
    {
     "data": {
      "text/plain": [
       "<Figure size 640x480 with 0 Axes>"
      ]
     },
     "metadata": {},
     "output_type": "display_data"
    },
    {
     "data": {
      "text/plain": [
       "<Figure size 640x480 with 0 Axes>"
      ]
     },
     "metadata": {},
     "output_type": "display_data"
    },
    {
     "name": "stderr",
     "output_type": "stream",
     "text": [
      " 69%|██████▉   | 689/1000 [00:19<00:08, 35.29it/s]"
     ]
    },
    {
     "data": {
      "text/plain": [
       "<Figure size 640x480 with 0 Axes>"
      ]
     },
     "metadata": {},
     "output_type": "display_data"
    },
    {
     "data": {
      "text/plain": [
       "<Figure size 640x480 with 0 Axes>"
      ]
     },
     "metadata": {},
     "output_type": "display_data"
    },
    {
     "data": {
      "text/plain": [
       "<Figure size 640x480 with 0 Axes>"
      ]
     },
     "metadata": {},
     "output_type": "display_data"
    },
    {
     "data": {
      "text/plain": [
       "<Figure size 640x480 with 0 Axes>"
      ]
     },
     "metadata": {},
     "output_type": "display_data"
    },
    {
     "name": "stderr",
     "output_type": "stream",
     "text": [
      " 69%|██████▉   | 693/1000 [00:19<00:09, 31.99it/s]"
     ]
    },
    {
     "data": {
      "text/plain": [
       "<Figure size 640x480 with 0 Axes>"
      ]
     },
     "metadata": {},
     "output_type": "display_data"
    },
    {
     "data": {
      "text/plain": [
       "<Figure size 640x480 with 0 Axes>"
      ]
     },
     "metadata": {},
     "output_type": "display_data"
    },
    {
     "data": {
      "text/plain": [
       "<Figure size 640x480 with 0 Axes>"
      ]
     },
     "metadata": {},
     "output_type": "display_data"
    },
    {
     "data": {
      "text/plain": [
       "<Figure size 640x480 with 0 Axes>"
      ]
     },
     "metadata": {},
     "output_type": "display_data"
    },
    {
     "name": "stderr",
     "output_type": "stream",
     "text": [
      " 70%|██████▉   | 697/1000 [00:19<00:08, 33.76it/s]"
     ]
    },
    {
     "data": {
      "text/plain": [
       "<Figure size 640x480 with 0 Axes>"
      ]
     },
     "metadata": {},
     "output_type": "display_data"
    },
    {
     "data": {
      "text/plain": [
       "<Figure size 640x480 with 0 Axes>"
      ]
     },
     "metadata": {},
     "output_type": "display_data"
    },
    {
     "data": {
      "text/plain": [
       "<Figure size 640x480 with 0 Axes>"
      ]
     },
     "metadata": {},
     "output_type": "display_data"
    },
    {
     "data": {
      "text/plain": [
       "<Figure size 640x480 with 0 Axes>"
      ]
     },
     "metadata": {},
     "output_type": "display_data"
    },
    {
     "name": "stderr",
     "output_type": "stream",
     "text": [
      " 70%|███████   | 701/1000 [00:20<00:08, 34.89it/s]"
     ]
    },
    {
     "data": {
      "text/plain": [
       "<Figure size 640x480 with 0 Axes>"
      ]
     },
     "metadata": {},
     "output_type": "display_data"
    },
    {
     "data": {
      "text/plain": [
       "<Figure size 640x480 with 0 Axes>"
      ]
     },
     "metadata": {},
     "output_type": "display_data"
    },
    {
     "data": {
      "text/plain": [
       "<Figure size 640x480 with 0 Axes>"
      ]
     },
     "metadata": {},
     "output_type": "display_data"
    },
    {
     "data": {
      "text/plain": [
       "<Figure size 640x480 with 0 Axes>"
      ]
     },
     "metadata": {},
     "output_type": "display_data"
    },
    {
     "data": {
      "text/plain": [
       "<Figure size 640x480 with 0 Axes>"
      ]
     },
     "metadata": {},
     "output_type": "display_data"
    },
    {
     "name": "stderr",
     "output_type": "stream",
     "text": [
      " 71%|███████   | 706/1000 [00:20<00:08, 36.46it/s]"
     ]
    },
    {
     "data": {
      "text/plain": [
       "<Figure size 640x480 with 0 Axes>"
      ]
     },
     "metadata": {},
     "output_type": "display_data"
    },
    {
     "data": {
      "text/plain": [
       "<Figure size 640x480 with 0 Axes>"
      ]
     },
     "metadata": {},
     "output_type": "display_data"
    },
    {
     "data": {
      "text/plain": [
       "<Figure size 640x480 with 0 Axes>"
      ]
     },
     "metadata": {},
     "output_type": "display_data"
    },
    {
     "data": {
      "text/plain": [
       "<Figure size 640x480 with 0 Axes>"
      ]
     },
     "metadata": {},
     "output_type": "display_data"
    },
    {
     "name": "stderr",
     "output_type": "stream",
     "text": [
      " 71%|███████   | 710/1000 [00:20<00:07, 37.37it/s]"
     ]
    },
    {
     "data": {
      "text/plain": [
       "<Figure size 640x480 with 0 Axes>"
      ]
     },
     "metadata": {},
     "output_type": "display_data"
    },
    {
     "data": {
      "text/plain": [
       "<Figure size 640x480 with 0 Axes>"
      ]
     },
     "metadata": {},
     "output_type": "display_data"
    },
    {
     "data": {
      "text/plain": [
       "<Figure size 640x480 with 0 Axes>"
      ]
     },
     "metadata": {},
     "output_type": "display_data"
    },
    {
     "data": {
      "text/plain": [
       "<Figure size 640x480 with 0 Axes>"
      ]
     },
     "metadata": {},
     "output_type": "display_data"
    },
    {
     "name": "stderr",
     "output_type": "stream",
     "text": [
      " 71%|███████▏  | 714/1000 [00:20<00:08, 34.55it/s]"
     ]
    },
    {
     "data": {
      "text/plain": [
       "<Figure size 640x480 with 0 Axes>"
      ]
     },
     "metadata": {},
     "output_type": "display_data"
    },
    {
     "data": {
      "text/plain": [
       "<Figure size 640x480 with 0 Axes>"
      ]
     },
     "metadata": {},
     "output_type": "display_data"
    },
    {
     "data": {
      "text/plain": [
       "<Figure size 640x480 with 0 Axes>"
      ]
     },
     "metadata": {},
     "output_type": "display_data"
    },
    {
     "data": {
      "text/plain": [
       "<Figure size 640x480 with 0 Axes>"
      ]
     },
     "metadata": {},
     "output_type": "display_data"
    },
    {
     "name": "stderr",
     "output_type": "stream",
     "text": [
      " 72%|███████▏  | 718/1000 [00:20<00:07, 35.49it/s]"
     ]
    },
    {
     "data": {
      "text/plain": [
       "<Figure size 640x480 with 0 Axes>"
      ]
     },
     "metadata": {},
     "output_type": "display_data"
    },
    {
     "data": {
      "text/plain": [
       "<Figure size 640x480 with 0 Axes>"
      ]
     },
     "metadata": {},
     "output_type": "display_data"
    },
    {
     "data": {
      "text/plain": [
       "<Figure size 640x480 with 0 Axes>"
      ]
     },
     "metadata": {},
     "output_type": "display_data"
    },
    {
     "data": {
      "text/plain": [
       "<Figure size 640x480 with 0 Axes>"
      ]
     },
     "metadata": {},
     "output_type": "display_data"
    },
    {
     "name": "stderr",
     "output_type": "stream",
     "text": [
      " 72%|███████▏  | 722/1000 [00:20<00:07, 36.16it/s]"
     ]
    },
    {
     "data": {
      "text/plain": [
       "<Figure size 640x480 with 0 Axes>"
      ]
     },
     "metadata": {},
     "output_type": "display_data"
    },
    {
     "data": {
      "text/plain": [
       "<Figure size 640x480 with 0 Axes>"
      ]
     },
     "metadata": {},
     "output_type": "display_data"
    },
    {
     "data": {
      "text/plain": [
       "<Figure size 640x480 with 0 Axes>"
      ]
     },
     "metadata": {},
     "output_type": "display_data"
    },
    {
     "data": {
      "text/plain": [
       "<Figure size 640x480 with 0 Axes>"
      ]
     },
     "metadata": {},
     "output_type": "display_data"
    },
    {
     "name": "stderr",
     "output_type": "stream",
     "text": [
      " 73%|███████▎  | 726/1000 [00:20<00:07, 36.82it/s]"
     ]
    },
    {
     "data": {
      "text/plain": [
       "<Figure size 640x480 with 0 Axes>"
      ]
     },
     "metadata": {},
     "output_type": "display_data"
    },
    {
     "data": {
      "text/plain": [
       "<Figure size 640x480 with 0 Axes>"
      ]
     },
     "metadata": {},
     "output_type": "display_data"
    },
    {
     "data": {
      "text/plain": [
       "<Figure size 640x480 with 0 Axes>"
      ]
     },
     "metadata": {},
     "output_type": "display_data"
    },
    {
     "data": {
      "text/plain": [
       "<Figure size 640x480 with 0 Axes>"
      ]
     },
     "metadata": {},
     "output_type": "display_data"
    },
    {
     "name": "stderr",
     "output_type": "stream",
     "text": [
      " 73%|███████▎  | 730/1000 [00:20<00:07, 35.25it/s]"
     ]
    },
    {
     "data": {
      "text/plain": [
       "<Figure size 640x480 with 0 Axes>"
      ]
     },
     "metadata": {},
     "output_type": "display_data"
    },
    {
     "data": {
      "text/plain": [
       "<Figure size 640x480 with 0 Axes>"
      ]
     },
     "metadata": {},
     "output_type": "display_data"
    },
    {
     "data": {
      "text/plain": [
       "<Figure size 640x480 with 0 Axes>"
      ]
     },
     "metadata": {},
     "output_type": "display_data"
    },
    {
     "data": {
      "text/plain": [
       "<Figure size 640x480 with 0 Axes>"
      ]
     },
     "metadata": {},
     "output_type": "display_data"
    },
    {
     "name": "stderr",
     "output_type": "stream",
     "text": [
      " 73%|███████▎  | 734/1000 [00:21<00:07, 36.32it/s]"
     ]
    },
    {
     "data": {
      "text/plain": [
       "<Figure size 640x480 with 0 Axes>"
      ]
     },
     "metadata": {},
     "output_type": "display_data"
    },
    {
     "data": {
      "text/plain": [
       "<Figure size 640x480 with 0 Axes>"
      ]
     },
     "metadata": {},
     "output_type": "display_data"
    },
    {
     "data": {
      "text/plain": [
       "<Figure size 640x480 with 0 Axes>"
      ]
     },
     "metadata": {},
     "output_type": "display_data"
    },
    {
     "data": {
      "text/plain": [
       "<Figure size 640x480 with 0 Axes>"
      ]
     },
     "metadata": {},
     "output_type": "display_data"
    },
    {
     "name": "stderr",
     "output_type": "stream",
     "text": [
      " 74%|███████▍  | 738/1000 [00:21<00:07, 37.18it/s]"
     ]
    },
    {
     "data": {
      "text/plain": [
       "<Figure size 640x480 with 0 Axes>"
      ]
     },
     "metadata": {},
     "output_type": "display_data"
    },
    {
     "data": {
      "text/plain": [
       "<Figure size 640x480 with 0 Axes>"
      ]
     },
     "metadata": {},
     "output_type": "display_data"
    },
    {
     "data": {
      "text/plain": [
       "<Figure size 640x480 with 0 Axes>"
      ]
     },
     "metadata": {},
     "output_type": "display_data"
    },
    {
     "data": {
      "text/plain": [
       "<Figure size 640x480 with 0 Axes>"
      ]
     },
     "metadata": {},
     "output_type": "display_data"
    },
    {
     "name": "stderr",
     "output_type": "stream",
     "text": [
      " 74%|███████▍  | 742/1000 [00:21<00:07, 36.13it/s]"
     ]
    },
    {
     "data": {
      "text/plain": [
       "<Figure size 640x480 with 0 Axes>"
      ]
     },
     "metadata": {},
     "output_type": "display_data"
    },
    {
     "data": {
      "text/plain": [
       "<Figure size 640x480 with 0 Axes>"
      ]
     },
     "metadata": {},
     "output_type": "display_data"
    },
    {
     "data": {
      "text/plain": [
       "<Figure size 640x480 with 0 Axes>"
      ]
     },
     "metadata": {},
     "output_type": "display_data"
    },
    {
     "data": {
      "text/plain": [
       "<Figure size 640x480 with 0 Axes>"
      ]
     },
     "metadata": {},
     "output_type": "display_data"
    },
    {
     "name": "stderr",
     "output_type": "stream",
     "text": [
      " 75%|███████▍  | 746/1000 [00:21<00:07, 32.39it/s]"
     ]
    },
    {
     "data": {
      "text/plain": [
       "<Figure size 640x480 with 0 Axes>"
      ]
     },
     "metadata": {},
     "output_type": "display_data"
    },
    {
     "data": {
      "text/plain": [
       "<Figure size 640x480 with 0 Axes>"
      ]
     },
     "metadata": {},
     "output_type": "display_data"
    },
    {
     "data": {
      "text/plain": [
       "<Figure size 640x480 with 0 Axes>"
      ]
     },
     "metadata": {},
     "output_type": "display_data"
    },
    {
     "data": {
      "text/plain": [
       "<Figure size 640x480 with 0 Axes>"
      ]
     },
     "metadata": {},
     "output_type": "display_data"
    },
    {
     "name": "stderr",
     "output_type": "stream",
     "text": [
      " 75%|███████▌  | 750/1000 [00:21<00:07, 34.26it/s]"
     ]
    },
    {
     "data": {
      "text/plain": [
       "<Figure size 640x480 with 0 Axes>"
      ]
     },
     "metadata": {},
     "output_type": "display_data"
    },
    {
     "data": {
      "text/plain": [
       "<Figure size 640x480 with 0 Axes>"
      ]
     },
     "metadata": {},
     "output_type": "display_data"
    },
    {
     "data": {
      "text/plain": [
       "<Figure size 640x480 with 0 Axes>"
      ]
     },
     "metadata": {},
     "output_type": "display_data"
    },
    {
     "data": {
      "text/plain": [
       "<Figure size 640x480 with 0 Axes>"
      ]
     },
     "metadata": {},
     "output_type": "display_data"
    },
    {
     "name": "stderr",
     "output_type": "stream",
     "text": [
      " 75%|███████▌  | 754/1000 [00:21<00:06, 35.49it/s]"
     ]
    },
    {
     "data": {
      "text/plain": [
       "<Figure size 640x480 with 0 Axes>"
      ]
     },
     "metadata": {},
     "output_type": "display_data"
    },
    {
     "data": {
      "text/plain": [
       "<Figure size 640x480 with 0 Axes>"
      ]
     },
     "metadata": {},
     "output_type": "display_data"
    },
    {
     "data": {
      "text/plain": [
       "<Figure size 640x480 with 0 Axes>"
      ]
     },
     "metadata": {},
     "output_type": "display_data"
    },
    {
     "data": {
      "text/plain": [
       "<Figure size 640x480 with 0 Axes>"
      ]
     },
     "metadata": {},
     "output_type": "display_data"
    },
    {
     "name": "stderr",
     "output_type": "stream",
     "text": [
      " 76%|███████▌  | 758/1000 [00:21<00:06, 36.57it/s]"
     ]
    },
    {
     "data": {
      "text/plain": [
       "<Figure size 640x480 with 0 Axes>"
      ]
     },
     "metadata": {},
     "output_type": "display_data"
    },
    {
     "data": {
      "text/plain": [
       "<Figure size 640x480 with 0 Axes>"
      ]
     },
     "metadata": {},
     "output_type": "display_data"
    },
    {
     "data": {
      "text/plain": [
       "<Figure size 640x480 with 0 Axes>"
      ]
     },
     "metadata": {},
     "output_type": "display_data"
    },
    {
     "data": {
      "text/plain": [
       "<Figure size 640x480 with 0 Axes>"
      ]
     },
     "metadata": {},
     "output_type": "display_data"
    },
    {
     "name": "stderr",
     "output_type": "stream",
     "text": [
      " 76%|███████▌  | 762/1000 [00:21<00:06, 34.51it/s]"
     ]
    },
    {
     "data": {
      "text/plain": [
       "<Figure size 640x480 with 0 Axes>"
      ]
     },
     "metadata": {},
     "output_type": "display_data"
    },
    {
     "data": {
      "text/plain": [
       "<Figure size 640x480 with 0 Axes>"
      ]
     },
     "metadata": {},
     "output_type": "display_data"
    },
    {
     "data": {
      "text/plain": [
       "<Figure size 640x480 with 0 Axes>"
      ]
     },
     "metadata": {},
     "output_type": "display_data"
    },
    {
     "data": {
      "text/plain": [
       "<Figure size 640x480 with 0 Axes>"
      ]
     },
     "metadata": {},
     "output_type": "display_data"
    },
    {
     "name": "stderr",
     "output_type": "stream",
     "text": [
      " 77%|███████▋  | 766/1000 [00:21<00:06, 35.51it/s]"
     ]
    },
    {
     "data": {
      "text/plain": [
       "<Figure size 640x480 with 0 Axes>"
      ]
     },
     "metadata": {},
     "output_type": "display_data"
    },
    {
     "data": {
      "text/plain": [
       "<Figure size 640x480 with 0 Axes>"
      ]
     },
     "metadata": {},
     "output_type": "display_data"
    },
    {
     "data": {
      "text/plain": [
       "<Figure size 640x480 with 0 Axes>"
      ]
     },
     "metadata": {},
     "output_type": "display_data"
    },
    {
     "data": {
      "text/plain": [
       "<Figure size 640x480 with 0 Axes>"
      ]
     },
     "metadata": {},
     "output_type": "display_data"
    },
    {
     "name": "stderr",
     "output_type": "stream",
     "text": [
      " 77%|███████▋  | 770/1000 [00:22<00:06, 36.36it/s]"
     ]
    },
    {
     "data": {
      "text/plain": [
       "<Figure size 640x480 with 0 Axes>"
      ]
     },
     "metadata": {},
     "output_type": "display_data"
    },
    {
     "data": {
      "text/plain": [
       "<Figure size 640x480 with 0 Axes>"
      ]
     },
     "metadata": {},
     "output_type": "display_data"
    },
    {
     "data": {
      "text/plain": [
       "<Figure size 640x480 with 0 Axes>"
      ]
     },
     "metadata": {},
     "output_type": "display_data"
    },
    {
     "data": {
      "text/plain": [
       "<Figure size 640x480 with 0 Axes>"
      ]
     },
     "metadata": {},
     "output_type": "display_data"
    },
    {
     "name": "stderr",
     "output_type": "stream",
     "text": [
      " 77%|███████▋  | 774/1000 [00:22<00:06, 37.00it/s]"
     ]
    },
    {
     "data": {
      "text/plain": [
       "<Figure size 640x480 with 0 Axes>"
      ]
     },
     "metadata": {},
     "output_type": "display_data"
    },
    {
     "data": {
      "text/plain": [
       "<Figure size 640x480 with 0 Axes>"
      ]
     },
     "metadata": {},
     "output_type": "display_data"
    },
    {
     "data": {
      "text/plain": [
       "<Figure size 640x480 with 0 Axes>"
      ]
     },
     "metadata": {},
     "output_type": "display_data"
    },
    {
     "data": {
      "text/plain": [
       "<Figure size 640x480 with 0 Axes>"
      ]
     },
     "metadata": {},
     "output_type": "display_data"
    },
    {
     "name": "stderr",
     "output_type": "stream",
     "text": [
      " 78%|███████▊  | 778/1000 [00:22<00:06, 33.44it/s]"
     ]
    },
    {
     "data": {
      "text/plain": [
       "<Figure size 640x480 with 0 Axes>"
      ]
     },
     "metadata": {},
     "output_type": "display_data"
    },
    {
     "data": {
      "text/plain": [
       "<Figure size 640x480 with 0 Axes>"
      ]
     },
     "metadata": {},
     "output_type": "display_data"
    },
    {
     "data": {
      "text/plain": [
       "<Figure size 640x480 with 0 Axes>"
      ]
     },
     "metadata": {},
     "output_type": "display_data"
    },
    {
     "data": {
      "text/plain": [
       "<Figure size 640x480 with 0 Axes>"
      ]
     },
     "metadata": {},
     "output_type": "display_data"
    },
    {
     "name": "stderr",
     "output_type": "stream",
     "text": [
      " 78%|███████▊  | 782/1000 [00:22<00:06, 35.03it/s]"
     ]
    },
    {
     "data": {
      "text/plain": [
       "<Figure size 640x480 with 0 Axes>"
      ]
     },
     "metadata": {},
     "output_type": "display_data"
    },
    {
     "data": {
      "text/plain": [
       "<Figure size 640x480 with 0 Axes>"
      ]
     },
     "metadata": {},
     "output_type": "display_data"
    },
    {
     "data": {
      "text/plain": [
       "<Figure size 640x480 with 0 Axes>"
      ]
     },
     "metadata": {},
     "output_type": "display_data"
    },
    {
     "data": {
      "text/plain": [
       "<Figure size 640x480 with 0 Axes>"
      ]
     },
     "metadata": {},
     "output_type": "display_data"
    },
    {
     "name": "stderr",
     "output_type": "stream",
     "text": [
      " 79%|███████▊  | 786/1000 [00:22<00:05, 36.07it/s]"
     ]
    },
    {
     "data": {
      "text/plain": [
       "<Figure size 640x480 with 0 Axes>"
      ]
     },
     "metadata": {},
     "output_type": "display_data"
    },
    {
     "data": {
      "text/plain": [
       "<Figure size 640x480 with 0 Axes>"
      ]
     },
     "metadata": {},
     "output_type": "display_data"
    },
    {
     "data": {
      "text/plain": [
       "<Figure size 640x480 with 0 Axes>"
      ]
     },
     "metadata": {},
     "output_type": "display_data"
    },
    {
     "data": {
      "text/plain": [
       "<Figure size 640x480 with 0 Axes>"
      ]
     },
     "metadata": {},
     "output_type": "display_data"
    },
    {
     "name": "stderr",
     "output_type": "stream",
     "text": [
      " 79%|███████▉  | 790/1000 [00:22<00:05, 36.72it/s]"
     ]
    },
    {
     "data": {
      "text/plain": [
       "<Figure size 640x480 with 0 Axes>"
      ]
     },
     "metadata": {},
     "output_type": "display_data"
    },
    {
     "data": {
      "text/plain": [
       "<Figure size 640x480 with 0 Axes>"
      ]
     },
     "metadata": {},
     "output_type": "display_data"
    },
    {
     "data": {
      "text/plain": [
       "<Figure size 640x480 with 0 Axes>"
      ]
     },
     "metadata": {},
     "output_type": "display_data"
    },
    {
     "data": {
      "text/plain": [
       "<Figure size 640x480 with 0 Axes>"
      ]
     },
     "metadata": {},
     "output_type": "display_data"
    },
    {
     "name": "stderr",
     "output_type": "stream",
     "text": [
      " 79%|███████▉  | 794/1000 [00:22<00:06, 32.71it/s]"
     ]
    },
    {
     "data": {
      "text/plain": [
       "<Figure size 640x480 with 0 Axes>"
      ]
     },
     "metadata": {},
     "output_type": "display_data"
    },
    {
     "data": {
      "text/plain": [
       "<Figure size 640x480 with 0 Axes>"
      ]
     },
     "metadata": {},
     "output_type": "display_data"
    },
    {
     "data": {
      "text/plain": [
       "<Figure size 640x480 with 0 Axes>"
      ]
     },
     "metadata": {},
     "output_type": "display_data"
    },
    {
     "data": {
      "text/plain": [
       "<Figure size 640x480 with 0 Axes>"
      ]
     },
     "metadata": {},
     "output_type": "display_data"
    },
    {
     "name": "stderr",
     "output_type": "stream",
     "text": [
      " 80%|███████▉  | 798/1000 [00:22<00:05, 34.45it/s]"
     ]
    },
    {
     "data": {
      "text/plain": [
       "<Figure size 640x480 with 0 Axes>"
      ]
     },
     "metadata": {},
     "output_type": "display_data"
    },
    {
     "data": {
      "text/plain": [
       "<Figure size 640x480 with 0 Axes>"
      ]
     },
     "metadata": {},
     "output_type": "display_data"
    },
    {
     "data": {
      "text/plain": [
       "<Figure size 640x480 with 0 Axes>"
      ]
     },
     "metadata": {},
     "output_type": "display_data"
    },
    {
     "data": {
      "text/plain": [
       "<Figure size 640x480 with 0 Axes>"
      ]
     },
     "metadata": {},
     "output_type": "display_data"
    },
    {
     "name": "stderr",
     "output_type": "stream",
     "text": [
      " 80%|████████  | 802/1000 [00:22<00:05, 35.64it/s]"
     ]
    },
    {
     "data": {
      "text/plain": [
       "<Figure size 640x480 with 0 Axes>"
      ]
     },
     "metadata": {},
     "output_type": "display_data"
    },
    {
     "data": {
      "text/plain": [
       "<Figure size 640x480 with 0 Axes>"
      ]
     },
     "metadata": {},
     "output_type": "display_data"
    },
    {
     "data": {
      "text/plain": [
       "<Figure size 640x480 with 0 Axes>"
      ]
     },
     "metadata": {},
     "output_type": "display_data"
    },
    {
     "data": {
      "text/plain": [
       "<Figure size 640x480 with 0 Axes>"
      ]
     },
     "metadata": {},
     "output_type": "display_data"
    },
    {
     "name": "stderr",
     "output_type": "stream",
     "text": [
      " 81%|████████  | 806/1000 [00:23<00:05, 36.84it/s]"
     ]
    },
    {
     "data": {
      "text/plain": [
       "<Figure size 640x480 with 0 Axes>"
      ]
     },
     "metadata": {},
     "output_type": "display_data"
    },
    {
     "data": {
      "text/plain": [
       "<Figure size 640x480 with 0 Axes>"
      ]
     },
     "metadata": {},
     "output_type": "display_data"
    },
    {
     "data": {
      "text/plain": [
       "<Figure size 640x480 with 0 Axes>"
      ]
     },
     "metadata": {},
     "output_type": "display_data"
    },
    {
     "data": {
      "text/plain": [
       "<Figure size 640x480 with 0 Axes>"
      ]
     },
     "metadata": {},
     "output_type": "display_data"
    },
    {
     "name": "stderr",
     "output_type": "stream",
     "text": [
      " 81%|████████  | 810/1000 [00:23<00:05, 35.75it/s]"
     ]
    },
    {
     "data": {
      "text/plain": [
       "<Figure size 640x480 with 0 Axes>"
      ]
     },
     "metadata": {},
     "output_type": "display_data"
    },
    {
     "data": {
      "text/plain": [
       "<Figure size 640x480 with 0 Axes>"
      ]
     },
     "metadata": {},
     "output_type": "display_data"
    },
    {
     "data": {
      "text/plain": [
       "<Figure size 640x480 with 0 Axes>"
      ]
     },
     "metadata": {},
     "output_type": "display_data"
    },
    {
     "data": {
      "text/plain": [
       "<Figure size 640x480 with 0 Axes>"
      ]
     },
     "metadata": {},
     "output_type": "display_data"
    },
    {
     "name": "stderr",
     "output_type": "stream",
     "text": [
      " 81%|████████▏ | 814/1000 [00:23<00:05, 36.33it/s]"
     ]
    },
    {
     "data": {
      "text/plain": [
       "<Figure size 640x480 with 0 Axes>"
      ]
     },
     "metadata": {},
     "output_type": "display_data"
    },
    {
     "data": {
      "text/plain": [
       "<Figure size 640x480 with 0 Axes>"
      ]
     },
     "metadata": {},
     "output_type": "display_data"
    },
    {
     "data": {
      "text/plain": [
       "<Figure size 640x480 with 0 Axes>"
      ]
     },
     "metadata": {},
     "output_type": "display_data"
    },
    {
     "data": {
      "text/plain": [
       "<Figure size 640x480 with 0 Axes>"
      ]
     },
     "metadata": {},
     "output_type": "display_data"
    },
    {
     "name": "stderr",
     "output_type": "stream",
     "text": [
      " 82%|████████▏ | 818/1000 [00:23<00:04, 37.27it/s]"
     ]
    },
    {
     "data": {
      "text/plain": [
       "<Figure size 640x480 with 0 Axes>"
      ]
     },
     "metadata": {},
     "output_type": "display_data"
    },
    {
     "data": {
      "text/plain": [
       "<Figure size 640x480 with 0 Axes>"
      ]
     },
     "metadata": {},
     "output_type": "display_data"
    },
    {
     "data": {
      "text/plain": [
       "<Figure size 640x480 with 0 Axes>"
      ]
     },
     "metadata": {},
     "output_type": "display_data"
    },
    {
     "data": {
      "text/plain": [
       "<Figure size 640x480 with 0 Axes>"
      ]
     },
     "metadata": {},
     "output_type": "display_data"
    },
    {
     "name": "stderr",
     "output_type": "stream",
     "text": [
      " 82%|████████▏ | 822/1000 [00:23<00:04, 37.68it/s]"
     ]
    },
    {
     "data": {
      "text/plain": [
       "<Figure size 640x480 with 0 Axes>"
      ]
     },
     "metadata": {},
     "output_type": "display_data"
    },
    {
     "data": {
      "text/plain": [
       "<Figure size 640x480 with 0 Axes>"
      ]
     },
     "metadata": {},
     "output_type": "display_data"
    },
    {
     "data": {
      "text/plain": [
       "<Figure size 640x480 with 0 Axes>"
      ]
     },
     "metadata": {},
     "output_type": "display_data"
    },
    {
     "data": {
      "text/plain": [
       "<Figure size 640x480 with 0 Axes>"
      ]
     },
     "metadata": {},
     "output_type": "display_data"
    },
    {
     "name": "stderr",
     "output_type": "stream",
     "text": [
      " 83%|████████▎ | 826/1000 [00:23<00:05, 34.02it/s]"
     ]
    },
    {
     "data": {
      "text/plain": [
       "<Figure size 640x480 with 0 Axes>"
      ]
     },
     "metadata": {},
     "output_type": "display_data"
    },
    {
     "data": {
      "text/plain": [
       "<Figure size 640x480 with 0 Axes>"
      ]
     },
     "metadata": {},
     "output_type": "display_data"
    },
    {
     "data": {
      "text/plain": [
       "<Figure size 640x480 with 0 Axes>"
      ]
     },
     "metadata": {},
     "output_type": "display_data"
    },
    {
     "data": {
      "text/plain": [
       "<Figure size 640x480 with 0 Axes>"
      ]
     },
     "metadata": {},
     "output_type": "display_data"
    },
    {
     "name": "stderr",
     "output_type": "stream",
     "text": [
      " 83%|████████▎ | 830/1000 [00:23<00:04, 35.05it/s]"
     ]
    },
    {
     "data": {
      "text/plain": [
       "<Figure size 640x480 with 0 Axes>"
      ]
     },
     "metadata": {},
     "output_type": "display_data"
    },
    {
     "data": {
      "text/plain": [
       "<Figure size 640x480 with 0 Axes>"
      ]
     },
     "metadata": {},
     "output_type": "display_data"
    },
    {
     "data": {
      "text/plain": [
       "<Figure size 640x480 with 0 Axes>"
      ]
     },
     "metadata": {},
     "output_type": "display_data"
    },
    {
     "data": {
      "text/plain": [
       "<Figure size 640x480 with 0 Axes>"
      ]
     },
     "metadata": {},
     "output_type": "display_data"
    },
    {
     "name": "stderr",
     "output_type": "stream",
     "text": [
      " 83%|████████▎ | 834/1000 [00:23<00:04, 36.09it/s]"
     ]
    },
    {
     "data": {
      "text/plain": [
       "<Figure size 640x480 with 0 Axes>"
      ]
     },
     "metadata": {},
     "output_type": "display_data"
    },
    {
     "data": {
      "text/plain": [
       "<Figure size 640x480 with 0 Axes>"
      ]
     },
     "metadata": {},
     "output_type": "display_data"
    },
    {
     "data": {
      "text/plain": [
       "<Figure size 640x480 with 0 Axes>"
      ]
     },
     "metadata": {},
     "output_type": "display_data"
    },
    {
     "data": {
      "text/plain": [
       "<Figure size 640x480 with 0 Axes>"
      ]
     },
     "metadata": {},
     "output_type": "display_data"
    },
    {
     "name": "stderr",
     "output_type": "stream",
     "text": [
      " 84%|████████▍ | 838/1000 [00:23<00:04, 36.82it/s]"
     ]
    },
    {
     "data": {
      "text/plain": [
       "<Figure size 640x480 with 0 Axes>"
      ]
     },
     "metadata": {},
     "output_type": "display_data"
    },
    {
     "data": {
      "text/plain": [
       "<Figure size 640x480 with 0 Axes>"
      ]
     },
     "metadata": {},
     "output_type": "display_data"
    },
    {
     "data": {
      "text/plain": [
       "<Figure size 640x480 with 0 Axes>"
      ]
     },
     "metadata": {},
     "output_type": "display_data"
    },
    {
     "data": {
      "text/plain": [
       "<Figure size 640x480 with 0 Axes>"
      ]
     },
     "metadata": {},
     "output_type": "display_data"
    },
    {
     "name": "stderr",
     "output_type": "stream",
     "text": [
      " 84%|████████▍ | 842/1000 [00:24<00:04, 35.18it/s]"
     ]
    },
    {
     "data": {
      "text/plain": [
       "<Figure size 640x480 with 0 Axes>"
      ]
     },
     "metadata": {},
     "output_type": "display_data"
    },
    {
     "data": {
      "text/plain": [
       "<Figure size 640x480 with 0 Axes>"
      ]
     },
     "metadata": {},
     "output_type": "display_data"
    },
    {
     "data": {
      "text/plain": [
       "<Figure size 640x480 with 0 Axes>"
      ]
     },
     "metadata": {},
     "output_type": "display_data"
    },
    {
     "data": {
      "text/plain": [
       "<Figure size 640x480 with 0 Axes>"
      ]
     },
     "metadata": {},
     "output_type": "display_data"
    },
    {
     "name": "stderr",
     "output_type": "stream",
     "text": [
      " 85%|████████▍ | 846/1000 [00:24<00:04, 36.00it/s]"
     ]
    },
    {
     "data": {
      "text/plain": [
       "<Figure size 640x480 with 0 Axes>"
      ]
     },
     "metadata": {},
     "output_type": "display_data"
    },
    {
     "data": {
      "text/plain": [
       "<Figure size 640x480 with 0 Axes>"
      ]
     },
     "metadata": {},
     "output_type": "display_data"
    },
    {
     "data": {
      "text/plain": [
       "<Figure size 640x480 with 0 Axes>"
      ]
     },
     "metadata": {},
     "output_type": "display_data"
    },
    {
     "data": {
      "text/plain": [
       "<Figure size 640x480 with 0 Axes>"
      ]
     },
     "metadata": {},
     "output_type": "display_data"
    },
    {
     "name": "stderr",
     "output_type": "stream",
     "text": [
      " 85%|████████▌ | 850/1000 [00:24<00:04, 36.91it/s]"
     ]
    },
    {
     "data": {
      "text/plain": [
       "<Figure size 640x480 with 0 Axes>"
      ]
     },
     "metadata": {},
     "output_type": "display_data"
    },
    {
     "data": {
      "text/plain": [
       "<Figure size 640x480 with 0 Axes>"
      ]
     },
     "metadata": {},
     "output_type": "display_data"
    },
    {
     "data": {
      "text/plain": [
       "<Figure size 640x480 with 0 Axes>"
      ]
     },
     "metadata": {},
     "output_type": "display_data"
    },
    {
     "data": {
      "text/plain": [
       "<Figure size 640x480 with 0 Axes>"
      ]
     },
     "metadata": {},
     "output_type": "display_data"
    },
    {
     "name": "stderr",
     "output_type": "stream",
     "text": [
      " 85%|████████▌ | 854/1000 [00:24<00:03, 37.49it/s]"
     ]
    },
    {
     "data": {
      "text/plain": [
       "<Figure size 640x480 with 0 Axes>"
      ]
     },
     "metadata": {},
     "output_type": "display_data"
    },
    {
     "data": {
      "text/plain": [
       "<Figure size 640x480 with 0 Axes>"
      ]
     },
     "metadata": {},
     "output_type": "display_data"
    },
    {
     "data": {
      "text/plain": [
       "<Figure size 640x480 with 0 Axes>"
      ]
     },
     "metadata": {},
     "output_type": "display_data"
    },
    {
     "data": {
      "text/plain": [
       "<Figure size 640x480 with 0 Axes>"
      ]
     },
     "metadata": {},
     "output_type": "display_data"
    },
    {
     "name": "stderr",
     "output_type": "stream",
     "text": [
      " 86%|████████▌ | 858/1000 [00:24<00:04, 33.82it/s]"
     ]
    },
    {
     "data": {
      "text/plain": [
       "<Figure size 640x480 with 0 Axes>"
      ]
     },
     "metadata": {},
     "output_type": "display_data"
    },
    {
     "data": {
      "text/plain": [
       "<Figure size 640x480 with 0 Axes>"
      ]
     },
     "metadata": {},
     "output_type": "display_data"
    },
    {
     "data": {
      "text/plain": [
       "<Figure size 640x480 with 0 Axes>"
      ]
     },
     "metadata": {},
     "output_type": "display_data"
    },
    {
     "data": {
      "text/plain": [
       "<Figure size 640x480 with 0 Axes>"
      ]
     },
     "metadata": {},
     "output_type": "display_data"
    },
    {
     "data": {
      "text/plain": [
       "<Figure size 640x480 with 0 Axes>"
      ]
     },
     "metadata": {},
     "output_type": "display_data"
    },
    {
     "name": "stderr",
     "output_type": "stream",
     "text": [
      " 86%|████████▋ | 863/1000 [00:24<00:03, 35.69it/s]"
     ]
    },
    {
     "data": {
      "text/plain": [
       "<Figure size 640x480 with 0 Axes>"
      ]
     },
     "metadata": {},
     "output_type": "display_data"
    },
    {
     "data": {
      "text/plain": [
       "<Figure size 640x480 with 0 Axes>"
      ]
     },
     "metadata": {},
     "output_type": "display_data"
    },
    {
     "data": {
      "text/plain": [
       "<Figure size 640x480 with 0 Axes>"
      ]
     },
     "metadata": {},
     "output_type": "display_data"
    },
    {
     "data": {
      "text/plain": [
       "<Figure size 640x480 with 0 Axes>"
      ]
     },
     "metadata": {},
     "output_type": "display_data"
    },
    {
     "name": "stderr",
     "output_type": "stream",
     "text": [
      " 87%|████████▋ | 867/1000 [00:24<00:03, 36.78it/s]"
     ]
    },
    {
     "data": {
      "text/plain": [
       "<Figure size 640x480 with 0 Axes>"
      ]
     },
     "metadata": {},
     "output_type": "display_data"
    },
    {
     "data": {
      "text/plain": [
       "<Figure size 640x480 with 0 Axes>"
      ]
     },
     "metadata": {},
     "output_type": "display_data"
    },
    {
     "data": {
      "text/plain": [
       "<Figure size 640x480 with 0 Axes>"
      ]
     },
     "metadata": {},
     "output_type": "display_data"
    },
    {
     "data": {
      "text/plain": [
       "<Figure size 640x480 with 0 Axes>"
      ]
     },
     "metadata": {},
     "output_type": "display_data"
    },
    {
     "name": "stderr",
     "output_type": "stream",
     "text": [
      " 87%|████████▋ | 871/1000 [00:24<00:03, 33.71it/s]"
     ]
    },
    {
     "data": {
      "text/plain": [
       "<Figure size 640x480 with 0 Axes>"
      ]
     },
     "metadata": {},
     "output_type": "display_data"
    },
    {
     "data": {
      "text/plain": [
       "<Figure size 640x480 with 0 Axes>"
      ]
     },
     "metadata": {},
     "output_type": "display_data"
    },
    {
     "data": {
      "text/plain": [
       "<Figure size 640x480 with 0 Axes>"
      ]
     },
     "metadata": {},
     "output_type": "display_data"
    },
    {
     "data": {
      "text/plain": [
       "<Figure size 640x480 with 0 Axes>"
      ]
     },
     "metadata": {},
     "output_type": "display_data"
    },
    {
     "name": "stderr",
     "output_type": "stream",
     "text": [
      " 88%|████████▊ | 875/1000 [00:24<00:03, 34.97it/s]"
     ]
    },
    {
     "data": {
      "text/plain": [
       "<Figure size 640x480 with 0 Axes>"
      ]
     },
     "metadata": {},
     "output_type": "display_data"
    },
    {
     "data": {
      "text/plain": [
       "<Figure size 640x480 with 0 Axes>"
      ]
     },
     "metadata": {},
     "output_type": "display_data"
    },
    {
     "data": {
      "text/plain": [
       "<Figure size 640x480 with 0 Axes>"
      ]
     },
     "metadata": {},
     "output_type": "display_data"
    },
    {
     "data": {
      "text/plain": [
       "<Figure size 640x480 with 0 Axes>"
      ]
     },
     "metadata": {},
     "output_type": "display_data"
    },
    {
     "name": "stderr",
     "output_type": "stream",
     "text": [
      " 88%|████████▊ | 879/1000 [00:25<00:03, 36.26it/s]"
     ]
    },
    {
     "data": {
      "text/plain": [
       "<Figure size 640x480 with 0 Axes>"
      ]
     },
     "metadata": {},
     "output_type": "display_data"
    },
    {
     "data": {
      "text/plain": [
       "<Figure size 640x480 with 0 Axes>"
      ]
     },
     "metadata": {},
     "output_type": "display_data"
    },
    {
     "data": {
      "text/plain": [
       "<Figure size 640x480 with 0 Axes>"
      ]
     },
     "metadata": {},
     "output_type": "display_data"
    },
    {
     "data": {
      "text/plain": [
       "<Figure size 640x480 with 0 Axes>"
      ]
     },
     "metadata": {},
     "output_type": "display_data"
    },
    {
     "name": "stderr",
     "output_type": "stream",
     "text": [
      " 88%|████████▊ | 883/1000 [00:25<00:03, 37.23it/s]"
     ]
    },
    {
     "data": {
      "text/plain": [
       "<Figure size 640x480 with 0 Axes>"
      ]
     },
     "metadata": {},
     "output_type": "display_data"
    },
    {
     "data": {
      "text/plain": [
       "<Figure size 640x480 with 0 Axes>"
      ]
     },
     "metadata": {},
     "output_type": "display_data"
    },
    {
     "data": {
      "text/plain": [
       "<Figure size 640x480 with 0 Axes>"
      ]
     },
     "metadata": {},
     "output_type": "display_data"
    },
    {
     "data": {
      "text/plain": [
       "<Figure size 640x480 with 0 Axes>"
      ]
     },
     "metadata": {},
     "output_type": "display_data"
    },
    {
     "name": "stderr",
     "output_type": "stream",
     "text": [
      " 89%|████████▊ | 887/1000 [00:25<00:03, 33.21it/s]"
     ]
    },
    {
     "data": {
      "text/plain": [
       "<Figure size 640x480 with 0 Axes>"
      ]
     },
     "metadata": {},
     "output_type": "display_data"
    },
    {
     "data": {
      "text/plain": [
       "<Figure size 640x480 with 0 Axes>"
      ]
     },
     "metadata": {},
     "output_type": "display_data"
    },
    {
     "data": {
      "text/plain": [
       "<Figure size 640x480 with 0 Axes>"
      ]
     },
     "metadata": {},
     "output_type": "display_data"
    },
    {
     "data": {
      "text/plain": [
       "<Figure size 640x480 with 0 Axes>"
      ]
     },
     "metadata": {},
     "output_type": "display_data"
    },
    {
     "data": {
      "text/plain": [
       "<Figure size 640x480 with 0 Axes>"
      ]
     },
     "metadata": {},
     "output_type": "display_data"
    },
    {
     "name": "stderr",
     "output_type": "stream",
     "text": [
      " 89%|████████▉ | 892/1000 [00:25<00:03, 35.40it/s]"
     ]
    },
    {
     "data": {
      "text/plain": [
       "<Figure size 640x480 with 0 Axes>"
      ]
     },
     "metadata": {},
     "output_type": "display_data"
    },
    {
     "data": {
      "text/plain": [
       "<Figure size 640x480 with 0 Axes>"
      ]
     },
     "metadata": {},
     "output_type": "display_data"
    },
    {
     "data": {
      "text/plain": [
       "<Figure size 640x480 with 0 Axes>"
      ]
     },
     "metadata": {},
     "output_type": "display_data"
    },
    {
     "data": {
      "text/plain": [
       "<Figure size 640x480 with 0 Axes>"
      ]
     },
     "metadata": {},
     "output_type": "display_data"
    },
    {
     "name": "stderr",
     "output_type": "stream",
     "text": [
      " 90%|████████▉ | 896/1000 [00:25<00:02, 36.37it/s]"
     ]
    },
    {
     "data": {
      "text/plain": [
       "<Figure size 640x480 with 0 Axes>"
      ]
     },
     "metadata": {},
     "output_type": "display_data"
    },
    {
     "data": {
      "text/plain": [
       "<Figure size 640x480 with 0 Axes>"
      ]
     },
     "metadata": {},
     "output_type": "display_data"
    },
    {
     "data": {
      "text/plain": [
       "<Figure size 640x480 with 0 Axes>"
      ]
     },
     "metadata": {},
     "output_type": "display_data"
    },
    {
     "data": {
      "text/plain": [
       "<Figure size 640x480 with 0 Axes>"
      ]
     },
     "metadata": {},
     "output_type": "display_data"
    },
    {
     "data": {
      "text/plain": [
       "<Figure size 640x480 with 0 Axes>"
      ]
     },
     "metadata": {},
     "output_type": "display_data"
    },
    {
     "name": "stderr",
     "output_type": "stream",
     "text": [
      " 90%|█████████ | 901/1000 [00:25<00:02, 35.05it/s]"
     ]
    },
    {
     "data": {
      "text/plain": [
       "<Figure size 640x480 with 0 Axes>"
      ]
     },
     "metadata": {},
     "output_type": "display_data"
    },
    {
     "data": {
      "text/plain": [
       "<Figure size 640x480 with 0 Axes>"
      ]
     },
     "metadata": {},
     "output_type": "display_data"
    },
    {
     "data": {
      "text/plain": [
       "<Figure size 640x480 with 0 Axes>"
      ]
     },
     "metadata": {},
     "output_type": "display_data"
    },
    {
     "data": {
      "text/plain": [
       "<Figure size 640x480 with 0 Axes>"
      ]
     },
     "metadata": {},
     "output_type": "display_data"
    },
    {
     "name": "stderr",
     "output_type": "stream",
     "text": [
      " 90%|█████████ | 905/1000 [00:25<00:02, 35.69it/s]"
     ]
    },
    {
     "data": {
      "text/plain": [
       "<Figure size 640x480 with 0 Axes>"
      ]
     },
     "metadata": {},
     "output_type": "display_data"
    },
    {
     "data": {
      "text/plain": [
       "<Figure size 640x480 with 0 Axes>"
      ]
     },
     "metadata": {},
     "output_type": "display_data"
    },
    {
     "data": {
      "text/plain": [
       "<Figure size 640x480 with 0 Axes>"
      ]
     },
     "metadata": {},
     "output_type": "display_data"
    },
    {
     "data": {
      "text/plain": [
       "<Figure size 640x480 with 0 Axes>"
      ]
     },
     "metadata": {},
     "output_type": "display_data"
    },
    {
     "name": "stderr",
     "output_type": "stream",
     "text": [
      " 91%|█████████ | 909/1000 [00:25<00:02, 36.66it/s]"
     ]
    },
    {
     "data": {
      "text/plain": [
       "<Figure size 640x480 with 0 Axes>"
      ]
     },
     "metadata": {},
     "output_type": "display_data"
    },
    {
     "data": {
      "text/plain": [
       "<Figure size 640x480 with 0 Axes>"
      ]
     },
     "metadata": {},
     "output_type": "display_data"
    },
    {
     "data": {
      "text/plain": [
       "<Figure size 640x480 with 0 Axes>"
      ]
     },
     "metadata": {},
     "output_type": "display_data"
    },
    {
     "data": {
      "text/plain": [
       "<Figure size 640x480 with 0 Axes>"
      ]
     },
     "metadata": {},
     "output_type": "display_data"
    },
    {
     "name": "stderr",
     "output_type": "stream",
     "text": [
      " 91%|█████████▏| 913/1000 [00:26<00:02, 36.90it/s]"
     ]
    },
    {
     "data": {
      "text/plain": [
       "<Figure size 640x480 with 0 Axes>"
      ]
     },
     "metadata": {},
     "output_type": "display_data"
    },
    {
     "data": {
      "text/plain": [
       "<Figure size 640x480 with 0 Axes>"
      ]
     },
     "metadata": {},
     "output_type": "display_data"
    },
    {
     "data": {
      "text/plain": [
       "<Figure size 640x480 with 0 Axes>"
      ]
     },
     "metadata": {},
     "output_type": "display_data"
    },
    {
     "data": {
      "text/plain": [
       "<Figure size 640x480 with 0 Axes>"
      ]
     },
     "metadata": {},
     "output_type": "display_data"
    },
    {
     "name": "stderr",
     "output_type": "stream",
     "text": [
      " 92%|█████████▏| 917/1000 [00:26<00:02, 35.07it/s]"
     ]
    },
    {
     "data": {
      "text/plain": [
       "<Figure size 640x480 with 0 Axes>"
      ]
     },
     "metadata": {},
     "output_type": "display_data"
    },
    {
     "data": {
      "text/plain": [
       "<Figure size 640x480 with 0 Axes>"
      ]
     },
     "metadata": {},
     "output_type": "display_data"
    },
    {
     "data": {
      "text/plain": [
       "<Figure size 640x480 with 0 Axes>"
      ]
     },
     "metadata": {},
     "output_type": "display_data"
    },
    {
     "data": {
      "text/plain": [
       "<Figure size 640x480 with 0 Axes>"
      ]
     },
     "metadata": {},
     "output_type": "display_data"
    },
    {
     "name": "stderr",
     "output_type": "stream",
     "text": [
      " 92%|█████████▏| 921/1000 [00:26<00:02, 36.00it/s]"
     ]
    },
    {
     "data": {
      "text/plain": [
       "<Figure size 640x480 with 0 Axes>"
      ]
     },
     "metadata": {},
     "output_type": "display_data"
    },
    {
     "data": {
      "text/plain": [
       "<Figure size 640x480 with 0 Axes>"
      ]
     },
     "metadata": {},
     "output_type": "display_data"
    },
    {
     "data": {
      "text/plain": [
       "<Figure size 640x480 with 0 Axes>"
      ]
     },
     "metadata": {},
     "output_type": "display_data"
    },
    {
     "data": {
      "text/plain": [
       "<Figure size 640x480 with 0 Axes>"
      ]
     },
     "metadata": {},
     "output_type": "display_data"
    },
    {
     "name": "stderr",
     "output_type": "stream",
     "text": [
      " 92%|█████████▎| 925/1000 [00:26<00:02, 36.95it/s]"
     ]
    },
    {
     "data": {
      "text/plain": [
       "<Figure size 640x480 with 0 Axes>"
      ]
     },
     "metadata": {},
     "output_type": "display_data"
    },
    {
     "data": {
      "text/plain": [
       "<Figure size 640x480 with 0 Axes>"
      ]
     },
     "metadata": {},
     "output_type": "display_data"
    },
    {
     "data": {
      "text/plain": [
       "<Figure size 640x480 with 0 Axes>"
      ]
     },
     "metadata": {},
     "output_type": "display_data"
    },
    {
     "data": {
      "text/plain": [
       "<Figure size 640x480 with 0 Axes>"
      ]
     },
     "metadata": {},
     "output_type": "display_data"
    },
    {
     "data": {
      "text/plain": [
       "<Figure size 640x480 with 0 Axes>"
      ]
     },
     "metadata": {},
     "output_type": "display_data"
    },
    {
     "name": "stderr",
     "output_type": "stream",
     "text": [
      " 93%|█████████▎| 930/1000 [00:26<00:01, 37.95it/s]"
     ]
    },
    {
     "data": {
      "text/plain": [
       "<Figure size 640x480 with 0 Axes>"
      ]
     },
     "metadata": {},
     "output_type": "display_data"
    },
    {
     "data": {
      "text/plain": [
       "<Figure size 640x480 with 0 Axes>"
      ]
     },
     "metadata": {},
     "output_type": "display_data"
    },
    {
     "data": {
      "text/plain": [
       "<Figure size 640x480 with 0 Axes>"
      ]
     },
     "metadata": {},
     "output_type": "display_data"
    },
    {
     "data": {
      "text/plain": [
       "<Figure size 640x480 with 0 Axes>"
      ]
     },
     "metadata": {},
     "output_type": "display_data"
    },
    {
     "name": "stderr",
     "output_type": "stream",
     "text": [
      " 93%|█████████▎| 934/1000 [00:26<00:01, 35.09it/s]"
     ]
    },
    {
     "data": {
      "text/plain": [
       "<Figure size 640x480 with 0 Axes>"
      ]
     },
     "metadata": {},
     "output_type": "display_data"
    },
    {
     "data": {
      "text/plain": [
       "<Figure size 640x480 with 0 Axes>"
      ]
     },
     "metadata": {},
     "output_type": "display_data"
    },
    {
     "data": {
      "text/plain": [
       "<Figure size 640x480 with 0 Axes>"
      ]
     },
     "metadata": {},
     "output_type": "display_data"
    },
    {
     "data": {
      "text/plain": [
       "<Figure size 640x480 with 0 Axes>"
      ]
     },
     "metadata": {},
     "output_type": "display_data"
    },
    {
     "name": "stderr",
     "output_type": "stream",
     "text": [
      " 94%|█████████▍| 938/1000 [00:26<00:01, 36.21it/s]"
     ]
    },
    {
     "data": {
      "text/plain": [
       "<Figure size 640x480 with 0 Axes>"
      ]
     },
     "metadata": {},
     "output_type": "display_data"
    },
    {
     "data": {
      "text/plain": [
       "<Figure size 640x480 with 0 Axes>"
      ]
     },
     "metadata": {},
     "output_type": "display_data"
    },
    {
     "data": {
      "text/plain": [
       "<Figure size 640x480 with 0 Axes>"
      ]
     },
     "metadata": {},
     "output_type": "display_data"
    },
    {
     "data": {
      "text/plain": [
       "<Figure size 640x480 with 0 Axes>"
      ]
     },
     "metadata": {},
     "output_type": "display_data"
    },
    {
     "name": "stderr",
     "output_type": "stream",
     "text": [
      " 94%|█████████▍| 942/1000 [00:26<00:01, 36.99it/s]"
     ]
    },
    {
     "data": {
      "text/plain": [
       "<Figure size 640x480 with 0 Axes>"
      ]
     },
     "metadata": {},
     "output_type": "display_data"
    },
    {
     "data": {
      "text/plain": [
       "<Figure size 640x480 with 0 Axes>"
      ]
     },
     "metadata": {},
     "output_type": "display_data"
    },
    {
     "data": {
      "text/plain": [
       "<Figure size 640x480 with 0 Axes>"
      ]
     },
     "metadata": {},
     "output_type": "display_data"
    },
    {
     "data": {
      "text/plain": [
       "<Figure size 640x480 with 0 Axes>"
      ]
     },
     "metadata": {},
     "output_type": "display_data"
    },
    {
     "name": "stderr",
     "output_type": "stream",
     "text": [
      " 95%|█████████▍| 946/1000 [00:26<00:01, 35.72it/s]"
     ]
    },
    {
     "data": {
      "text/plain": [
       "<Figure size 640x480 with 0 Axes>"
      ]
     },
     "metadata": {},
     "output_type": "display_data"
    },
    {
     "data": {
      "text/plain": [
       "<Figure size 640x480 with 0 Axes>"
      ]
     },
     "metadata": {},
     "output_type": "display_data"
    },
    {
     "data": {
      "text/plain": [
       "<Figure size 640x480 with 0 Axes>"
      ]
     },
     "metadata": {},
     "output_type": "display_data"
    },
    {
     "data": {
      "text/plain": [
       "<Figure size 640x480 with 0 Axes>"
      ]
     },
     "metadata": {},
     "output_type": "display_data"
    },
    {
     "name": "stderr",
     "output_type": "stream",
     "text": [
      " 95%|█████████▌| 950/1000 [00:27<00:01, 34.00it/s]"
     ]
    },
    {
     "data": {
      "text/plain": [
       "<Figure size 640x480 with 0 Axes>"
      ]
     },
     "metadata": {},
     "output_type": "display_data"
    },
    {
     "data": {
      "text/plain": [
       "<Figure size 640x480 with 0 Axes>"
      ]
     },
     "metadata": {},
     "output_type": "display_data"
    },
    {
     "data": {
      "text/plain": [
       "<Figure size 640x480 with 0 Axes>"
      ]
     },
     "metadata": {},
     "output_type": "display_data"
    },
    {
     "data": {
      "text/plain": [
       "<Figure size 640x480 with 0 Axes>"
      ]
     },
     "metadata": {},
     "output_type": "display_data"
    },
    {
     "name": "stderr",
     "output_type": "stream",
     "text": [
      " 95%|█████████▌| 954/1000 [00:27<00:01, 35.01it/s]"
     ]
    },
    {
     "data": {
      "text/plain": [
       "<Figure size 640x480 with 0 Axes>"
      ]
     },
     "metadata": {},
     "output_type": "display_data"
    },
    {
     "data": {
      "text/plain": [
       "<Figure size 640x480 with 0 Axes>"
      ]
     },
     "metadata": {},
     "output_type": "display_data"
    },
    {
     "data": {
      "text/plain": [
       "<Figure size 640x480 with 0 Axes>"
      ]
     },
     "metadata": {},
     "output_type": "display_data"
    },
    {
     "data": {
      "text/plain": [
       "<Figure size 640x480 with 0 Axes>"
      ]
     },
     "metadata": {},
     "output_type": "display_data"
    },
    {
     "name": "stderr",
     "output_type": "stream",
     "text": [
      " 96%|█████████▌| 958/1000 [00:27<00:01, 35.81it/s]"
     ]
    },
    {
     "data": {
      "text/plain": [
       "<Figure size 640x480 with 0 Axes>"
      ]
     },
     "metadata": {},
     "output_type": "display_data"
    },
    {
     "data": {
      "text/plain": [
       "<Figure size 640x480 with 0 Axes>"
      ]
     },
     "metadata": {},
     "output_type": "display_data"
    },
    {
     "data": {
      "text/plain": [
       "<Figure size 640x480 with 0 Axes>"
      ]
     },
     "metadata": {},
     "output_type": "display_data"
    },
    {
     "data": {
      "text/plain": [
       "<Figure size 640x480 with 0 Axes>"
      ]
     },
     "metadata": {},
     "output_type": "display_data"
    },
    {
     "name": "stderr",
     "output_type": "stream",
     "text": [
      " 96%|█████████▌| 962/1000 [00:27<00:01, 29.02it/s]"
     ]
    },
    {
     "data": {
      "text/plain": [
       "<Figure size 640x480 with 0 Axes>"
      ]
     },
     "metadata": {},
     "output_type": "display_data"
    },
    {
     "data": {
      "text/plain": [
       "<Figure size 640x480 with 0 Axes>"
      ]
     },
     "metadata": {},
     "output_type": "display_data"
    },
    {
     "data": {
      "text/plain": [
       "<Figure size 640x480 with 0 Axes>"
      ]
     },
     "metadata": {},
     "output_type": "display_data"
    },
    {
     "data": {
      "text/plain": [
       "<Figure size 640x480 with 0 Axes>"
      ]
     },
     "metadata": {},
     "output_type": "display_data"
    },
    {
     "name": "stderr",
     "output_type": "stream",
     "text": [
      " 97%|█████████▋| 966/1000 [00:27<00:01, 30.80it/s]"
     ]
    },
    {
     "data": {
      "text/plain": [
       "<Figure size 640x480 with 0 Axes>"
      ]
     },
     "metadata": {},
     "output_type": "display_data"
    },
    {
     "data": {
      "text/plain": [
       "<Figure size 640x480 with 0 Axes>"
      ]
     },
     "metadata": {},
     "output_type": "display_data"
    },
    {
     "data": {
      "text/plain": [
       "<Figure size 640x480 with 0 Axes>"
      ]
     },
     "metadata": {},
     "output_type": "display_data"
    },
    {
     "data": {
      "text/plain": [
       "<Figure size 640x480 with 0 Axes>"
      ]
     },
     "metadata": {},
     "output_type": "display_data"
    },
    {
     "name": "stderr",
     "output_type": "stream",
     "text": [
      " 97%|█████████▋| 970/1000 [00:27<00:00, 32.28it/s]"
     ]
    },
    {
     "data": {
      "text/plain": [
       "<Figure size 640x480 with 0 Axes>"
      ]
     },
     "metadata": {},
     "output_type": "display_data"
    },
    {
     "data": {
      "text/plain": [
       "<Figure size 640x480 with 0 Axes>"
      ]
     },
     "metadata": {},
     "output_type": "display_data"
    },
    {
     "data": {
      "text/plain": [
       "<Figure size 640x480 with 0 Axes>"
      ]
     },
     "metadata": {},
     "output_type": "display_data"
    },
    {
     "data": {
      "text/plain": [
       "<Figure size 640x480 with 0 Axes>"
      ]
     },
     "metadata": {},
     "output_type": "display_data"
    },
    {
     "name": "stderr",
     "output_type": "stream",
     "text": [
      " 97%|█████████▋| 974/1000 [00:27<00:00, 34.04it/s]"
     ]
    },
    {
     "data": {
      "text/plain": [
       "<Figure size 640x480 with 0 Axes>"
      ]
     },
     "metadata": {},
     "output_type": "display_data"
    },
    {
     "data": {
      "text/plain": [
       "<Figure size 640x480 with 0 Axes>"
      ]
     },
     "metadata": {},
     "output_type": "display_data"
    },
    {
     "data": {
      "text/plain": [
       "<Figure size 640x480 with 0 Axes>"
      ]
     },
     "metadata": {},
     "output_type": "display_data"
    },
    {
     "data": {
      "text/plain": [
       "<Figure size 640x480 with 0 Axes>"
      ]
     },
     "metadata": {},
     "output_type": "display_data"
    },
    {
     "name": "stderr",
     "output_type": "stream",
     "text": [
      " 98%|█████████▊| 978/1000 [00:27<00:00, 32.85it/s]"
     ]
    },
    {
     "data": {
      "text/plain": [
       "<Figure size 640x480 with 0 Axes>"
      ]
     },
     "metadata": {},
     "output_type": "display_data"
    },
    {
     "data": {
      "text/plain": [
       "<Figure size 640x480 with 0 Axes>"
      ]
     },
     "metadata": {},
     "output_type": "display_data"
    },
    {
     "data": {
      "text/plain": [
       "<Figure size 640x480 with 0 Axes>"
      ]
     },
     "metadata": {},
     "output_type": "display_data"
    },
    {
     "data": {
      "text/plain": [
       "<Figure size 640x480 with 0 Axes>"
      ]
     },
     "metadata": {},
     "output_type": "display_data"
    },
    {
     "name": "stderr",
     "output_type": "stream",
     "text": [
      " 98%|█████████▊| 982/1000 [00:28<00:00, 34.51it/s]"
     ]
    },
    {
     "data": {
      "text/plain": [
       "<Figure size 640x480 with 0 Axes>"
      ]
     },
     "metadata": {},
     "output_type": "display_data"
    },
    {
     "data": {
      "text/plain": [
       "<Figure size 640x480 with 0 Axes>"
      ]
     },
     "metadata": {},
     "output_type": "display_data"
    },
    {
     "data": {
      "text/plain": [
       "<Figure size 640x480 with 0 Axes>"
      ]
     },
     "metadata": {},
     "output_type": "display_data"
    },
    {
     "data": {
      "text/plain": [
       "<Figure size 640x480 with 0 Axes>"
      ]
     },
     "metadata": {},
     "output_type": "display_data"
    },
    {
     "name": "stderr",
     "output_type": "stream",
     "text": [
      " 99%|█████████▊| 986/1000 [00:28<00:00, 35.75it/s]"
     ]
    },
    {
     "data": {
      "text/plain": [
       "<Figure size 640x480 with 0 Axes>"
      ]
     },
     "metadata": {},
     "output_type": "display_data"
    },
    {
     "data": {
      "text/plain": [
       "<Figure size 640x480 with 0 Axes>"
      ]
     },
     "metadata": {},
     "output_type": "display_data"
    },
    {
     "data": {
      "text/plain": [
       "<Figure size 640x480 with 0 Axes>"
      ]
     },
     "metadata": {},
     "output_type": "display_data"
    },
    {
     "data": {
      "text/plain": [
       "<Figure size 640x480 with 0 Axes>"
      ]
     },
     "metadata": {},
     "output_type": "display_data"
    },
    {
     "name": "stderr",
     "output_type": "stream",
     "text": [
      " 99%|█████████▉| 990/1000 [00:28<00:00, 33.70it/s]"
     ]
    },
    {
     "data": {
      "text/plain": [
       "<Figure size 640x480 with 0 Axes>"
      ]
     },
     "metadata": {},
     "output_type": "display_data"
    },
    {
     "data": {
      "text/plain": [
       "<Figure size 640x480 with 0 Axes>"
      ]
     },
     "metadata": {},
     "output_type": "display_data"
    },
    {
     "data": {
      "text/plain": [
       "<Figure size 640x480 with 0 Axes>"
      ]
     },
     "metadata": {},
     "output_type": "display_data"
    },
    {
     "data": {
      "text/plain": [
       "<Figure size 640x480 with 0 Axes>"
      ]
     },
     "metadata": {},
     "output_type": "display_data"
    },
    {
     "name": "stderr",
     "output_type": "stream",
     "text": [
      " 99%|█████████▉| 994/1000 [00:28<00:00, 35.22it/s]"
     ]
    },
    {
     "data": {
      "text/plain": [
       "<Figure size 640x480 with 0 Axes>"
      ]
     },
     "metadata": {},
     "output_type": "display_data"
    },
    {
     "data": {
      "text/plain": [
       "<Figure size 640x480 with 0 Axes>"
      ]
     },
     "metadata": {},
     "output_type": "display_data"
    },
    {
     "data": {
      "text/plain": [
       "<Figure size 640x480 with 0 Axes>"
      ]
     },
     "metadata": {},
     "output_type": "display_data"
    },
    {
     "data": {
      "text/plain": [
       "<Figure size 640x480 with 0 Axes>"
      ]
     },
     "metadata": {},
     "output_type": "display_data"
    },
    {
     "name": "stderr",
     "output_type": "stream",
     "text": [
      "100%|█████████▉| 998/1000 [00:28<00:00, 36.49it/s]"
     ]
    },
    {
     "data": {
      "text/plain": [
       "<Figure size 640x480 with 0 Axes>"
      ]
     },
     "metadata": {},
     "output_type": "display_data"
    },
    {
     "data": {
      "text/plain": [
       "<Figure size 640x480 with 0 Axes>"
      ]
     },
     "metadata": {},
     "output_type": "display_data"
    },
    {
     "name": "stderr",
     "output_type": "stream",
     "text": [
      "100%|██████████| 1000/1000 [00:28<00:00, 35.04it/s]\n"
     ]
    }
   ],
   "source": [
    "import time\n",
    "time.sleep(1) \n",
    "hs.read_signal()"
   ]
  },
  {
   "cell_type": "code",
   "execution_count": 32,
   "metadata": {},
   "outputs": [
    {
     "data": {
      "text/plain": [
       "1000"
      ]
     },
     "execution_count": 32,
     "metadata": {},
     "output_type": "execute_result"
    }
   ],
   "source": [
    "len(hs.signal_buffer)"
   ]
  },
  {
   "cell_type": "code",
   "execution_count": 33,
   "metadata": {},
   "outputs": [],
   "source": [
    "import numpy as np\n",
    "import matplotlib.pyplot as plt\n",
    "\n",
    "from heartbeat.heartbeat_sensor.signal_processing import SignalProcessor\n",
    "np.random.seed(42)"
   ]
  },
  {
   "cell_type": "code",
   "execution_count": 34,
   "metadata": {},
   "outputs": [],
   "source": [
    "processor = SignalProcessor(filter_update_interval=50)"
   ]
  },
  {
   "cell_type": "code",
   "execution_count": 35,
   "metadata": {},
   "outputs": [],
   "source": [
    "raw_signals = hs.signal_buffer"
   ]
  },
  {
   "cell_type": "code",
   "execution_count": 36,
   "metadata": {},
   "outputs": [
    {
     "data": {
      "text/plain": [
       "(914.0, 1739681590.660995)"
      ]
     },
     "execution_count": 36,
     "metadata": {},
     "output_type": "execute_result"
    }
   ],
   "source": [
    "raw_signals[100]"
   ]
  },
  {
   "cell_type": "code",
   "execution_count": 37,
   "metadata": {},
   "outputs": [
    {
     "data": {
      "text/plain": [
       "[(911.0, 1739681587.804411),\n",
       " (911.0, 1739681587.893729),\n",
       " (911.0, 1739681587.919992),\n",
       " (911.0, 1739681587.946068),\n",
       " (911.0, 1739681587.969619),\n",
       " (911.0, 1739681587.9946618),\n",
       " (911.0, 1739681588.021373),\n",
       " (911.0, 1739681588.047622),\n",
       " (911.0, 1739681588.072143),\n",
       " (911.0, 1739681588.09853),\n",
       " (911.0, 1739681588.1251578),\n",
       " (911.0, 1739681588.152328),\n",
       " (911.0, 1739681588.1786182),\n",
       " (911.0, 1739681588.2060668),\n",
       " (912.0, 1739681588.233152),\n",
       " (912.0, 1739681588.260724),\n",
       " (911.0, 1739681588.290425),\n",
       " (912.0, 1739681588.375283),\n",
       " (913.0, 1739681588.402019),\n",
       " (911.0, 1739681588.429195),\n",
       " (912.0, 1739681588.454529),\n",
       " (913.0, 1739681588.479756),\n",
       " (912.0, 1739681588.505195),\n",
       " (913.0, 1739681588.5331168),\n",
       " (914.0, 1739681588.5593688),\n",
       " (913.0, 1739681588.58497),\n",
       " (913.0, 1739681588.6101718),\n",
       " (914.0, 1739681588.637066),\n",
       " (914.0, 1739681588.663677),\n",
       " (913.0, 1739681588.6881049),\n",
       " (915.0, 1739681588.715446),\n",
       " (915.0, 1739681588.741663),\n",
       " (914.0, 1739681588.76581),\n",
       " (915.0, 1739681588.823731),\n",
       " (915.0, 1739681588.849741),\n",
       " (915.0, 1739681588.876215),\n",
       " (915.0, 1739681588.901819),\n",
       " (916.0, 1739681588.928074),\n",
       " (915.0, 1739681588.9550312),\n",
       " (915.0, 1739681588.981747),\n",
       " (916.0, 1739681589.006491),\n",
       " (914.0, 1739681589.032133),\n",
       " (915.0, 1739681589.059001),\n",
       " (915.0, 1739681589.0854568),\n",
       " (915.0, 1739681589.1119301),\n",
       " (914.0, 1739681589.13834),\n",
       " (915.0, 1739681589.165113),\n",
       " (915.0, 1739681589.192255),\n",
       " (914.0, 1739681589.216458),\n",
       " (914.0, 1739681589.241023),\n",
       " (915.0, 1739681589.299293),\n",
       " (915.0, 1739681589.32714),\n",
       " (915.0, 1739681589.351053),\n",
       " (915.0, 1739681589.378261),\n",
       " (914.0, 1739681589.405039),\n",
       " (914.0, 1739681589.4313102),\n",
       " (915.0, 1739681589.455329),\n",
       " (914.0, 1739681589.480198),\n",
       " (914.0, 1739681589.5075111),\n",
       " (915.0, 1739681589.5320141),\n",
       " (915.0, 1739681589.558191),\n",
       " (914.0, 1739681589.582143),\n",
       " (915.0, 1739681589.608211),\n",
       " (915.0, 1739681589.636309),\n",
       " (914.0, 1739681589.66271),\n",
       " (915.0, 1739681589.689025),\n",
       " (915.0, 1739681589.71575),\n",
       " (914.0, 1739681589.7396202),\n",
       " (914.0, 1739681589.777867),\n",
       " (915.0, 1739681589.814037),\n",
       " (914.0, 1739681589.8409522),\n",
       " (914.0, 1739681589.8653498),\n",
       " (915.0, 1739681589.891567),\n",
       " (914.0, 1739681589.917889),\n",
       " (914.0, 1739681589.944567),\n",
       " (915.0, 1739681589.972181),\n",
       " (915.0, 1739681589.997806),\n",
       " (913.0, 1739681590.024127),\n",
       " (914.0, 1739681590.0507898),\n",
       " (915.0, 1739681590.076965),\n",
       " (914.0, 1739681590.103353),\n",
       " (914.0, 1739681590.128431),\n",
       " (915.0, 1739681590.155493),\n",
       " (914.0, 1739681590.18199),\n",
       " (914.0, 1739681590.2102568),\n",
       " (915.0, 1739681590.266572),\n",
       " (914.0, 1739681590.291596),\n",
       " (914.0, 1739681590.318481),\n",
       " (915.0, 1739681590.3445199),\n",
       " (914.0, 1739681590.371209),\n",
       " (914.0, 1739681590.395311),\n",
       " (915.0, 1739681590.4218729),\n",
       " (915.0, 1739681590.447881),\n",
       " (914.0, 1739681590.4758432),\n",
       " (914.0, 1739681590.502238),\n",
       " (915.0, 1739681590.528445),\n",
       " (914.0, 1739681590.554991),\n",
       " (914.0, 1739681590.581565),\n",
       " (915.0, 1739681590.608943),\n",
       " (913.0, 1739681590.634824),\n",
       " (914.0, 1739681590.660995),\n",
       " (915.0, 1739681590.700096),\n",
       " (914.0, 1739681590.736585),\n",
       " (914.0, 1739681590.7615302),\n",
       " (915.0, 1739681590.7879791),\n",
       " (914.0, 1739681590.8118138),\n",
       " (913.0, 1739681590.838754),\n",
       " (914.0, 1739681590.863177),\n",
       " (914.0, 1739681590.8905962),\n",
       " (913.0, 1739681590.916851),\n",
       " (914.0, 1739681590.939195),\n",
       " (914.0, 1739681590.9654138),\n",
       " (913.0, 1739681590.991031),\n",
       " (913.0, 1739681591.0174022),\n",
       " (914.0, 1739681591.043904),\n",
       " (913.0, 1739681591.069736),\n",
       " (913.0, 1739681591.09517),\n",
       " (914.0, 1739681591.125234),\n",
       " (913.0, 1739681591.1807659),\n",
       " (913.0, 1739681591.207263),\n",
       " (914.0, 1739681591.2337449),\n",
       " (913.0, 1739681591.259883),\n",
       " (913.0, 1739681591.28661),\n",
       " (913.0, 1739681591.3120818),\n",
       " (914.0, 1739681591.338423),\n",
       " (913.0, 1739681591.3645198),\n",
       " (913.0, 1739681591.390194),\n",
       " (913.0, 1739681591.4168901),\n",
       " (913.0, 1739681591.44097),\n",
       " (913.0, 1739681591.463231),\n",
       " (914.0, 1739681591.487499),\n",
       " (912.0, 1739681591.511774),\n",
       " (913.0, 1739681591.5382771),\n",
       " (913.0, 1739681591.5848079),\n",
       " (912.0, 1739681591.636723),\n",
       " (912.0, 1739681591.6635761),\n",
       " (913.0, 1739681591.690156),\n",
       " (913.0, 1739681591.7155142),\n",
       " (912.0, 1739681591.740973),\n",
       " (913.0, 1739681591.767547),\n",
       " (913.0, 1739681591.792324),\n",
       " (912.0, 1739681591.8175879),\n",
       " (912.0, 1739681591.842429),\n",
       " (913.0, 1739681591.8679569),\n",
       " (912.0, 1739681591.894779),\n",
       " (912.0, 1739681591.921277),\n",
       " (913.0, 1739681591.947693),\n",
       " (912.0, 1739681591.972776),\n",
       " (912.0, 1739681591.997039),\n",
       " (913.0, 1739681592.041975),\n",
       " (913.0, 1739681592.083401),\n",
       " (912.0, 1739681592.108607),\n",
       " (913.0, 1739681592.1349828),\n",
       " (913.0, 1739681592.161779),\n",
       " (912.0, 1739681592.188333),\n",
       " (912.0, 1739681592.214102),\n",
       " (913.0, 1739681592.239954),\n",
       " (912.0, 1739681592.2649221),\n",
       " (912.0, 1739681592.291452),\n",
       " (913.0, 1739681592.3181162),\n",
       " (911.0, 1739681592.345109),\n",
       " (912.0, 1739681592.3702452),\n",
       " (913.0, 1739681592.3951428),\n",
       " (911.0, 1739681592.421392),\n",
       " (912.0, 1739681592.4581912),\n",
       " (913.0, 1739681592.494433),\n",
       " (912.0, 1739681592.5219269),\n",
       " (911.0, 1739681592.547616),\n",
       " (913.0, 1739681592.5749812),\n",
       " (912.0, 1739681592.604224),\n",
       " (911.0, 1739681592.6304939),\n",
       " (912.0, 1739681592.656123),\n",
       " (912.0, 1739681592.682307),\n",
       " (911.0, 1739681592.7094772),\n",
       " (911.0, 1739681592.735004),\n",
       " (912.0, 1739681592.760503),\n",
       " (911.0, 1739681592.785184),\n",
       " (911.0, 1739681592.8114061),\n",
       " (913.0, 1739681592.838784),\n",
       " (911.0, 1739681592.862854),\n",
       " (911.0, 1739681592.887927),\n",
       " (913.0, 1739681592.911815),\n",
       " (912.0, 1739681592.936633),\n",
       " (911.0, 1739681593.0004458),\n",
       " (912.0, 1739681593.0267258),\n",
       " (912.0, 1739681593.0523012),\n",
       " (911.0, 1739681593.0785558),\n",
       " (912.0, 1739681593.104542),\n",
       " (913.0, 1739681593.128442),\n",
       " (912.0, 1739681593.155072),\n",
       " (913.0, 1739681593.179758),\n",
       " (913.0, 1739681593.204962),\n",
       " (913.0, 1739681593.2296681),\n",
       " (913.0, 1739681593.256447),\n",
       " (914.0, 1739681593.2803159),\n",
       " (913.0, 1739681593.3073359),\n",
       " (914.0, 1739681593.334166),\n",
       " (915.0, 1739681593.378073),\n",
       " (914.0, 1739681593.4240909),\n",
       " (914.0, 1739681593.450804),\n",
       " (915.0, 1739681593.477115),\n",
       " (915.0, 1739681593.5012748),\n",
       " (915.0, 1739681593.525537),\n",
       " (915.0, 1739681593.551717),\n",
       " (915.0, 1739681593.577915),\n",
       " (914.0, 1739681593.604285),\n",
       " (915.0, 1739681593.6297112),\n",
       " (916.0, 1739681593.6566248),\n",
       " (914.0, 1739681593.683477),\n",
       " (915.0, 1739681593.707542),\n",
       " (916.0, 1739681593.733786),\n",
       " (915.0, 1739681593.759891),\n",
       " (914.0, 1739681593.784051),\n",
       " (915.0, 1739681593.809918),\n",
       " (915.0, 1739681593.840111),\n",
       " (914.0, 1739681593.900359),\n",
       " (915.0, 1739681593.9266849),\n",
       " (915.0, 1739681593.9529788),\n",
       " (914.0, 1739681593.97841),\n",
       " (915.0, 1739681594.005985),\n",
       " (915.0, 1739681594.033001),\n",
       " (914.0, 1739681594.059407),\n",
       " (915.0, 1739681594.083849),\n",
       " (915.0, 1739681594.110762),\n",
       " (914.0, 1739681594.1354508),\n",
       " (914.0, 1739681594.162169),\n",
       " (915.0, 1739681594.1894221),\n",
       " (914.0, 1739681594.2145689),\n",
       " (914.0, 1739681594.240543),\n",
       " (915.0, 1739681594.2649238),\n",
       " (914.0, 1739681594.2911801),\n",
       " (914.0, 1739681594.356309),\n",
       " (915.0, 1739681594.386212),\n",
       " (915.0, 1739681594.412577),\n",
       " (914.0, 1739681594.4382532),\n",
       " (914.0, 1739681594.4618208),\n",
       " (915.0, 1739681594.4871402),\n",
       " (913.0, 1739681594.5118048),\n",
       " (914.0, 1739681594.538555),\n",
       " (915.0, 1739681594.5647502),\n",
       " (913.0, 1739681594.5905988),\n",
       " (914.0, 1739681594.616816),\n",
       " (915.0, 1739681594.640894),\n",
       " (914.0, 1739681594.667412),\n",
       " (913.0, 1739681594.693666),\n",
       " (915.0, 1739681594.71998),\n",
       " (914.0, 1739681594.7450979),\n",
       " (913.0, 1739681594.7698328),\n",
       " (914.0, 1739681594.8219311),\n",
       " (915.0, 1739681594.8457868),\n",
       " (913.0, 1739681594.872179),\n",
       " (913.0, 1739681594.89837),\n",
       " (915.0, 1739681594.9244502),\n",
       " (914.0, 1739681594.951105),\n",
       " (914.0, 1739681594.976577),\n",
       " (915.0, 1739681595.001662),\n",
       " (914.0, 1739681595.0280051),\n",
       " (914.0, 1739681595.054455),\n",
       " (914.0, 1739681595.079865),\n",
       " (914.0, 1739681595.106892),\n",
       " (913.0, 1739681595.133019),\n",
       " (914.0, 1739681595.159358),\n",
       " (914.0, 1739681595.1856482),\n",
       " (913.0, 1739681595.211705),\n",
       " (914.0, 1739681595.238119),\n",
       " (915.0, 1739681595.277897),\n",
       " (913.0, 1739681595.326144),\n",
       " (913.0, 1739681595.352542),\n",
       " (915.0, 1739681595.379047),\n",
       " (913.0, 1739681595.405629),\n",
       " (913.0, 1739681595.4301),\n",
       " (915.0, 1739681595.455229),\n",
       " (913.0, 1739681595.479809),\n",
       " (913.0, 1739681595.508194),\n",
       " (913.0, 1739681595.5343308),\n",
       " (913.0, 1739681595.5594938),\n",
       " (913.0, 1739681595.5858428),\n",
       " (914.0, 1739681595.612173),\n",
       " (914.0, 1739681595.639202),\n",
       " (913.0, 1739681595.665857),\n",
       " (913.0, 1739681595.692157),\n",
       " (913.0, 1739681595.734304),\n",
       " (913.0, 1739681595.784856),\n",
       " (913.0, 1739681595.809324),\n",
       " (914.0, 1739681595.8339179),\n",
       " (913.0, 1739681595.860062),\n",
       " (913.0, 1739681595.884094),\n",
       " (914.0, 1739681595.910878),\n",
       " (913.0, 1739681595.939113),\n",
       " (913.0, 1739681595.963558),\n",
       " (913.0, 1739681595.9898272),\n",
       " (913.0, 1739681596.01666),\n",
       " (913.0, 1739681596.0433521),\n",
       " (913.0, 1739681596.068592),\n",
       " (913.0, 1739681596.0934699),\n",
       " (913.0, 1739681596.119543),\n",
       " (913.0, 1739681596.1464808),\n",
       " (913.0, 1739681596.190529),\n",
       " (912.0, 1739681596.239397),\n",
       " (913.0, 1739681596.2658272),\n",
       " (913.0, 1739681596.290051),\n",
       " (912.0, 1739681596.316215),\n",
       " (912.0, 1739681596.340907),\n",
       " (913.0, 1739681596.367733),\n",
       " (912.0, 1739681596.394072),\n",
       " (912.0, 1739681596.4190059),\n",
       " (913.0, 1739681596.445984),\n",
       " (912.0, 1739681596.4747782),\n",
       " (912.0, 1739681596.499764),\n",
       " (913.0, 1739681596.5246122),\n",
       " (913.0, 1739681596.550792),\n",
       " (912.0, 1739681596.577021),\n",
       " (912.0, 1739681596.602257),\n",
       " (913.0, 1739681596.629023),\n",
       " (911.0, 1739681596.673564),\n",
       " (912.0, 1739681596.720715),\n",
       " (913.0, 1739681596.747732),\n",
       " (912.0, 1739681596.7748868),\n",
       " (912.0, 1739681596.8012931),\n",
       " (913.0, 1739681596.82782),\n",
       " (911.0, 1739681596.8528671),\n",
       " (911.0, 1739681596.878032),\n",
       " (913.0, 1739681596.901294),\n",
       " (912.0, 1739681596.928313),\n",
       " (911.0, 1739681596.9596028),\n",
       " (912.0, 1739681596.983874),\n",
       " (912.0, 1739681597.011128),\n",
       " (911.0, 1739681597.042355),\n",
       " (912.0, 1739681597.071035),\n",
       " (913.0, 1739681597.102386),\n",
       " (911.0, 1739681597.135901),\n",
       " (911.0, 1739681597.1885),\n",
       " (913.0, 1739681597.29759),\n",
       " (911.0, 1739681597.331218),\n",
       " (911.0, 1739681597.359453),\n",
       " (912.0, 1739681597.3958359),\n",
       " (911.0, 1739681597.432277),\n",
       " (911.0, 1739681597.459612),\n",
       " (912.0, 1739681597.494217),\n",
       " (912.0, 1739681597.535284),\n",
       " (911.0, 1739681597.5732322),\n",
       " (912.0, 1739681597.601495),\n",
       " (912.0, 1739681597.6287029),\n",
       " (910.0, 1739681597.664712),\n",
       " (911.0, 1739681597.6909492),\n",
       " (912.0, 1739681597.7158568),\n",
       " (911.0, 1739681597.74458),\n",
       " (911.0, 1739681597.7791512),\n",
       " (913.0, 1739681597.813549),\n",
       " (911.0, 1739681597.959043),\n",
       " (911.0, 1739681597.9847832),\n",
       " (912.0, 1739681598.0112882),\n",
       " (912.0, 1739681598.0588312),\n",
       " (911.0, 1739681598.094089),\n",
       " (913.0, 1739681598.120826),\n",
       " (913.0, 1739681598.145629),\n",
       " (913.0, 1739681598.173704),\n",
       " (913.0, 1739681598.1960151),\n",
       " (914.0, 1739681598.226984),\n",
       " (913.0, 1739681598.25173),\n",
       " (914.0, 1739681598.275557),\n",
       " (915.0, 1739681598.3015418),\n",
       " (913.0, 1739681598.3267589),\n",
       " (914.0, 1739681598.356354),\n",
       " (916.0, 1739681598.383754),\n",
       " (913.0, 1739681598.510881),\n",
       " (914.0, 1739681598.5356338),\n",
       " (916.0, 1739681598.562219),\n",
       " (915.0, 1739681598.586771),\n",
       " (914.0, 1739681598.615444),\n",
       " (915.0, 1739681598.642093),\n",
       " (915.0, 1739681598.668501),\n",
       " (914.0, 1739681598.694931),\n",
       " (915.0, 1739681598.7228858),\n",
       " (916.0, 1739681598.751631),\n",
       " (913.0, 1739681598.777791),\n",
       " (915.0, 1739681598.8060732),\n",
       " (917.0, 1739681598.833282),\n",
       " (913.0, 1739681598.859238),\n",
       " (914.0, 1739681598.883012),\n",
       " (917.0, 1739681598.907574),\n",
       " (913.0, 1739681598.964094),\n",
       " (913.0, 1739681598.993974),\n",
       " (916.0, 1739681599.024322),\n",
       " (914.0, 1739681599.053596),\n",
       " (913.0, 1739681599.077636),\n",
       " (916.0, 1739681599.109538),\n",
       " (915.0, 1739681599.137223),\n",
       " (913.0, 1739681599.163098),\n",
       " (915.0, 1739681599.189627),\n",
       " (916.0, 1739681599.2167208),\n",
       " (912.0, 1739681599.240779),\n",
       " (915.0, 1739681599.266912),\n",
       " (917.0, 1739681599.295064),\n",
       " (911.0, 1739681599.320791),\n",
       " (914.0, 1739681599.3461702),\n",
       " (918.0, 1739681599.3727858),\n",
       " (910.0, 1739681599.399107),\n",
       " (913.0, 1739681599.460205),\n",
       " (919.0, 1739681599.50037),\n",
       " (911.0, 1739681599.526836),\n",
       " (913.0, 1739681599.5506718),\n",
       " (917.0, 1739681599.577301),\n",
       " (913.0, 1739681599.6052952),\n",
       " (910.0, 1739681599.630987),\n",
       " (915.0, 1739681599.6572108),\n",
       " (915.0, 1739681599.681797),\n",
       " (911.0, 1739681599.705041),\n",
       " (915.0, 1739681599.7316558),\n",
       " (917.0, 1739681599.756955),\n",
       " (907.0, 1739681599.784933),\n",
       " (913.0, 1739681599.8116422),\n",
       " (921.0, 1739681599.836031),\n",
       " (909.0, 1739681599.860357),\n",
       " (914.0, 1739681599.884468),\n",
       " (921.0, 1739681599.916777),\n",
       " (910.0, 1739681599.945787),\n",
       " (913.0, 1739681599.98121),\n",
       " (917.0, 1739681600.005763),\n",
       " (913.0, 1739681600.0525959),\n",
       " (915.0, 1739681600.10783),\n",
       " (916.0, 1739681600.134043),\n",
       " (915.0, 1739681600.157448),\n",
       " (911.0, 1739681600.1833658),\n",
       " (915.0, 1739681600.20733),\n",
       " (917.0, 1739681600.2326112),\n",
       " (909.0, 1739681600.2588),\n",
       " (915.0, 1739681600.284802),\n",
       " (922.0, 1739681600.3113348),\n",
       " (910.0, 1739681600.335861),\n",
       " (915.0, 1739681600.361985),\n",
       " (921.0, 1739681600.388642),\n",
       " (911.0, 1739681600.414268),\n",
       " (914.0, 1739681600.441275),\n",
       " (918.0, 1739681600.466435),\n",
       " (915.0, 1739681600.4929972),\n",
       " (915.0, 1739681600.51817),\n",
       " (915.0, 1739681600.5430331),\n",
       " (916.0, 1739681600.567955),\n",
       " (911.0, 1739681600.5920231),\n",
       " (915.0, 1739681600.625972),\n",
       " (919.0, 1739681600.678575),\n",
       " (911.0, 1739681600.702643),\n",
       " (913.0, 1739681600.730726),\n",
       " (916.0, 1739681600.75624),\n",
       " (909.0, 1739681600.78074),\n",
       " (913.0, 1739681600.8068988),\n",
       " (920.0, 1739681600.832396),\n",
       " (912.0, 1739681600.8578591),\n",
       " (913.0, 1739681600.8837109),\n",
       " (917.0, 1739681600.907416),\n",
       " (913.0, 1739681600.93228),\n",
       " (909.0, 1739681600.9589078),\n",
       " (915.0, 1739681600.986868),\n",
       " (916.0, 1739681601.0130408),\n",
       " (911.0, 1739681601.039288),\n",
       " (915.0, 1739681601.06476),\n",
       " (918.0, 1739681601.089195),\n",
       " (908.0, 1739681601.1158369),\n",
       " (909.0, 1739681601.1407528),\n",
       " (921.0, 1739681601.1656861),\n",
       " (907.0, 1739681601.191912),\n",
       " (913.0, 1739681601.217652),\n",
       " (919.0, 1739681601.244681),\n",
       " (911.0, 1739681601.271353),\n",
       " (911.0, 1739681601.3155131),\n",
       " (915.0, 1739681601.3449259),\n",
       " (916.0, 1739681601.371271),\n",
       " (911.0, 1739681601.394882),\n",
       " (914.0, 1739681601.417902),\n",
       " (916.0, 1739681601.443156),\n",
       " (910.0, 1739681601.469406),\n",
       " (913.0, 1739681601.494921),\n",
       " (916.0, 1739681601.521187),\n",
       " (909.0, 1739681601.5466611),\n",
       " (916.0, 1739681601.572842),\n",
       " (921.0, 1739681601.599375),\n",
       " (907.0, 1739681601.624566),\n",
       " (912.0, 1739681601.651694),\n",
       " (917.0, 1739681601.677918),\n",
       " (910.0, 1739681601.7042692),\n",
       " (911.0, 1739681601.730901),\n",
       " (916.0, 1739681601.755693),\n",
       " (915.0, 1739681601.780212),\n",
       " (910.0, 1739681601.806265),\n",
       " (914.0, 1739681601.8326368),\n",
       " (915.0, 1739681601.859218),\n",
       " (907.0, 1739681601.885395),\n",
       " (913.0, 1739681601.912048),\n",
       " (918.0, 1739681601.93873),\n",
       " (908.0, 1739681602.0120058),\n",
       " (913.0, 1739681602.039639),\n",
       " (918.0, 1739681602.065844),\n",
       " (907.0, 1739681602.092404),\n",
       " (911.0, 1739681602.117502),\n",
       " (915.0, 1739681602.1436422),\n",
       " (910.0, 1739681602.169896),\n",
       " (912.0, 1739681602.19486),\n",
       " (915.0, 1739681602.2208152),\n",
       " (912.0, 1739681602.244899),\n",
       " (909.0, 1739681602.267658),\n",
       " (913.0, 1739681602.293227),\n",
       " (915.0, 1739681602.317395),\n",
       " (906.0, 1739681602.343837),\n",
       " (913.0, 1739681602.368296),\n",
       " (918.0, 1739681602.394413),\n",
       " (905.0, 1739681602.421109),\n",
       " (911.0, 1739681602.446505),\n",
       " (918.0, 1739681602.472146),\n",
       " (908.0, 1739681602.496701),\n",
       " (911.0, 1739681602.523359),\n",
       " (915.0, 1739681602.549571),\n",
       " (912.0, 1739681602.5760891),\n",
       " (910.0, 1739681602.602292),\n",
       " (915.0, 1739681602.628172),\n",
       " (912.0, 1739681602.717),\n",
       " (909.0, 1739681602.750572),\n",
       " (913.0, 1739681602.779208),\n",
       " (915.0, 1739681602.806928),\n",
       " (907.0, 1739681602.833169),\n",
       " (913.0, 1739681602.8571022),\n",
       " (915.0, 1739681602.882606),\n",
       " (904.0, 1739681602.9103732),\n",
       " (913.0, 1739681602.934724),\n",
       " (919.0, 1739681602.960502),\n",
       " (910.0, 1739681602.984891),\n",
       " (912.0, 1739681603.010495),\n",
       " (917.0, 1739681603.0346072),\n",
       " (914.0, 1739681603.059791),\n",
       " (911.0, 1739681603.0854),\n",
       " (914.0, 1739681603.108114),\n",
       " (916.0, 1739681603.133537),\n",
       " (912.0, 1739681603.159842),\n",
       " (915.0, 1739681603.186191),\n",
       " (919.0, 1739681603.2122838),\n",
       " (911.0, 1739681603.239174),\n",
       " (914.0, 1739681603.2652009),\n",
       " (916.0, 1739681603.290675),\n",
       " (911.0, 1739681603.315899),\n",
       " (914.0, 1739681603.338699),\n",
       " (920.0, 1739681603.361587),\n",
       " (913.0, 1739681603.388393),\n",
       " (913.0, 1739681603.418158),\n",
       " (915.0, 1739681603.481663),\n",
       " (914.0, 1739681603.507879),\n",
       " (915.0, 1739681603.5328069),\n",
       " (916.0, 1739681603.557973),\n",
       " (917.0, 1739681603.583453),\n",
       " (911.0, 1739681603.6101801),\n",
       " (915.0, 1739681603.636207),\n",
       " (919.0, 1739681603.6624901),\n",
       " (909.0, 1739681603.688802),\n",
       " (915.0, 1739681603.715163),\n",
       " (920.0, 1739681603.74144),\n",
       " (909.0, 1739681603.764617),\n",
       " (913.0, 1739681603.790548),\n",
       " (919.0, 1739681603.81675),\n",
       " (913.0, 1739681603.840673),\n",
       " (912.0, 1739681603.8654752),\n",
       " (918.0, 1739681603.8911161),\n",
       " (915.0, 1739681603.9172559),\n",
       " (917.0, 1739681603.9434838),\n",
       " (916.0, 1739681603.969702),\n",
       " (917.0, 1739681603.997254),\n",
       " (910.0, 1739681604.0227041),\n",
       " (914.0, 1739681604.0490031),\n",
       " (919.0, 1739681604.099823),\n",
       " (909.0, 1739681604.144463),\n",
       " (917.0, 1739681604.169133),\n",
       " (919.0, 1739681604.194855),\n",
       " (909.0, 1739681604.221459),\n",
       " (913.0, 1739681604.247533),\n",
       " (918.0, 1739681604.273569),\n",
       " (913.0, 1739681604.29894),\n",
       " (911.0, 1739681604.32398),\n",
       " (916.0, 1739681604.3491101),\n",
       " (919.0, 1739681604.3753421),\n",
       " (914.0, 1739681604.401531),\n",
       " (915.0, 1739681604.427326),\n",
       " (917.0, 1739681604.452618),\n",
       " (910.0, 1739681604.478873),\n",
       " (913.0, 1739681604.5048509),\n",
       " (919.0, 1739681604.5312371),\n",
       " (912.0, 1739681604.558312),\n",
       " (913.0, 1739681604.601313),\n",
       " (921.0, 1739681604.651385),\n",
       " (909.0, 1739681604.677498),\n",
       " (913.0, 1739681604.704191),\n",
       " (917.0, 1739681604.728954),\n",
       " (913.0, 1739681604.753881),\n",
       " (914.0, 1739681604.778858),\n",
       " (916.0, 1739681604.8007522),\n",
       " (917.0, 1739681604.825993),\n",
       " (911.0, 1739681604.850562),\n",
       " (915.0, 1739681604.8767328),\n",
       " (917.0, 1739681604.902078),\n",
       " (909.0, 1739681604.927812),\n",
       " (915.0, 1739681604.949493),\n",
       " (919.0, 1739681604.974242),\n",
       " (907.0, 1739681604.996636),\n",
       " (909.0, 1739681605.0230029),\n",
       " (920.0, 1739681605.047967),\n",
       " (911.0, 1739681605.073248),\n",
       " (913.0, 1739681605.122916),\n",
       " (917.0, 1739681605.156769),\n",
       " (913.0, 1739681605.182477),\n",
       " (912.0, 1739681605.208833),\n",
       " (912.0, 1739681605.235029),\n",
       " (914.0, 1739681605.2595599),\n",
       " (910.0, 1739681605.285459),\n",
       " (914.0, 1739681605.309634),\n",
       " (917.0, 1739681605.3360739),\n",
       " (909.0, 1739681605.360802),\n",
       " (915.0, 1739681605.3875468),\n",
       " (917.0, 1739681605.413861),\n",
       " (907.0, 1739681605.440088),\n",
       " (911.0, 1739681605.4662771),\n",
       " (919.0, 1739681605.491154),\n",
       " (911.0, 1739681605.517652),\n",
       " (912.0, 1739681605.5438862),\n",
       " (916.0, 1739681605.570305),\n",
       " (914.0, 1739681605.597099),\n",
       " (909.0, 1739681605.641685),\n",
       " (914.0, 1739681605.6785002),\n",
       " (915.0, 1739681605.704779),\n",
       " (910.0, 1739681605.731435),\n",
       " (913.0, 1739681605.756006),\n",
       " (917.0, 1739681605.782304),\n",
       " (909.0, 1739681605.807486),\n",
       " (914.0, 1739681605.8338392),\n",
       " (915.0, 1739681605.860255),\n",
       " (907.0, 1739681605.886474),\n",
       " (913.0, 1739681605.912621),\n",
       " (918.0, 1739681605.939224),\n",
       " (910.0, 1739681605.963315),\n",
       " (911.0, 1739681605.9896839),\n",
       " (916.0, 1739681606.015251),\n",
       " (913.0, 1739681606.040653),\n",
       " (908.0, 1739681606.0671139),\n",
       " (911.0, 1739681606.093333),\n",
       " (914.0, 1739681606.1631181),\n",
       " (909.0, 1739681606.193537),\n",
       " (913.0, 1739681606.219912),\n",
       " (918.0, 1739681606.244318),\n",
       " (908.0, 1739681606.270518),\n",
       " (909.0, 1739681606.293597),\n",
       " (913.0, 1739681606.3197062),\n",
       " (907.0, 1739681606.3459),\n",
       " (911.0, 1739681606.37295),\n",
       " (916.0, 1739681606.397666),\n",
       " (911.0, 1739681606.4274392),\n",
       " (911.0, 1739681606.453612),\n",
       " (913.0, 1739681606.475174),\n",
       " (911.0, 1739681606.5021598),\n",
       " (909.0, 1739681606.5283961),\n",
       " (913.0, 1739681606.554925),\n",
       " (914.0, 1739681606.5811079),\n",
       " (907.0, 1739681606.650075),\n",
       " (913.0, 1739681606.6770911),\n",
       " (917.0, 1739681606.70301),\n",
       " (906.0, 1739681606.726936),\n",
       " (907.0, 1739681606.75313),\n",
       " (920.0, 1739681606.778102),\n",
       " (907.0, 1739681606.8050601),\n",
       " (911.0, 1739681606.8280609),\n",
       " (916.0, 1739681606.8555362),\n",
       " (911.0, 1739681606.881134),\n",
       " (910.0, 1739681606.907278),\n",
       " (913.0, 1739681606.934507),\n",
       " (916.0, 1739681606.960211),\n",
       " (909.0, 1739681606.987828),\n",
       " (913.0, 1739681607.0141928),\n",
       " (915.0, 1739681607.040417),\n",
       " (907.0, 1739681607.0672362),\n",
       " (912.0, 1739681607.111201),\n",
       " (915.0, 1739681607.159959),\n",
       " (907.0, 1739681607.186184),\n",
       " (915.0, 1739681607.212886),\n",
       " (920.0, 1739681607.2384949),\n",
       " (907.0, 1739681607.264738),\n",
       " (911.0, 1739681607.290596),\n",
       " (915.0, 1739681607.317019),\n",
       " (910.0, 1739681607.343353),\n",
       " (910.0, 1739681607.370825),\n",
       " (915.0, 1739681607.397079),\n",
       " (913.0, 1739681607.422775),\n",
       " (909.0, 1739681607.454268),\n",
       " (912.0, 1739681607.4810581),\n",
       " (915.0, 1739681607.511317),\n",
       " (907.0, 1739681607.538176),\n",
       " (912.0, 1739681607.5625658),\n",
       " (917.0, 1739681607.5895622),\n",
       " (908.0, 1739681607.624734),\n",
       " (914.0, 1739681607.688944),\n",
       " (918.0, 1739681607.715193),\n",
       " (910.0, 1739681607.7406971),\n",
       " (912.0, 1739681607.766909),\n",
       " (916.0, 1739681607.793557),\n",
       " (913.0, 1739681607.819551),\n",
       " (913.0, 1739681607.8458502),\n",
       " (914.0, 1739681607.872195),\n",
       " (911.0, 1739681607.899117),\n",
       " (912.0, 1739681607.921897),\n",
       " (915.0, 1739681607.947893),\n",
       " (919.0, 1739681607.971786),\n",
       " (911.0, 1739681607.998326),\n",
       " (916.0, 1739681608.024493),\n",
       " (920.0, 1739681608.0487008),\n",
       " (910.0, 1739681608.072159),\n",
       " (913.0, 1739681608.0987048),\n",
       " (921.0, 1739681608.124373),\n",
       " (913.0, 1739681608.182219),\n",
       " (914.0, 1739681608.210131),\n",
       " (917.0, 1739681608.23524),\n",
       " (914.0, 1739681608.261442),\n",
       " (913.0, 1739681608.2876348),\n",
       " (918.0, 1739681608.313545),\n",
       " (919.0, 1739681608.339902),\n",
       " (912.0, 1739681608.3678741),\n",
       " (915.0, 1739681608.3940039),\n",
       " (919.0, 1739681608.4203362),\n",
       " (910.0, 1739681608.446561),\n",
       " (915.0, 1739681608.472231),\n",
       " (920.0, 1739681608.497826),\n",
       " (910.0, 1739681608.524224),\n",
       " (917.0, 1739681608.550698),\n",
       " (919.0, 1739681608.576077),\n",
       " (913.0, 1739681608.602379),\n",
       " (914.0, 1739681608.638141),\n",
       " (916.0, 1739681608.675041),\n",
       " (916.0, 1739681608.701042),\n",
       " (913.0, 1739681608.726472),\n",
       " (913.0, 1739681608.752764),\n",
       " (913.0, 1739681608.777629),\n",
       " (911.0, 1739681608.803562),\n",
       " (915.0, 1739681608.828684),\n",
       " (919.0, 1739681608.8551009),\n",
       " (909.0, 1739681608.878934),\n",
       " (913.0, 1739681608.906181),\n",
       " (919.0, 1739681608.931642),\n",
       " (909.0, 1739681608.956815),\n",
       " (911.0, 1739681608.9885561),\n",
       " (918.0, 1739681609.023453),\n",
       " (912.0, 1739681609.050647),\n",
       " (912.0, 1739681609.0836842),\n",
       " (915.0, 1739681609.1438599),\n",
       " (914.0, 1739681609.1753862),\n",
       " (910.0, 1739681609.200673),\n",
       " (913.0, 1739681609.2256079),\n",
       " (921.0, 1739681609.251789),\n",
       " (909.0, 1739681609.2781749),\n",
       " (914.0, 1739681609.3043258),\n",
       " (919.0, 1739681609.3270762),\n",
       " (909.0, 1739681609.355077),\n",
       " (913.0, 1739681609.379918),\n",
       " (920.0, 1739681609.405149),\n",
       " (910.0, 1739681609.430149),\n",
       " (915.0, 1739681609.4564989),\n",
       " (916.0, 1739681609.482843),\n",
       " (913.0, 1739681609.507277),\n",
       " (913.0, 1739681609.546477),\n",
       " (915.0, 1739681609.5874372),\n",
       " (914.0, 1739681609.6138082),\n",
       " (913.0, 1739681609.640008),\n",
       " (917.0, 1739681609.666228),\n",
       " (915.0, 1739681609.692489),\n",
       " (909.0, 1739681609.719431),\n",
       " (914.0, 1739681609.744492),\n",
       " (918.0, 1739681609.770974),\n",
       " (909.0, 1739681609.796549),\n",
       " (914.0, 1739681609.8234031),\n",
       " (920.0, 1739681609.848747),\n",
       " (907.0, 1739681609.873921),\n",
       " (912.0, 1739681609.900383),\n",
       " (916.0, 1739681609.926995),\n",
       " (913.0, 1739681609.9532201),\n",
       " (911.0, 1739681609.989862),\n",
       " (914.0, 1739681610.046062),\n",
       " (916.0, 1739681610.0717251),\n",
       " (909.0, 1739681610.098497),\n",
       " (909.0, 1739681610.123817),\n",
       " (916.0, 1739681610.1490839),\n",
       " (908.0, 1739681610.175065),\n",
       " (913.0, 1739681610.200733),\n",
       " (917.0, 1739681610.227072),\n",
       " (909.0, 1739681610.251344),\n",
       " (911.0, 1739681610.277418),\n",
       " (917.0, 1739681610.303126),\n",
       " (909.0, 1739681610.329706),\n",
       " (911.0, 1739681610.35601),\n",
       " (915.0, 1739681610.3825011),\n",
       " (913.0, 1739681610.4088588),\n",
       " (912.0, 1739681610.481909),\n",
       " (913.0, 1739681610.509151),\n",
       " (914.0, 1739681610.535509),\n",
       " (910.0, 1739681610.5599492),\n",
       " (915.0, 1739681610.58439),\n",
       " (917.0, 1739681610.610682),\n",
       " (908.0, 1739681610.637621),\n",
       " (913.0, 1739681610.663906),\n",
       " (918.0, 1739681610.690471),\n",
       " (906.0, 1739681610.7166138),\n",
       " (911.0, 1739681610.740834),\n",
       " (917.0, 1739681610.7659059),\n",
       " (914.0, 1739681610.790507),\n",
       " (911.0, 1739681610.815132),\n",
       " (915.0, 1739681610.8394828),\n",
       " (912.0, 1739681610.865649),\n",
       " (910.0, 1739681610.9055119),\n",
       " (913.0, 1739681610.933923),\n",
       " (914.0, 1739681610.958849),\n",
       " (911.0, 1739681610.98508),\n",
       " (913.0, 1739681611.011353),\n",
       " (916.0, 1739681611.0399191),\n",
       " (907.0, 1739681611.064773),\n",
       " (912.0, 1739681611.0890791),\n",
       " (917.0, 1739681611.1147678),\n",
       " (905.0, 1739681611.14049),\n",
       " (912.0, 1739681611.165641),\n",
       " (919.0, 1739681611.1920671),\n",
       " (912.0, 1739681611.2182112),\n",
       " (911.0, 1739681611.244182),\n",
       " (913.0, 1739681611.269152),\n",
       " (913.0, 1739681611.313609),\n",
       " (909.0, 1739681611.365958),\n",
       " (913.0, 1739681611.390506),\n",
       " (916.0, 1739681611.415096),\n",
       " (910.0, 1739681611.440156),\n",
       " (912.0, 1739681611.4682398),\n",
       " (917.0, 1739681611.494407),\n",
       " (907.0, 1739681611.52107),\n",
       " (911.0, 1739681611.546744),\n",
       " (918.0, 1739681611.5729878),\n",
       " (907.0, 1739681611.599477),\n",
       " (912.0, 1739681611.6241658),\n",
       " (916.0, 1739681611.650469),\n",
       " (910.0, 1739681611.676159),\n",
       " (910.0, 1739681611.70072),\n",
       " (913.0, 1739681611.725507),\n",
       " (913.0, 1739681611.750475),\n",
       " (907.0, 1739681611.775678),\n",
       " (914.0, 1739681611.8254561),\n",
       " (918.0, 1739681611.854452),\n",
       " (906.0, 1739681611.878936),\n",
       " (913.0, 1739681611.905192),\n",
       " (917.0, 1739681611.931592),\n",
       " (908.0, 1739681611.958354),\n",
       " (913.0, 1739681611.9826932),\n",
       " (920.0, 1739681612.0100548),\n",
       " (911.0, 1739681612.0337799),\n",
       " (911.0, 1739681612.059218),\n",
       " (917.0, 1739681612.085425),\n",
       " (913.0, 1739681612.1095989),\n",
       " (912.0, 1739681612.1363468),\n",
       " (915.0, 1739681612.163073),\n",
       " (915.0, 1739681612.189622),\n",
       " (913.0, 1739681612.254519),\n",
       " (915.0, 1739681612.280973),\n",
       " (918.0, 1739681612.307316),\n",
       " (907.0, 1739681612.331439),\n",
       " (914.0, 1739681612.357122),\n",
       " (918.0, 1739681612.3814662),\n",
       " (909.0, 1739681612.4073238),\n",
       " (914.0, 1739681612.432509),\n",
       " (920.0, 1739681612.457102),\n",
       " (908.0, 1739681612.4837198),\n",
       " (909.0, 1739681612.509831),\n",
       " (917.0, 1739681612.534485),\n",
       " (914.0, 1739681612.560904),\n",
       " (913.0, 1739681612.58719),\n",
       " (915.0, 1739681612.62501),\n",
       " (916.0, 1739681612.675436),\n",
       " (911.0, 1739681612.7004302),\n",
       " (912.0, 1739681612.728381),\n",
       " (916.0, 1739681612.754712),\n",
       " (909.0, 1739681612.780054),\n",
       " (914.0, 1739681612.804102),\n",
       " (918.0, 1739681612.830493),\n",
       " (909.0, 1739681612.855306),\n",
       " (912.0, 1739681612.881394),\n",
       " (918.0, 1739681612.904737),\n",
       " (906.0, 1739681612.93137),\n",
       " (911.0, 1739681612.957661),\n",
       " (915.0, 1739681612.982701),\n",
       " (913.0, 1739681613.0087838),\n",
       " (912.0, 1739681613.060118),\n",
       " (915.0, 1739681613.107237),\n",
       " (914.0, 1739681613.132857),\n",
       " (908.0, 1739681613.157126),\n",
       " (915.0, 1739681613.1814988),\n",
       " (917.0, 1739681613.205377),\n",
       " (908.0, 1739681613.231955),\n",
       " (913.0, 1739681613.2574751),\n",
       " (918.0, 1739681613.284116),\n",
       " (907.0, 1739681613.309431),\n",
       " (912.0, 1739681613.3344698),\n",
       " (918.0, 1739681613.3588312),\n",
       " (911.0, 1739681613.38229),\n",
       " (912.0, 1739681613.40896),\n",
       " (915.0, 1739681613.4341068),\n",
       " (913.0, 1739681613.476846),\n",
       " (912.0, 1739681613.519208),\n",
       " (913.0, 1739681613.547297),\n",
       " (914.0, 1739681613.574732),\n",
       " (909.0, 1739681613.598762),\n",
       " (917.0, 1739681613.622135),\n",
       " (918.0, 1739681613.6484978),\n",
       " (909.0, 1739681613.672694),\n",
       " (913.0, 1739681613.699203),\n",
       " (918.0, 1739681613.7259321),\n",
       " (907.0, 1739681613.752233),\n",
       " (912.0, 1739681613.7791958),\n",
       " (921.0, 1739681613.805381),\n",
       " (911.0, 1739681613.832535),\n",
       " (912.0, 1739681613.8587651),\n",
       " (915.0, 1739681613.885798),\n",
       " (914.0, 1739681613.932777),\n",
       " (911.0, 1739681613.9606972),\n",
       " (913.0, 1739681613.987217),\n",
       " (916.0, 1739681614.01351),\n",
       " (911.0, 1739681614.03982),\n",
       " (914.0, 1739681614.0624661),\n",
       " (917.0, 1739681614.0854359),\n",
       " (909.0, 1739681614.11281),\n",
       " (913.0, 1739681614.139094),\n",
       " (917.0, 1739681614.1648629),\n",
       " (907.0, 1739681614.190664),\n",
       " (912.0, 1739681614.214723),\n",
       " (920.0, 1739681614.241131),\n",
       " (912.0, 1739681614.265237),\n",
       " (911.0, 1739681614.288387),\n",
       " (914.0, 1739681614.3471959),\n",
       " (913.0, 1739681614.372465),\n",
       " (909.0, 1739681614.399874),\n",
       " (913.0, 1739681614.4247081),\n",
       " (918.0, 1739681614.449887),\n",
       " (907.0, 1739681614.476564),\n",
       " (913.0, 1739681614.5013719),\n",
       " (917.0, 1739681614.526174),\n",
       " (908.0, 1739681614.550998),\n",
       " (911.0, 1739681614.577528),\n",
       " (917.0, 1739681614.604021),\n",
       " (908.0, 1739681614.630743),\n",
       " (913.0, 1739681614.6567261),\n",
       " (915.0, 1739681614.683344),\n",
       " (911.0, 1739681614.7077398),\n",
       " (912.0, 1739681614.7752728),\n",
       " (913.0, 1739681614.8032398),\n",
       " (912.0, 1739681614.830297),\n",
       " (909.0, 1739681614.8565629),\n",
       " (911.0, 1739681614.8822331),\n",
       " (919.0, 1739681614.9086),\n",
       " (907.0, 1739681614.9361322),\n",
       " (912.0, 1739681614.962708),\n",
       " (917.0, 1739681614.98829),\n",
       " (907.0, 1739681615.014546),\n",
       " (911.0, 1739681615.040973),\n",
       " (918.0, 1739681615.067729),\n",
       " (911.0, 1739681615.094358),\n",
       " (911.0, 1739681615.119072),\n",
       " (915.0, 1739681615.148971),\n",
       " (911.0, 1739681615.233054),\n",
       " (911.0, 1739681615.294554),\n",
       " (913.0, 1739681615.327871),\n",
       " (912.0, 1739681615.352679),\n",
       " (910.0, 1739681615.378668),\n",
       " (916.0, 1739681615.405463),\n",
       " (918.0, 1739681615.434137),\n",
       " (907.0, 1739681615.461859),\n",
       " (912.0, 1739681615.487798),\n",
       " (917.0, 1739681615.5156),\n",
       " (905.0, 1739681615.540432),\n",
       " (911.0, 1739681615.564784),\n",
       " (921.0, 1739681615.592182),\n",
       " (910.0, 1739681615.6165068),\n",
       " (911.0, 1739681615.659873),\n",
       " (914.0, 1739681615.6935492),\n",
       " (911.0, 1739681615.721937),\n",
       " (909.0, 1739681615.748277),\n",
       " (913.0, 1739681615.773076),\n",
       " (914.0, 1739681615.79922),\n",
       " (909.0, 1739681615.825417),\n",
       " (914.0, 1739681615.8511941),\n",
       " (915.0, 1739681615.877894),\n",
       " (907.0, 1739681615.90191),\n",
       " (911.0, 1739681615.9275599),\n",
       " (915.0, 1739681615.954303),\n",
       " (906.0, 1739681615.980799),\n",
       " (912.0, 1739681616.0060859),\n",
       " (916.0, 1739681616.040237),\n",
       " (908.0, 1739681616.08802),\n",
       " (911.0, 1739681616.1137211),\n",
       " (913.0, 1739681616.137573),\n",
       " (913.0, 1739681616.162997),\n",
       " (911.0, 1739681616.189455),\n",
       " (915.0, 1739681616.213758),\n",
       " (917.0, 1739681616.240062),\n",
       " (907.0, 1739681616.264964),\n",
       " (914.0, 1739681616.289301),\n",
       " (918.0, 1739681616.315327)]"
      ]
     },
     "execution_count": 37,
     "metadata": {},
     "output_type": "execute_result"
    }
   ],
   "source": [
    "raw_signals"
   ]
  },
  {
   "cell_type": "code",
   "execution_count": 38,
   "metadata": {},
   "outputs": [],
   "source": [
    "signals = [s for s, _ in raw_signals]\n",
    "t = [t for _, t in raw_signals]\n",
    "\n",
    "\n",
    "filtered_signals = processor.filter_noise_ema(signals)\n"
   ]
  },
  {
   "cell_type": "code",
   "execution_count": null,
   "metadata": {},
   "outputs": [],
   "source": []
  },
  {
   "cell_type": "code",
   "execution_count": 39,
   "metadata": {},
   "outputs": [
    {
     "data": {
      "text/plain": [
       "[<matplotlib.lines.Line2D at 0x12f632f10>]"
      ]
     },
     "execution_count": 39,
     "metadata": {},
     "output_type": "execute_result"
    },
    {
     "data": {
      "image/png": "[encoded data removed]",
      "text/plain": [
       "<Figure size 640x480 with 1 Axes>"
      ]
     },
     "metadata": {},
     "output_type": "display_data"
    }
   ],
   "source": [
    "plt.plot(t, signals, label='Raw', alpha=0.5)\n",
    "plt.plot(t, filtered_signals, label='Filtered', alpha=0.5)\n"
   ]
  },
  {
   "cell_type": "code",
   "execution_count": 41,
   "metadata": {},
   "outputs": [
    {
     "data": {
      "text/plain": [
       "[(911.0, 1739681587.804411),\n",
       " (911.0, 1739681587.893729),\n",
       " (911.0, 1739681587.919992),\n",
       " (911.0, 1739681587.946068),\n",
       " (911.0, 1739681587.969619),\n",
       " (911.0, 1739681587.9946618),\n",
       " (911.0, 1739681588.021373),\n",
       " (911.0, 1739681588.047622),\n",
       " (911.0, 1739681588.072143),\n",
       " (911.0, 1739681588.09853),\n",
       " (911.0, 1739681588.1251578),\n",
       " (911.0, 1739681588.152328),\n",
       " (911.0, 1739681588.1786182),\n",
       " (911.0, 1739681588.2060668),\n",
       " (912.0, 1739681588.233152),\n",
       " (912.0, 1739681588.260724),\n",
       " (911.0, 1739681588.290425),\n",
       " (912.0, 1739681588.375283),\n",
       " (913.0, 1739681588.402019),\n",
       " (911.0, 1739681588.429195),\n",
       " (912.0, 1739681588.454529),\n",
       " (913.0, 1739681588.479756),\n",
       " (912.0, 1739681588.505195),\n",
       " (913.0, 1739681588.5331168),\n",
       " (914.0, 1739681588.5593688),\n",
       " (913.0, 1739681588.58497),\n",
       " (913.0, 1739681588.6101718),\n",
       " (914.0, 1739681588.637066),\n",
       " (914.0, 1739681588.663677),\n",
       " (913.0, 1739681588.6881049),\n",
       " (915.0, 1739681588.715446),\n",
       " (915.0, 1739681588.741663),\n",
       " (914.0, 1739681588.76581),\n",
       " (915.0, 1739681588.823731),\n",
       " (915.0, 1739681588.849741),\n",
       " (915.0, 1739681588.876215),\n",
       " (915.0, 1739681588.901819),\n",
       " (916.0, 1739681588.928074),\n",
       " (915.0, 1739681588.9550312),\n",
       " (915.0, 1739681588.981747),\n",
       " (916.0, 1739681589.006491),\n",
       " (914.0, 1739681589.032133),\n",
       " (915.0, 1739681589.059001),\n",
       " (915.0, 1739681589.0854568),\n",
       " (915.0, 1739681589.1119301),\n",
       " (914.0, 1739681589.13834),\n",
       " (915.0, 1739681589.165113),\n",
       " (915.0, 1739681589.192255),\n",
       " (914.0, 1739681589.216458),\n",
       " (914.0, 1739681589.241023),\n",
       " (915.0, 1739681589.299293),\n",
       " (915.0, 1739681589.32714),\n",
       " (915.0, 1739681589.351053),\n",
       " (915.0, 1739681589.378261),\n",
       " (914.0, 1739681589.405039),\n",
       " (914.0, 1739681589.4313102),\n",
       " (915.0, 1739681589.455329),\n",
       " (914.0, 1739681589.480198),\n",
       " (914.0, 1739681589.5075111),\n",
       " (915.0, 1739681589.5320141),\n",
       " (915.0, 1739681589.558191),\n",
       " (914.0, 1739681589.582143),\n",
       " (915.0, 1739681589.608211),\n",
       " (915.0, 1739681589.636309),\n",
       " (914.0, 1739681589.66271),\n",
       " (915.0, 1739681589.689025),\n",
       " (915.0, 1739681589.71575),\n",
       " (914.0, 1739681589.7396202),\n",
       " (914.0, 1739681589.777867),\n",
       " (915.0, 1739681589.814037),\n",
       " (914.0, 1739681589.8409522),\n",
       " (914.0, 1739681589.8653498),\n",
       " (915.0, 1739681589.891567),\n",
       " (914.0, 1739681589.917889),\n",
       " (914.0, 1739681589.944567),\n",
       " (915.0, 1739681589.972181),\n",
       " (915.0, 1739681589.997806),\n",
       " (913.0, 1739681590.024127),\n",
       " (914.0, 1739681590.0507898),\n",
       " (915.0, 1739681590.076965),\n",
       " (914.0, 1739681590.103353),\n",
       " (914.0, 1739681590.128431),\n",
       " (915.0, 1739681590.155493),\n",
       " (914.0, 1739681590.18199),\n",
       " (914.0, 1739681590.2102568),\n",
       " (915.0, 1739681590.266572),\n",
       " (914.0, 1739681590.291596),\n",
       " (914.0, 1739681590.318481),\n",
       " (915.0, 1739681590.3445199),\n",
       " (914.0, 1739681590.371209),\n",
       " (914.0, 1739681590.395311),\n",
       " (915.0, 1739681590.4218729),\n",
       " (915.0, 1739681590.447881),\n",
       " (914.0, 1739681590.4758432),\n",
       " (914.0, 1739681590.502238),\n",
       " (915.0, 1739681590.528445),\n",
       " (914.0, 1739681590.554991),\n",
       " (914.0, 1739681590.581565),\n",
       " (915.0, 1739681590.608943),\n",
       " (913.0, 1739681590.634824),\n",
       " (914.0, 1739681590.660995),\n",
       " (915.0, 1739681590.700096),\n",
       " (914.0, 1739681590.736585),\n",
       " (914.0, 1739681590.7615302),\n",
       " (915.0, 1739681590.7879791),\n",
       " (914.0, 1739681590.8118138),\n",
       " (913.0, 1739681590.838754),\n",
       " (914.0, 1739681590.863177),\n",
       " (914.0, 1739681590.8905962),\n",
       " (913.0, 1739681590.916851),\n",
       " (914.0, 1739681590.939195),\n",
       " (914.0, 1739681590.9654138),\n",
       " (913.0, 1739681590.991031),\n",
       " (913.0, 1739681591.0174022),\n",
       " (914.0, 1739681591.043904),\n",
       " (913.0, 1739681591.069736),\n",
       " (913.0, 1739681591.09517),\n",
       " (914.0, 1739681591.125234),\n",
       " (913.0, 1739681591.1807659),\n",
       " (913.0, 1739681591.207263),\n",
       " (914.0, 1739681591.2337449),\n",
       " (913.0, 1739681591.259883),\n",
       " (913.0, 1739681591.28661),\n",
       " (913.0, 1739681591.3120818),\n",
       " (914.0, 1739681591.338423),\n",
       " (913.0, 1739681591.3645198),\n",
       " (913.0, 1739681591.390194),\n",
       " (913.0, 1739681591.4168901),\n",
       " (913.0, 1739681591.44097),\n",
       " (913.0, 1739681591.463231),\n",
       " (914.0, 1739681591.487499),\n",
       " (912.0, 1739681591.511774),\n",
       " (913.0, 1739681591.5382771),\n",
       " (913.0, 1739681591.5848079),\n",
       " (912.0, 1739681591.636723),\n",
       " (912.0, 1739681591.6635761),\n",
       " (913.0, 1739681591.690156),\n",
       " (913.0, 1739681591.7155142),\n",
       " (912.0, 1739681591.740973),\n",
       " (913.0, 1739681591.767547),\n",
       " (913.0, 1739681591.792324),\n",
       " (912.0, 1739681591.8175879),\n",
       " (912.0, 1739681591.842429),\n",
       " (913.0, 1739681591.8679569),\n",
       " (912.0, 1739681591.894779),\n",
       " (912.0, 1739681591.921277),\n",
       " (913.0, 1739681591.947693),\n",
       " (912.0, 1739681591.972776),\n",
       " (912.0, 1739681591.997039),\n",
       " (913.0, 1739681592.041975),\n",
       " (913.0, 1739681592.083401),\n",
       " (912.0, 1739681592.108607),\n",
       " (913.0, 1739681592.1349828),\n",
       " (913.0, 1739681592.161779),\n",
       " (912.0, 1739681592.188333),\n",
       " (912.0, 1739681592.214102),\n",
       " (913.0, 1739681592.239954),\n",
       " (912.0, 1739681592.2649221),\n",
       " (912.0, 1739681592.291452),\n",
       " (913.0, 1739681592.3181162),\n",
       " (911.0, 1739681592.345109),\n",
       " (912.0, 1739681592.3702452),\n",
       " (913.0, 1739681592.3951428),\n",
       " (911.0, 1739681592.421392),\n",
       " (912.0, 1739681592.4581912),\n",
       " (913.0, 1739681592.494433),\n",
       " (912.0, 1739681592.5219269),\n",
       " (911.0, 1739681592.547616),\n",
       " (913.0, 1739681592.5749812),\n",
       " (912.0, 1739681592.604224),\n",
       " (911.0, 1739681592.6304939),\n",
       " (912.0, 1739681592.656123),\n",
       " (912.0, 1739681592.682307),\n",
       " (911.0, 1739681592.7094772),\n",
       " (911.0, 1739681592.735004),\n",
       " (912.0, 1739681592.760503),\n",
       " (911.0, 1739681592.785184),\n",
       " (911.0, 1739681592.8114061),\n",
       " (913.0, 1739681592.838784),\n",
       " (911.0, 1739681592.862854),\n",
       " (911.0, 1739681592.887927),\n",
       " (913.0, 1739681592.911815),\n",
       " (912.0, 1739681592.936633),\n",
       " (911.0, 1739681593.0004458),\n",
       " (912.0, 1739681593.0267258),\n",
       " (912.0, 1739681593.0523012),\n",
       " (911.0, 1739681593.0785558),\n",
       " (912.0, 1739681593.104542),\n",
       " (913.0, 1739681593.128442),\n",
       " (912.0, 1739681593.155072),\n",
       " (913.0, 1739681593.179758),\n",
       " (913.0, 1739681593.204962),\n",
       " (913.0, 1739681593.2296681),\n",
       " (913.0, 1739681593.256447),\n",
       " (914.0, 1739681593.2803159),\n",
       " (913.0, 1739681593.3073359),\n",
       " (914.0, 1739681593.334166),\n",
       " (915.0, 1739681593.378073),\n",
       " (914.0, 1739681593.4240909),\n",
       " (914.0, 1739681593.450804),\n",
       " (915.0, 1739681593.477115),\n",
       " (915.0, 1739681593.5012748),\n",
       " (915.0, 1739681593.525537),\n",
       " (915.0, 1739681593.551717),\n",
       " (915.0, 1739681593.577915),\n",
       " (914.0, 1739681593.604285),\n",
       " (915.0, 1739681593.6297112),\n",
       " (916.0, 1739681593.6566248),\n",
       " (914.0, 1739681593.683477),\n",
       " (915.0, 1739681593.707542),\n",
       " (916.0, 1739681593.733786),\n",
       " (915.0, 1739681593.759891),\n",
       " (914.0, 1739681593.784051),\n",
       " (915.0, 1739681593.809918),\n",
       " (915.0, 1739681593.840111),\n",
       " (914.0, 1739681593.900359),\n",
       " (915.0, 1739681593.9266849),\n",
       " (915.0, 1739681593.9529788),\n",
       " (914.0, 1739681593.97841),\n",
       " (915.0, 1739681594.005985),\n",
       " (915.0, 1739681594.033001),\n",
       " (914.0, 1739681594.059407),\n",
       " (915.0, 1739681594.083849),\n",
       " (915.0, 1739681594.110762),\n",
       " (914.0, 1739681594.1354508),\n",
       " (914.0, 1739681594.162169),\n",
       " (915.0, 1739681594.1894221),\n",
       " (914.0, 1739681594.2145689),\n",
       " (914.0, 1739681594.240543),\n",
       " (915.0, 1739681594.2649238),\n",
       " (914.0, 1739681594.2911801),\n",
       " (914.0, 1739681594.356309),\n",
       " (915.0, 1739681594.386212),\n",
       " (915.0, 1739681594.412577),\n",
       " (914.0, 1739681594.4382532),\n",
       " (914.0, 1739681594.4618208),\n",
       " (915.0, 1739681594.4871402),\n",
       " (913.0, 1739681594.5118048),\n",
       " (914.0, 1739681594.538555),\n",
       " (915.0, 1739681594.5647502),\n",
       " (913.0, 1739681594.5905988),\n",
       " (914.0, 1739681594.616816),\n",
       " (915.0, 1739681594.640894),\n",
       " (914.0, 1739681594.667412),\n",
       " (913.0, 1739681594.693666),\n",
       " (915.0, 1739681594.71998),\n",
       " (914.0, 1739681594.7450979),\n",
       " (913.0, 1739681594.7698328),\n",
       " (914.0, 1739681594.8219311),\n",
       " (915.0, 1739681594.8457868),\n",
       " (913.0, 1739681594.872179),\n",
       " (913.0, 1739681594.89837),\n",
       " (915.0, 1739681594.9244502),\n",
       " (914.0, 1739681594.951105),\n",
       " (914.0, 1739681594.976577),\n",
       " (915.0, 1739681595.001662),\n",
       " (914.0, 1739681595.0280051),\n",
       " (914.0, 1739681595.054455),\n",
       " (914.0, 1739681595.079865),\n",
       " (914.0, 1739681595.106892),\n",
       " (913.0, 1739681595.133019),\n",
       " (914.0, 1739681595.159358),\n",
       " (914.0, 1739681595.1856482),\n",
       " (913.0, 1739681595.211705),\n",
       " (914.0, 1739681595.238119),\n",
       " (915.0, 1739681595.277897),\n",
       " (913.0, 1739681595.326144),\n",
       " (913.0, 1739681595.352542),\n",
       " (915.0, 1739681595.379047),\n",
       " (913.0, 1739681595.405629),\n",
       " (913.0, 1739681595.4301),\n",
       " (915.0, 1739681595.455229),\n",
       " (913.0, 1739681595.479809),\n",
       " (913.0, 1739681595.508194),\n",
       " (913.0, 1739681595.5343308),\n",
       " (913.0, 1739681595.5594938),\n",
       " (913.0, 1739681595.5858428),\n",
       " (914.0, 1739681595.612173),\n",
       " (914.0, 1739681595.639202),\n",
       " (913.0, 1739681595.665857),\n",
       " (913.0, 1739681595.692157),\n",
       " (913.0, 1739681595.734304),\n",
       " (913.0, 1739681595.784856),\n",
       " (913.0, 1739681595.809324),\n",
       " (914.0, 1739681595.8339179),\n",
       " (913.0, 1739681595.860062),\n",
       " (913.0, 1739681595.884094),\n",
       " (914.0, 1739681595.910878),\n",
       " (913.0, 1739681595.939113),\n",
       " (913.0, 1739681595.963558),\n",
       " (913.0, 1739681595.9898272),\n",
       " (913.0, 1739681596.01666),\n",
       " (913.0, 1739681596.0433521),\n",
       " (913.0, 1739681596.068592),\n",
       " (913.0, 1739681596.0934699),\n",
       " (913.0, 1739681596.119543),\n",
       " (913.0, 1739681596.1464808),\n",
       " (913.0, 1739681596.190529),\n",
       " (912.0, 1739681596.239397),\n",
       " (913.0, 1739681596.2658272),\n",
       " (913.0, 1739681596.290051),\n",
       " (912.0, 1739681596.316215),\n",
       " (912.0, 1739681596.340907),\n",
       " (913.0, 1739681596.367733),\n",
       " (912.0, 1739681596.394072),\n",
       " (912.0, 1739681596.4190059),\n",
       " (913.0, 1739681596.445984),\n",
       " (912.0, 1739681596.4747782),\n",
       " (912.0, 1739681596.499764),\n",
       " (913.0, 1739681596.5246122),\n",
       " (913.0, 1739681596.550792),\n",
       " (912.0, 1739681596.577021),\n",
       " (912.0, 1739681596.602257),\n",
       " (913.0, 1739681596.629023),\n",
       " (911.0, 1739681596.673564),\n",
       " (912.0, 1739681596.720715),\n",
       " (913.0, 1739681596.747732),\n",
       " (912.0, 1739681596.7748868),\n",
       " (912.0, 1739681596.8012931),\n",
       " (913.0, 1739681596.82782),\n",
       " (911.0, 1739681596.8528671),\n",
       " (911.0, 1739681596.878032),\n",
       " (913.0, 1739681596.901294),\n",
       " (912.0, 1739681596.928313),\n",
       " (911.0, 1739681596.9596028),\n",
       " (912.0, 1739681596.983874),\n",
       " (912.0, 1739681597.011128),\n",
       " (911.0, 1739681597.042355),\n",
       " (912.0, 1739681597.071035),\n",
       " (913.0, 1739681597.102386),\n",
       " (911.0, 1739681597.135901),\n",
       " (911.0, 1739681597.1885),\n",
       " (913.0, 1739681597.29759),\n",
       " (911.0, 1739681597.331218),\n",
       " (911.0, 1739681597.359453),\n",
       " (912.0, 1739681597.3958359),\n",
       " (911.0, 1739681597.432277),\n",
       " (911.0, 1739681597.459612),\n",
       " (912.0, 1739681597.494217),\n",
       " (912.0, 1739681597.535284),\n",
       " (911.0, 1739681597.5732322),\n",
       " (912.0, 1739681597.601495),\n",
       " (912.0, 1739681597.6287029),\n",
       " (910.0, 1739681597.664712),\n",
       " (911.0, 1739681597.6909492),\n",
       " (912.0, 1739681597.7158568),\n",
       " (911.0, 1739681597.74458),\n",
       " (911.0, 1739681597.7791512),\n",
       " (913.0, 1739681597.813549),\n",
       " (911.0, 1739681597.959043),\n",
       " (911.0, 1739681597.9847832),\n",
       " (912.0, 1739681598.0112882),\n",
       " (912.0, 1739681598.0588312),\n",
       " (911.0, 1739681598.094089),\n",
       " (913.0, 1739681598.120826),\n",
       " (913.0, 1739681598.145629),\n",
       " (913.0, 1739681598.173704),\n",
       " (913.0, 1739681598.1960151),\n",
       " (914.0, 1739681598.226984),\n",
       " (913.0, 1739681598.25173),\n",
       " (914.0, 1739681598.275557),\n",
       " (915.0, 1739681598.3015418),\n",
       " (913.0, 1739681598.3267589),\n",
       " (914.0, 1739681598.356354),\n",
       " (916.0, 1739681598.383754),\n",
       " (913.0, 1739681598.510881),\n",
       " (914.0, 1739681598.5356338),\n",
       " (916.0, 1739681598.562219),\n",
       " (915.0, 1739681598.586771),\n",
       " (914.0, 1739681598.615444),\n",
       " (915.0, 1739681598.642093),\n",
       " (915.0, 1739681598.668501),\n",
       " (914.0, 1739681598.694931),\n",
       " (915.0, 1739681598.7228858),\n",
       " (916.0, 1739681598.751631),\n",
       " (913.0, 1739681598.777791),\n",
       " (915.0, 1739681598.8060732),\n",
       " (917.0, 1739681598.833282),\n",
       " (913.0, 1739681598.859238),\n",
       " (914.0, 1739681598.883012),\n",
       " (917.0, 1739681598.907574),\n",
       " (913.0, 1739681598.964094),\n",
       " (913.0, 1739681598.993974),\n",
       " (916.0, 1739681599.024322),\n",
       " (914.0, 1739681599.053596),\n",
       " (913.0, 1739681599.077636),\n",
       " (916.0, 1739681599.109538),\n",
       " (915.0, 1739681599.137223),\n",
       " (913.0, 1739681599.163098),\n",
       " (915.0, 1739681599.189627),\n",
       " (916.0, 1739681599.2167208),\n",
       " (912.0, 1739681599.240779),\n",
       " (915.0, 1739681599.266912),\n",
       " (917.0, 1739681599.295064),\n",
       " (911.0, 1739681599.320791),\n",
       " (914.0, 1739681599.3461702),\n",
       " (918.0, 1739681599.3727858),\n",
       " (910.0, 1739681599.399107),\n",
       " (913.0, 1739681599.460205),\n",
       " (919.0, 1739681599.50037),\n",
       " (911.0, 1739681599.526836),\n",
       " (913.0, 1739681599.5506718),\n",
       " (917.0, 1739681599.577301),\n",
       " (913.0, 1739681599.6052952),\n",
       " (910.0, 1739681599.630987),\n",
       " (915.0, 1739681599.6572108),\n",
       " (915.0, 1739681599.681797),\n",
       " (911.0, 1739681599.705041),\n",
       " (915.0, 1739681599.7316558),\n",
       " (917.0, 1739681599.756955),\n",
       " (907.0, 1739681599.784933),\n",
       " (913.0, 1739681599.8116422),\n",
       " (921.0, 1739681599.836031),\n",
       " (909.0, 1739681599.860357),\n",
       " (914.0, 1739681599.884468),\n",
       " (921.0, 1739681599.916777),\n",
       " (910.0, 1739681599.945787),\n",
       " (913.0, 1739681599.98121),\n",
       " (917.0, 1739681600.005763),\n",
       " (913.0, 1739681600.0525959),\n",
       " (915.0, 1739681600.10783),\n",
       " (916.0, 1739681600.134043),\n",
       " (915.0, 1739681600.157448),\n",
       " (911.0, 1739681600.1833658),\n",
       " (915.0, 1739681600.20733),\n",
       " (917.0, 1739681600.2326112),\n",
       " (909.0, 1739681600.2588),\n",
       " (915.0, 1739681600.284802),\n",
       " (922.0, 1739681600.3113348),\n",
       " (910.0, 1739681600.335861),\n",
       " (915.0, 1739681600.361985),\n",
       " (921.0, 1739681600.388642),\n",
       " (911.0, 1739681600.414268),\n",
       " (914.0, 1739681600.441275),\n",
       " (918.0, 1739681600.466435),\n",
       " (915.0, 1739681600.4929972),\n",
       " (915.0, 1739681600.51817),\n",
       " (915.0, 1739681600.5430331),\n",
       " (916.0, 1739681600.567955),\n",
       " (911.0, 1739681600.5920231),\n",
       " (915.0, 1739681600.625972),\n",
       " (919.0, 1739681600.678575),\n",
       " (911.0, 1739681600.702643),\n",
       " (913.0, 1739681600.730726),\n",
       " (916.0, 1739681600.75624),\n",
       " (909.0, 1739681600.78074),\n",
       " (913.0, 1739681600.8068988),\n",
       " (920.0, 1739681600.832396),\n",
       " (912.0, 1739681600.8578591),\n",
       " (913.0, 1739681600.8837109),\n",
       " (917.0, 1739681600.907416),\n",
       " (913.0, 1739681600.93228),\n",
       " (909.0, 1739681600.9589078),\n",
       " (915.0, 1739681600.986868),\n",
       " (916.0, 1739681601.0130408),\n",
       " (911.0, 1739681601.039288),\n",
       " (915.0, 1739681601.06476),\n",
       " (918.0, 1739681601.089195),\n",
       " (908.0, 1739681601.1158369),\n",
       " (909.0, 1739681601.1407528),\n",
       " (921.0, 1739681601.1656861),\n",
       " (907.0, 1739681601.191912),\n",
       " (913.0, 1739681601.217652),\n",
       " (919.0, 1739681601.244681),\n",
       " (911.0, 1739681601.271353),\n",
       " (911.0, 1739681601.3155131),\n",
       " (915.0, 1739681601.3449259),\n",
       " (916.0, 1739681601.371271),\n",
       " (911.0, 1739681601.394882),\n",
       " (914.0, 1739681601.417902),\n",
       " (916.0, 1739681601.443156),\n",
       " (910.0, 1739681601.469406),\n",
       " (913.0, 1739681601.494921),\n",
       " (916.0, 1739681601.521187),\n",
       " (909.0, 1739681601.5466611),\n",
       " (916.0, 1739681601.572842),\n",
       " (921.0, 1739681601.599375),\n",
       " (907.0, 1739681601.624566),\n",
       " (912.0, 1739681601.651694),\n",
       " (917.0, 1739681601.677918),\n",
       " (910.0, 1739681601.7042692),\n",
       " (911.0, 1739681601.730901),\n",
       " (916.0, 1739681601.755693),\n",
       " (915.0, 1739681601.780212),\n",
       " (910.0, 1739681601.806265),\n",
       " (914.0, 1739681601.8326368),\n",
       " (915.0, 1739681601.859218),\n",
       " (907.0, 1739681601.885395),\n",
       " (913.0, 1739681601.912048),\n",
       " (918.0, 1739681601.93873),\n",
       " (908.0, 1739681602.0120058),\n",
       " (913.0, 1739681602.039639),\n",
       " (918.0, 1739681602.065844),\n",
       " (907.0, 1739681602.092404),\n",
       " (911.0, 1739681602.117502),\n",
       " (915.0, 1739681602.1436422),\n",
       " (910.0, 1739681602.169896),\n",
       " (912.0, 1739681602.19486),\n",
       " (915.0, 1739681602.2208152),\n",
       " (912.0, 1739681602.244899),\n",
       " (909.0, 1739681602.267658),\n",
       " (913.0, 1739681602.293227),\n",
       " (915.0, 1739681602.317395),\n",
       " (906.0, 1739681602.343837),\n",
       " (913.0, 1739681602.368296),\n",
       " (918.0, 1739681602.394413),\n",
       " (905.0, 1739681602.421109),\n",
       " (911.0, 1739681602.446505),\n",
       " (918.0, 1739681602.472146),\n",
       " (908.0, 1739681602.496701),\n",
       " (911.0, 1739681602.523359),\n",
       " (915.0, 1739681602.549571),\n",
       " (912.0, 1739681602.5760891),\n",
       " (910.0, 1739681602.602292),\n",
       " (915.0, 1739681602.628172),\n",
       " (912.0, 1739681602.717),\n",
       " (909.0, 1739681602.750572),\n",
       " (913.0, 1739681602.779208),\n",
       " (915.0, 1739681602.806928),\n",
       " (907.0, 1739681602.833169),\n",
       " (913.0, 1739681602.8571022),\n",
       " (915.0, 1739681602.882606),\n",
       " (904.0, 1739681602.9103732),\n",
       " (913.0, 1739681602.934724),\n",
       " (919.0, 1739681602.960502),\n",
       " (910.0, 1739681602.984891),\n",
       " (912.0, 1739681603.010495),\n",
       " (917.0, 1739681603.0346072),\n",
       " (914.0, 1739681603.059791),\n",
       " (911.0, 1739681603.0854),\n",
       " (914.0, 1739681603.108114),\n",
       " (916.0, 1739681603.133537),\n",
       " (912.0, 1739681603.159842),\n",
       " (915.0, 1739681603.186191),\n",
       " (919.0, 1739681603.2122838),\n",
       " (911.0, 1739681603.239174),\n",
       " (914.0, 1739681603.2652009),\n",
       " (916.0, 1739681603.290675),\n",
       " (911.0, 1739681603.315899),\n",
       " (914.0, 1739681603.338699),\n",
       " (920.0, 1739681603.361587),\n",
       " (913.0, 1739681603.388393),\n",
       " (913.0, 1739681603.418158),\n",
       " (915.0, 1739681603.481663),\n",
       " (914.0, 1739681603.507879),\n",
       " (915.0, 1739681603.5328069),\n",
       " (916.0, 1739681603.557973),\n",
       " (917.0, 1739681603.583453),\n",
       " (911.0, 1739681603.6101801),\n",
       " (915.0, 1739681603.636207),\n",
       " (919.0, 1739681603.6624901),\n",
       " (909.0, 1739681603.688802),\n",
       " (915.0, 1739681603.715163),\n",
       " (920.0, 1739681603.74144),\n",
       " (909.0, 1739681603.764617),\n",
       " (913.0, 1739681603.790548),\n",
       " (919.0, 1739681603.81675),\n",
       " (913.0, 1739681603.840673),\n",
       " (912.0, 1739681603.8654752),\n",
       " (918.0, 1739681603.8911161),\n",
       " (915.0, 1739681603.9172559),\n",
       " (917.0, 1739681603.9434838),\n",
       " (916.0, 1739681603.969702),\n",
       " (917.0, 1739681603.997254),\n",
       " (910.0, 1739681604.0227041),\n",
       " (914.0, 1739681604.0490031),\n",
       " (919.0, 1739681604.099823),\n",
       " (909.0, 1739681604.144463),\n",
       " (917.0, 1739681604.169133),\n",
       " (919.0, 1739681604.194855),\n",
       " (909.0, 1739681604.221459),\n",
       " (913.0, 1739681604.247533),\n",
       " (918.0, 1739681604.273569),\n",
       " (913.0, 1739681604.29894),\n",
       " (911.0, 1739681604.32398),\n",
       " (916.0, 1739681604.3491101),\n",
       " (919.0, 1739681604.3753421),\n",
       " (914.0, 1739681604.401531),\n",
       " (915.0, 1739681604.427326),\n",
       " (917.0, 1739681604.452618),\n",
       " (910.0, 1739681604.478873),\n",
       " (913.0, 1739681604.5048509),\n",
       " (919.0, 1739681604.5312371),\n",
       " (912.0, 1739681604.558312),\n",
       " (913.0, 1739681604.601313),\n",
       " (921.0, 1739681604.651385),\n",
       " (909.0, 1739681604.677498),\n",
       " (913.0, 1739681604.704191),\n",
       " (917.0, 1739681604.728954),\n",
       " (913.0, 1739681604.753881),\n",
       " (914.0, 1739681604.778858),\n",
       " (916.0, 1739681604.8007522),\n",
       " (917.0, 1739681604.825993),\n",
       " (911.0, 1739681604.850562),\n",
       " (915.0, 1739681604.8767328),\n",
       " (917.0, 1739681604.902078),\n",
       " (909.0, 1739681604.927812),\n",
       " (915.0, 1739681604.949493),\n",
       " (919.0, 1739681604.974242),\n",
       " (907.0, 1739681604.996636),\n",
       " (909.0, 1739681605.0230029),\n",
       " (920.0, 1739681605.047967),\n",
       " (911.0, 1739681605.073248),\n",
       " (913.0, 1739681605.122916),\n",
       " (917.0, 1739681605.156769),\n",
       " (913.0, 1739681605.182477),\n",
       " (912.0, 1739681605.208833),\n",
       " (912.0, 1739681605.235029),\n",
       " (914.0, 1739681605.2595599),\n",
       " (910.0, 1739681605.285459),\n",
       " (914.0, 1739681605.309634),\n",
       " (917.0, 1739681605.3360739),\n",
       " (909.0, 1739681605.360802),\n",
       " (915.0, 1739681605.3875468),\n",
       " (917.0, 1739681605.413861),\n",
       " (907.0, 1739681605.440088),\n",
       " (911.0, 1739681605.4662771),\n",
       " (919.0, 1739681605.491154),\n",
       " (911.0, 1739681605.517652),\n",
       " (912.0, 1739681605.5438862),\n",
       " (916.0, 1739681605.570305),\n",
       " (914.0, 1739681605.597099),\n",
       " (909.0, 1739681605.641685),\n",
       " (914.0, 1739681605.6785002),\n",
       " (915.0, 1739681605.704779),\n",
       " (910.0, 1739681605.731435),\n",
       " (913.0, 1739681605.756006),\n",
       " (917.0, 1739681605.782304),\n",
       " (909.0, 1739681605.807486),\n",
       " (914.0, 1739681605.8338392),\n",
       " (915.0, 1739681605.860255),\n",
       " (907.0, 1739681605.886474),\n",
       " (913.0, 1739681605.912621),\n",
       " (918.0, 1739681605.939224),\n",
       " (910.0, 1739681605.963315),\n",
       " (911.0, 1739681605.9896839),\n",
       " (916.0, 1739681606.015251),\n",
       " (913.0, 1739681606.040653),\n",
       " (908.0, 1739681606.0671139),\n",
       " (911.0, 1739681606.093333),\n",
       " (914.0, 1739681606.1631181),\n",
       " (909.0, 1739681606.193537),\n",
       " (913.0, 1739681606.219912),\n",
       " (918.0, 1739681606.244318),\n",
       " (908.0, 1739681606.270518),\n",
       " (909.0, 1739681606.293597),\n",
       " (913.0, 1739681606.3197062),\n",
       " (907.0, 1739681606.3459),\n",
       " (911.0, 1739681606.37295),\n",
       " (916.0, 1739681606.397666),\n",
       " (911.0, 1739681606.4274392),\n",
       " (911.0, 1739681606.453612),\n",
       " (913.0, 1739681606.475174),\n",
       " (911.0, 1739681606.5021598),\n",
       " (909.0, 1739681606.5283961),\n",
       " (913.0, 1739681606.554925),\n",
       " (914.0, 1739681606.5811079),\n",
       " (907.0, 1739681606.650075),\n",
       " (913.0, 1739681606.6770911),\n",
       " (917.0, 1739681606.70301),\n",
       " (906.0, 1739681606.726936),\n",
       " (907.0, 1739681606.75313),\n",
       " (920.0, 1739681606.778102),\n",
       " (907.0, 1739681606.8050601),\n",
       " (911.0, 1739681606.8280609),\n",
       " (916.0, 1739681606.8555362),\n",
       " (911.0, 1739681606.881134),\n",
       " (910.0, 1739681606.907278),\n",
       " (913.0, 1739681606.934507),\n",
       " (916.0, 1739681606.960211),\n",
       " (909.0, 1739681606.987828),\n",
       " (913.0, 1739681607.0141928),\n",
       " (915.0, 1739681607.040417),\n",
       " (907.0, 1739681607.0672362),\n",
       " (912.0, 1739681607.111201),\n",
       " (915.0, 1739681607.159959),\n",
       " (907.0, 1739681607.186184),\n",
       " (915.0, 1739681607.212886),\n",
       " (920.0, 1739681607.2384949),\n",
       " (907.0, 1739681607.264738),\n",
       " (911.0, 1739681607.290596),\n",
       " (915.0, 1739681607.317019),\n",
       " (910.0, 1739681607.343353),\n",
       " (910.0, 1739681607.370825),\n",
       " (915.0, 1739681607.397079),\n",
       " (913.0, 1739681607.422775),\n",
       " (909.0, 1739681607.454268),\n",
       " (912.0, 1739681607.4810581),\n",
       " (915.0, 1739681607.511317),\n",
       " (907.0, 1739681607.538176),\n",
       " (912.0, 1739681607.5625658),\n",
       " (917.0, 1739681607.5895622),\n",
       " (908.0, 1739681607.624734),\n",
       " (914.0, 1739681607.688944),\n",
       " (918.0, 1739681607.715193),\n",
       " (910.0, 1739681607.7406971),\n",
       " (912.0, 1739681607.766909),\n",
       " (916.0, 1739681607.793557),\n",
       " (913.0, 1739681607.819551),\n",
       " (913.0, 1739681607.8458502),\n",
       " (914.0, 1739681607.872195),\n",
       " (911.0, 1739681607.899117),\n",
       " (912.0, 1739681607.921897),\n",
       " (915.0, 1739681607.947893),\n",
       " (919.0, 1739681607.971786),\n",
       " (911.0, 1739681607.998326),\n",
       " (916.0, 1739681608.024493),\n",
       " (920.0, 1739681608.0487008),\n",
       " (910.0, 1739681608.072159),\n",
       " (913.0, 1739681608.0987048),\n",
       " (921.0, 1739681608.124373),\n",
       " (913.0, 1739681608.182219),\n",
       " (914.0, 1739681608.210131),\n",
       " (917.0, 1739681608.23524),\n",
       " (914.0, 1739681608.261442),\n",
       " (913.0, 1739681608.2876348),\n",
       " (918.0, 1739681608.313545),\n",
       " (919.0, 1739681608.339902),\n",
       " (912.0, 1739681608.3678741),\n",
       " (915.0, 1739681608.3940039),\n",
       " (919.0, 1739681608.4203362),\n",
       " (910.0, 1739681608.446561),\n",
       " (915.0, 1739681608.472231),\n",
       " (920.0, 1739681608.497826),\n",
       " (910.0, 1739681608.524224),\n",
       " (917.0, 1739681608.550698),\n",
       " (919.0, 1739681608.576077),\n",
       " (913.0, 1739681608.602379),\n",
       " (914.0, 1739681608.638141),\n",
       " (916.0, 1739681608.675041),\n",
       " (916.0, 1739681608.701042),\n",
       " (913.0, 1739681608.726472),\n",
       " (913.0, 1739681608.752764),\n",
       " (913.0, 1739681608.777629),\n",
       " (911.0, 1739681608.803562),\n",
       " (915.0, 1739681608.828684),\n",
       " (919.0, 1739681608.8551009),\n",
       " (909.0, 1739681608.878934),\n",
       " (913.0, 1739681608.906181),\n",
       " (919.0, 1739681608.931642),\n",
       " (909.0, 1739681608.956815),\n",
       " (911.0, 1739681608.9885561),\n",
       " (918.0, 1739681609.023453),\n",
       " (912.0, 1739681609.050647),\n",
       " (912.0, 1739681609.0836842),\n",
       " (915.0, 1739681609.1438599),\n",
       " (914.0, 1739681609.1753862),\n",
       " (910.0, 1739681609.200673),\n",
       " (913.0, 1739681609.2256079),\n",
       " (921.0, 1739681609.251789),\n",
       " (909.0, 1739681609.2781749),\n",
       " (914.0, 1739681609.3043258),\n",
       " (919.0, 1739681609.3270762),\n",
       " (909.0, 1739681609.355077),\n",
       " (913.0, 1739681609.379918),\n",
       " (920.0, 1739681609.405149),\n",
       " (910.0, 1739681609.430149),\n",
       " (915.0, 1739681609.4564989),\n",
       " (916.0, 1739681609.482843),\n",
       " (913.0, 1739681609.507277),\n",
       " (913.0, 1739681609.546477),\n",
       " (915.0, 1739681609.5874372),\n",
       " (914.0, 1739681609.6138082),\n",
       " (913.0, 1739681609.640008),\n",
       " (917.0, 1739681609.666228),\n",
       " (915.0, 1739681609.692489),\n",
       " (909.0, 1739681609.719431),\n",
       " (914.0, 1739681609.744492),\n",
       " (918.0, 1739681609.770974),\n",
       " (909.0, 1739681609.796549),\n",
       " (914.0, 1739681609.8234031),\n",
       " (920.0, 1739681609.848747),\n",
       " (907.0, 1739681609.873921),\n",
       " (912.0, 1739681609.900383),\n",
       " (916.0, 1739681609.926995),\n",
       " (913.0, 1739681609.9532201),\n",
       " (911.0, 1739681609.989862),\n",
       " (914.0, 1739681610.046062),\n",
       " (916.0, 1739681610.0717251),\n",
       " (909.0, 1739681610.098497),\n",
       " (909.0, 1739681610.123817),\n",
       " (916.0, 1739681610.1490839),\n",
       " (908.0, 1739681610.175065),\n",
       " (913.0, 1739681610.200733),\n",
       " (917.0, 1739681610.227072),\n",
       " (909.0, 1739681610.251344),\n",
       " (911.0, 1739681610.277418),\n",
       " (917.0, 1739681610.303126),\n",
       " (909.0, 1739681610.329706),\n",
       " (911.0, 1739681610.35601),\n",
       " (915.0, 1739681610.3825011),\n",
       " (913.0, 1739681610.4088588),\n",
       " (912.0, 1739681610.481909),\n",
       " (913.0, 1739681610.509151),\n",
       " (914.0, 1739681610.535509),\n",
       " (910.0, 1739681610.5599492),\n",
       " (915.0, 1739681610.58439),\n",
       " (917.0, 1739681610.610682),\n",
       " (908.0, 1739681610.637621),\n",
       " (913.0, 1739681610.663906),\n",
       " (918.0, 1739681610.690471),\n",
       " (906.0, 1739681610.7166138),\n",
       " (911.0, 1739681610.740834),\n",
       " (917.0, 1739681610.7659059),\n",
       " (914.0, 1739681610.790507),\n",
       " (911.0, 1739681610.815132),\n",
       " (915.0, 1739681610.8394828),\n",
       " (912.0, 1739681610.865649),\n",
       " (910.0, 1739681610.9055119),\n",
       " (913.0, 1739681610.933923),\n",
       " (914.0, 1739681610.958849),\n",
       " (911.0, 1739681610.98508),\n",
       " (913.0, 1739681611.011353),\n",
       " (916.0, 1739681611.0399191),\n",
       " (907.0, 1739681611.064773),\n",
       " (912.0, 1739681611.0890791),\n",
       " (917.0, 1739681611.1147678),\n",
       " (905.0, 1739681611.14049),\n",
       " (912.0, 1739681611.165641),\n",
       " (919.0, 1739681611.1920671),\n",
       " (912.0, 1739681611.2182112),\n",
       " (911.0, 1739681611.244182),\n",
       " (913.0, 1739681611.269152),\n",
       " (913.0, 1739681611.313609),\n",
       " (909.0, 1739681611.365958),\n",
       " (913.0, 1739681611.390506),\n",
       " (916.0, 1739681611.415096),\n",
       " (910.0, 1739681611.440156),\n",
       " (912.0, 1739681611.4682398),\n",
       " (917.0, 1739681611.494407),\n",
       " (907.0, 1739681611.52107),\n",
       " (911.0, 1739681611.546744),\n",
       " (918.0, 1739681611.5729878),\n",
       " (907.0, 1739681611.599477),\n",
       " (912.0, 1739681611.6241658),\n",
       " (916.0, 1739681611.650469),\n",
       " (910.0, 1739681611.676159),\n",
       " (910.0, 1739681611.70072),\n",
       " (913.0, 1739681611.725507),\n",
       " (913.0, 1739681611.750475),\n",
       " (907.0, 1739681611.775678),\n",
       " (914.0, 1739681611.8254561),\n",
       " (918.0, 1739681611.854452),\n",
       " (906.0, 1739681611.878936),\n",
       " (913.0, 1739681611.905192),\n",
       " (917.0, 1739681611.931592),\n",
       " (908.0, 1739681611.958354),\n",
       " (913.0, 1739681611.9826932),\n",
       " (920.0, 1739681612.0100548),\n",
       " (911.0, 1739681612.0337799),\n",
       " (911.0, 1739681612.059218),\n",
       " (917.0, 1739681612.085425),\n",
       " (913.0, 1739681612.1095989),\n",
       " (912.0, 1739681612.1363468),\n",
       " (915.0, 1739681612.163073),\n",
       " (915.0, 1739681612.189622),\n",
       " (913.0, 1739681612.254519),\n",
       " (915.0, 1739681612.280973),\n",
       " (918.0, 1739681612.307316),\n",
       " (907.0, 1739681612.331439),\n",
       " (914.0, 1739681612.357122),\n",
       " (918.0, 1739681612.3814662),\n",
       " (909.0, 1739681612.4073238),\n",
       " (914.0, 1739681612.432509),\n",
       " (920.0, 1739681612.457102),\n",
       " (908.0, 1739681612.4837198),\n",
       " (909.0, 1739681612.509831),\n",
       " (917.0, 1739681612.534485),\n",
       " (914.0, 1739681612.560904),\n",
       " (913.0, 1739681612.58719),\n",
       " (915.0, 1739681612.62501),\n",
       " (916.0, 1739681612.675436),\n",
       " (911.0, 1739681612.7004302),\n",
       " (912.0, 1739681612.728381),\n",
       " (916.0, 1739681612.754712),\n",
       " (909.0, 1739681612.780054),\n",
       " (914.0, 1739681612.804102),\n",
       " (918.0, 1739681612.830493),\n",
       " (909.0, 1739681612.855306),\n",
       " (912.0, 1739681612.881394),\n",
       " (918.0, 1739681612.904737),\n",
       " (906.0, 1739681612.93137),\n",
       " (911.0, 1739681612.957661),\n",
       " (915.0, 1739681612.982701),\n",
       " (913.0, 1739681613.0087838),\n",
       " (912.0, 1739681613.060118),\n",
       " (915.0, 1739681613.107237),\n",
       " (914.0, 1739681613.132857),\n",
       " (908.0, 1739681613.157126),\n",
       " (915.0, 1739681613.1814988),\n",
       " (917.0, 1739681613.205377),\n",
       " (908.0, 1739681613.231955),\n",
       " (913.0, 1739681613.2574751),\n",
       " (918.0, 1739681613.284116),\n",
       " (907.0, 1739681613.309431),\n",
       " (912.0, 1739681613.3344698),\n",
       " (918.0, 1739681613.3588312),\n",
       " (911.0, 1739681613.38229),\n",
       " (912.0, 1739681613.40896),\n",
       " (915.0, 1739681613.4341068),\n",
       " (913.0, 1739681613.476846),\n",
       " (912.0, 1739681613.519208),\n",
       " (913.0, 1739681613.547297),\n",
       " (914.0, 1739681613.574732),\n",
       " (909.0, 1739681613.598762),\n",
       " (917.0, 1739681613.622135),\n",
       " (918.0, 1739681613.6484978),\n",
       " (909.0, 1739681613.672694),\n",
       " (913.0, 1739681613.699203),\n",
       " (918.0, 1739681613.7259321),\n",
       " (907.0, 1739681613.752233),\n",
       " (912.0, 1739681613.7791958),\n",
       " (921.0, 1739681613.805381),\n",
       " (911.0, 1739681613.832535),\n",
       " (912.0, 1739681613.8587651),\n",
       " (915.0, 1739681613.885798),\n",
       " (914.0, 1739681613.932777),\n",
       " (911.0, 1739681613.9606972),\n",
       " (913.0, 1739681613.987217),\n",
       " (916.0, 1739681614.01351),\n",
       " (911.0, 1739681614.03982),\n",
       " (914.0, 1739681614.0624661),\n",
       " (917.0, 1739681614.0854359),\n",
       " (909.0, 1739681614.11281),\n",
       " (913.0, 1739681614.139094),\n",
       " (917.0, 1739681614.1648629),\n",
       " (907.0, 1739681614.190664),\n",
       " (912.0, 1739681614.214723),\n",
       " (920.0, 1739681614.241131),\n",
       " (912.0, 1739681614.265237),\n",
       " (911.0, 1739681614.288387),\n",
       " (914.0, 1739681614.3471959),\n",
       " (913.0, 1739681614.372465),\n",
       " (909.0, 1739681614.399874),\n",
       " (913.0, 1739681614.4247081),\n",
       " (918.0, 1739681614.449887),\n",
       " (907.0, 1739681614.476564),\n",
       " (913.0, 1739681614.5013719),\n",
       " (917.0, 1739681614.526174),\n",
       " (908.0, 1739681614.550998),\n",
       " (911.0, 1739681614.577528),\n",
       " (917.0, 1739681614.604021),\n",
       " (908.0, 1739681614.630743),\n",
       " (913.0, 1739681614.6567261),\n",
       " (915.0, 1739681614.683344),\n",
       " (911.0, 1739681614.7077398),\n",
       " (912.0, 1739681614.7752728),\n",
       " (913.0, 1739681614.8032398),\n",
       " (912.0, 1739681614.830297),\n",
       " (909.0, 1739681614.8565629),\n",
       " (911.0, 1739681614.8822331),\n",
       " (919.0, 1739681614.9086),\n",
       " (907.0, 1739681614.9361322),\n",
       " (912.0, 1739681614.962708),\n",
       " (917.0, 1739681614.98829),\n",
       " (907.0, 1739681615.014546),\n",
       " (911.0, 1739681615.040973),\n",
       " (918.0, 1739681615.067729),\n",
       " (911.0, 1739681615.094358),\n",
       " (911.0, 1739681615.119072),\n",
       " (915.0, 1739681615.148971),\n",
       " (911.0, 1739681615.233054),\n",
       " (911.0, 1739681615.294554),\n",
       " (913.0, 1739681615.327871),\n",
       " (912.0, 1739681615.352679),\n",
       " (910.0, 1739681615.378668),\n",
       " (916.0, 1739681615.405463),\n",
       " (918.0, 1739681615.434137),\n",
       " (907.0, 1739681615.461859),\n",
       " (912.0, 1739681615.487798),\n",
       " (917.0, 1739681615.5156),\n",
       " (905.0, 1739681615.540432),\n",
       " (911.0, 1739681615.564784),\n",
       " (921.0, 1739681615.592182),\n",
       " (910.0, 1739681615.6165068),\n",
       " (911.0, 1739681615.659873),\n",
       " (914.0, 1739681615.6935492),\n",
       " (911.0, 1739681615.721937),\n",
       " (909.0, 1739681615.748277),\n",
       " (913.0, 1739681615.773076),\n",
       " (914.0, 1739681615.79922),\n",
       " (909.0, 1739681615.825417),\n",
       " (914.0, 1739681615.8511941),\n",
       " (915.0, 1739681615.877894),\n",
       " (907.0, 1739681615.90191),\n",
       " (911.0, 1739681615.9275599),\n",
       " (915.0, 1739681615.954303),\n",
       " (906.0, 1739681615.980799),\n",
       " (912.0, 1739681616.0060859),\n",
       " (916.0, 1739681616.040237),\n",
       " (908.0, 1739681616.08802),\n",
       " (911.0, 1739681616.1137211),\n",
       " (913.0, 1739681616.137573),\n",
       " (913.0, 1739681616.162997),\n",
       " (911.0, 1739681616.189455),\n",
       " (915.0, 1739681616.213758),\n",
       " (917.0, 1739681616.240062),\n",
       " (907.0, 1739681616.264964),\n",
       " (914.0, 1739681616.289301),\n",
       " (918.0, 1739681616.315327)]"
      ]
     },
     "execution_count": 41,
     "metadata": {},
     "output_type": "execute_result"
    }
   ],
   "source": [
    "raw_signals"
   ]
  },
  {
   "cell_type": "code",
   "execution_count": 42,
   "metadata": {},
   "outputs": [],
   "source": [
    "import pickle"
   ]
  },
  {
   "cell_type": "code",
   "execution_count": 43,
   "metadata": {},
   "outputs": [],
   "source": [
    "pickle.dump(raw_signals, open('raw_signals.pkl', 'wb'))"
   ]
  },
  {
   "cell_type": "code",
   "execution_count": null,
   "metadata": {},
   "outputs": [],
   "source": [
    "# read pickle file\n",
    "raw_signals = pickle.load(open('raw_signals.pkl', 'rb'))"
   ]
  }
 ],
 "metadata": {
  "kernelspec": {
   "display_name": ".venv",
   "language": "python",
   "name": "python3"
  },
  "language_info": {
   "codemirror_mode": {
    "name": "ipython",
    "version": 3
   },
   "file_extension": ".py",
   "mimetype": "text/x-python",
   "name": "python",
   "nbconvert_exporter": "python",
   "pygments_lexer": "ipython3",
   "version": "3.11.6"
  }
 },
 "nbformat": 4,
 "nbformat_minor": 2
}
