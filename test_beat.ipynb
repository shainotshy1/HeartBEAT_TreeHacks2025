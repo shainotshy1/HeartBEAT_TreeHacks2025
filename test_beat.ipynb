{
 "cells": [
  {
   "cell_type": "code",
   "execution_count": 1,
   "metadata": {},
   "outputs": [],
   "source": [
    "from beat_constructor import Note, Beat, BeatLayer, BeatBar, BPM_Manager, WavSample, SampleLibrary, TimeSignature"
   ]
  },
  {
   "cell_type": "code",
   "execution_count": 2,
   "metadata": {},
   "outputs": [],
   "source": [
    "time_signature = TimeSignature(4, 4)\n",
    "base_time = Note.THIRTYSECOND\n",
    "bar0_0 = BeatBar(time_signature, base_time)\n",
    "bars0 = [bar0_0]\n",
    "layer0 = BeatLayer(bars0)\n",
    "layers = [layer0]\n",
    "beat = Beat(layers)"
   ]
  },
  {
   "cell_type": "code",
   "execution_count": 13,
   "metadata": {},
   "outputs": [],
   "source": [
    "from playsound import playsound\n",
    "\n",
    "bpm = 60\n",
    "metronome_fn = '00.wav'\n",
    "metronome_sample = WavSample(Note.QUARTER, \"Metronome\", metronome_fn)\n",
    "bpm_manager = BPM_Manager(bpm, metronome_sample=metronome_sample, beat_note=Note.QUARTER, base_unit=Note.THIRTYSECOND)"
   ]
  },
  {
   "cell_type": "code",
   "execution_count": 15,
   "metadata": {},
   "outputs": [
    {
     "name": "stdout",
     "output_type": "stream",
     "text": [
      "00.wav\n"
     ]
    }
   ],
   "source": [
    "print(metronome_fn)\n",
    "#playsound(metronome_fn')\n",
    "#bpm_manager.play()"
   ]
  },
  {
   "cell_type": "code",
   "execution_count": null,
   "metadata": {},
   "outputs": [],
   "source": []
  }
 ],
 "metadata": {
  "kernelspec": {
   "display_name": "Python 3",
   "language": "python",
   "name": "python3"
  },
  "language_info": {
   "codemirror_mode": {
    "name": "ipython",
    "version": 3
   },
   "file_extension": ".py",
   "mimetype": "text/x-python",
   "name": "python",
   "nbconvert_exporter": "python",
   "pygments_lexer": "ipython3",
   "version": "3.12.3"
  }
 },
 "nbformat": 4,
 "nbformat_minor": 2
}
